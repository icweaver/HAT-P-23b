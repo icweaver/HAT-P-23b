{
 "cells": [
  {
   "cell_type": "markdown",
   "id": "based-charger",
   "metadata": {},
   "source": [
    "# Forward model corner plot"
   ]
  },
  {
   "cell_type": "markdown",
   "id": "approved-sound",
   "metadata": {},
   "source": [
    "## Setup"
   ]
  },
  {
   "cell_type": "code",
   "execution_count": 1,
   "id": "charged-transaction",
   "metadata": {},
   "outputs": [],
   "source": [
    "%load_ext autoreload\n",
    "%autoreload 2"
   ]
  },
  {
   "cell_type": "code",
   "execution_count": 2,
   "id": "stable-large",
   "metadata": {},
   "outputs": [],
   "source": [
    "import glob as glob\n",
    "import matplotlib as mpl\n",
    "import matplotlib.patheffects as PathEffects\n",
    "import matplotlib.pyplot as plt\n",
    "import matplotlib.transforms as transforms\n",
    "import numpy as np\n",
    "import pandas as pd\n",
    "import seaborn as sns\n",
    "\n",
    "import corner\n",
    "import json\n",
    "import pathlib\n",
    "import pickle\n",
    "import utils\n",
    "import warnings\n",
    "import itertools\n",
    "\n",
    "from astropy import constants as const\n",
    "from astropy import units as uni\n",
    "from astropy.io import ascii, fits\n",
    "from astropy.time import Time\n",
    "from mpl_toolkits.axes_grid1 import ImageGrid\n",
    "from scipy.interpolate import griddata\n",
    "\n",
    "# Default figure dimensions\n",
    "FIG_WIDE = (11, 5)\n",
    "FIG_LARGE = (8, 11)\n",
    "FIG_SQUARE = (10, 10)\n",
    "\n",
    "# Figure style\n",
    "sns.set(style=\"ticks\", palette=\"colorblind\", color_codes=True, context=\"talk\")\n",
    "params = utils.plot_params()\n",
    "plt.rcParams.update(params)"
   ]
  },
  {
   "cell_type": "markdown",
   "id": "characteristic-geology",
   "metadata": {},
   "source": [
    "## Load"
   ]
  },
  {
   "cell_type": "code",
   "execution_count": 3,
   "id": "special-navigator",
   "metadata": {},
   "outputs": [],
   "source": [
    "base_dir = \"data/tspec_forward_model_corner\"\n",
    "target = \"HAT-P-23\"\n",
    "data_dict = {\n",
    "    # Matrix of chisq values: N_models x N_iterations?\n",
    "    \"chisq\": np.loadtxt(f\"{base_dir}/{target}_iso_chi_square_local_GAIA_DR2.out\", delimiter=','),\n",
    "    #\"offset\":      np.loadtxt(f\"{base_dir}/{target}_iso_offsetarray_local_GAIA_DR2.out\", delimiter=','),\n",
    "    # Corresponding matrix of parameter values: N_models x N_params\n",
    "    \"model_params\":  np.genfromtxt(\n",
    "        f\"{base_dir}/{target}_iso_model_name_local_GAIA_DR2.out\",\n",
    "        delimiter = '_',\n",
    "        usecols = range(1, 7),\n",
    "        names = [\"Temperature\", \"Gravity\", \"Metallicity\", r\"C/O-ratio\", \"Haze\", \"Clouds\"],\n",
    "        deletechars='',\n",
    "    ),\n",
    "}\n",
    "\n",
    "# Get min chisq \n",
    "# Model Parameters: (temp, gravity, metal, co, haze, cloud)\n",
    "chi_squared_stat3 = data_dict[\"chisq\"]\n",
    "min_chi3 = np.min(chi_squared_stat3)\n",
    "min_coords = np.argwhere(chi_squared_stat3 == min_chi3)[0]\n",
    "min_index_chi3 = min_coords[0]\n",
    "min_index_chi3_offset = min_coords[1]\n",
    "model_params = data_dict[\"model_params\"]\n",
    "min_model_params = model_params[min_index_chi3]"
   ]
  },
  {
   "cell_type": "markdown",
   "id": "russian-terry",
   "metadata": {},
   "source": [
    "## Compute"
   ]
  },
  {
   "cell_type": "code",
   "execution_count": 4,
   "id": "accomplished-limitation",
   "metadata": {},
   "outputs": [],
   "source": [
    "# Returns `mapname`, where `mapname` is an N_matches x 3 array.\n",
    "# The first column is the matching `param_x`, second is the matching `param_y`\n",
    "# and the third column is the associated chisq (`chi2`)\n",
    "def match_params(\n",
    "    params_ranges,\n",
    "    variablex,\n",
    "    variabley,\n",
    "    i,\n",
    "    j,\n",
    "    params=model_params,\n",
    "    chi_vals=chi_squared_stat3,\n",
    "    min_chi=min_chi3,\n",
    "):\n",
    "    # Select parameter pair to search for\n",
    "    param_val_1, param_val_2 = param_ranges[variablex][i], param_ranges[variabley][j]\n",
    "    \n",
    "    # Match to chi_squared array\n",
    "    #print(f\"Trying match for ({variablex}, {variabley}) at ({param_val_1}, {param_val_2})\")\n",
    "    #print(params[variablex], params[variabley])\n",
    "    params_match = np.where((params[variablex] == param_val_1) & (params[variabley] == param_val_2))[0]\n",
    "    \n",
    "    if params_match.size == 0:\n",
    "        #print(\"No match\\n\")\n",
    "        return -1\n",
    "\n",
    "    # Compute \n",
    "    chi1 = np.min(chi_vals[params_match], axis=1)\n",
    "    chi2 = np.min(chi1) - min_chi3\n",
    "    mapname = [param_val_1, param_val_2, chi2]\n",
    "    #print(\"Match!\\n\")\n",
    "    return mapname"
   ]
  },
  {
   "cell_type": "code",
   "execution_count": 5,
   "id": "qualified-concord",
   "metadata": {},
   "outputs": [],
   "source": [
    "#############################\n",
    "# Match param values to chisq\n",
    "#############################\n",
    "param_ranges = {\n",
    "    \"Temperature\": np.arange(400, 2700, 100.0),\n",
    "    \"Gravity\": np.array([20, 50.0]),\n",
    "    \"Metallicity\": np.array([-1, 0, 1, 1.7, 2, 2.3]),\n",
    "    \"C/O-ratio\": np.array([0.35, 0.56, 0.70, 1]),\n",
    "    \"Haze\": np.array([1, 10, 150, 1100.0]) ,\n",
    "    \"Clouds\": np.array([0, 0.06, 0.2, 1]), # Cloud bottom\n",
    "}\n",
    "map_dict = {}\n",
    "for param_x, param_y in itertools.combinations(param_ranges.items(), 2):\n",
    "    param_x_name, param_y_name = param_x[0], param_y[0]\n",
    "    param_x_length, param_y_length = len(param_x[1]), len(param_y[1])\n",
    "    map_vals = np.array([\n",
    "        match_params(param_ranges, param_x_name, param_y_name, i, j)\n",
    "        for i in range(param_x_length) for j in range(param_y_length)\n",
    "    ])\n",
    "    \n",
    "    map_dict[f\"{param_x_name}_{param_y_name}\"] = map_vals\n",
    "\n",
    "# Switching to row-major for plotting later, because Python\n",
    "param_ys = [\n",
    "    \"_Gravity\",\n",
    "    \"_Metallicity\",\n",
    "    \"_C/O-ratio\",\n",
    "    \"_Haze\",\n",
    "    \"_Clouds\",\n",
    "]\n",
    "map_dict_RM = {}\n",
    "for param_y in param_ys:\n",
    "    for k in map_dict.keys():\n",
    "        if param_y in k:\n",
    "            map_dict_RM[k] = map_dict[k]"
   ]
  },
  {
   "cell_type": "markdown",
   "id": "naughty-content",
   "metadata": {},
   "source": [
    "## Plot"
   ]
  },
  {
   "cell_type": "code",
   "execution_count": 6,
   "id": "demonstrated-poison",
   "metadata": {},
   "outputs": [],
   "source": [
    "def plot_contour_map(ax, mapname, **kwargs):\n",
    "    map_variable_x = mapname[:, 0]\n",
    "    map_variable_y = mapname[:, 1]\n",
    "    xi = np.linspace(min(map_variable_x), max(map_variable_x), 100)\n",
    "    yi = np.linspace(min(map_variable_y), max(map_variable_y), 100)\n",
    "\n",
    "    Z_interp = griddata(\n",
    "        (map_variable_x, map_variable_y),\n",
    "        mapname[:, 2],\n",
    "        (xi[None, :], yi[:, None]),\n",
    "    )\n",
    "\n",
    "    p = ax.contourf(xi, yi, Z_interp, levels, **kwargs)\n",
    "    \n",
    "    return p"
   ]
  },
  {
   "cell_type": "code",
   "execution_count": 7,
   "id": "neither-quebec",
   "metadata": {
    "scrolled": true
   },
   "outputs": [
    {
     "data": {
      "image/png": "[encoded data removed]",
      "text/plain": [
       "<Figure size 720x720 with 16 Axes>"
      ]
     },
     "metadata": {},
     "output_type": "display_data"
    }
   ],
   "source": [
    "fig, axes = plt.subplots(5, 5, figsize=FIG_SQUARE)\n",
    "\n",
    "# Contour plot settings\n",
    "cmap = \"afmhot\"\n",
    "# How many free parameters were used to calculate these intervals from the big chisquare table\n",
    "levels = [\n",
    "        0,\n",
    "        2.30,\n",
    "        6.18,\n",
    "        11.83,\n",
    "        19.33,\n",
    "]\n",
    "vmin, vmax = 0, 25\n",
    "\n",
    "# Delete upper triangle of subplots\n",
    "[fig.delaxes(axes[i, j]) for i in range(5) for j in range(i, 5) if i != j]\n",
    "\n",
    "# Plot contours\n",
    "for ax, (pair_name, mapdata) in zip(fig.axes, map_dict_RM.items()):\n",
    "    line2 = plot_contour_map(ax, mapdata, cmap=cmap, levels=levels, vmin=vmin, vmax=vmax)\n",
    "    name_x, name_y = pair_name.split('_')\n",
    "    ax.set_xlabel(name_x)\n",
    "    ax.set_ylabel(name_y)\n",
    "    \n",
    "    if name_x == \"Haze\": ax.set_xscale(\"log\")\n",
    "    if name_y == \"Haze\": ax.set_yscale(\"log\")\n",
    "    #if name_x == \"Metallicity\":ax.set_xscale(\"symlog\")\n",
    "    \n",
    "    \n",
    "# Apply specific axis settings\n",
    "for ax in fig.axes:\n",
    "    ax.axes.xaxis.set_visible(False)\n",
    "    ax.axes.yaxis.set_visible(False)\n",
    "[ax.axes.yaxis.set_visible(True) for ax in axes[:, 0]]\n",
    "[ax.axes.xaxis.set_visible(True) for ax in axes[-1, :]]\n",
    "\n",
    "cbar_ax = fig.add_axes([0.95, 0.125, 0.03, 0.76])\n",
    "cbar = fig.colorbar(line2, cax=cbar_ax)\n",
    "cbar.set_ticklabels(\n",
    "    [\"\", r\"$1 \\sigma$\", r\"$2 \\sigma$\", r\"$3 \\sigma$\", r\"$4 \\sigma$\"],\n",
    "    update_ticks=True,\n",
    ")\n",
    "\n",
    "fig.set_size_inches(FIG_SQUARE)"
   ]
  }
 ],
 "metadata": {
  "kernelspec": {
   "display_name": "Python 3",
   "language": "python",
   "name": "python3"
  },
  "language_info": {
   "codemirror_mode": {
    "name": "ipython",
    "version": 3
   },
   "file_extension": ".py",
   "mimetype": "text/x-python",
   "name": "python",
   "nbconvert_exporter": "python",
   "pygments_lexer": "ipython3",
   "version": "3.9.1"
  }
 },
 "nbformat": 4,
 "nbformat_minor": 5
}
