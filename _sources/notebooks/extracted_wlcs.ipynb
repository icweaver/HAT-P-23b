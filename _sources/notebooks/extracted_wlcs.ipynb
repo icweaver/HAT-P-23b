{
 "cells": [
  {
   "cell_type": "markdown",
   "id": "medieval-teach",
   "metadata": {},
   "source": [
    "# Extracted WLCs"
   ]
  },
  {
   "cell_type": "markdown",
   "id": "historical-working",
   "metadata": {},
   "source": [
    "## Setup"
   ]
  },
  {
   "cell_type": "code",
   "execution_count": 1,
   "id": "intelligent-america",
   "metadata": {},
   "outputs": [],
   "source": [
    "%load_ext autoreload\n",
    "%autoreload 2"
   ]
  },
  {
   "cell_type": "code",
   "execution_count": 2,
   "id": "important-bibliography",
   "metadata": {},
   "outputs": [],
   "source": [
    "import glob as glob\n",
    "import matplotlib as mpl\n",
    "import matplotlib.patheffects as PathEffects\n",
    "import matplotlib.pyplot as plt\n",
    "import matplotlib.transforms as transforms\n",
    "import numpy as np\n",
    "import pandas as pd\n",
    "import seaborn as sns\n",
    "\n",
    "import bz2\n",
    "import corner\n",
    "import json\n",
    "import pathlib\n",
    "import pickle\n",
    "import utils\n",
    "import warnings\n",
    "\n",
    "from astropy import constants as const\n",
    "from astropy import units as uni\n",
    "from astropy.io import ascii, fits\n",
    "from astropy.time import Time\n",
    "from mpl_toolkits.axes_grid1 import ImageGrid\n",
    "\n",
    "# Default figure dimensions\n",
    "FIG_WIDE = (11, 5)\n",
    "FIG_LARGE = (8, 11)\n",
    "\n",
    "# Figure style\n",
    "sns.set(style=\"ticks\", palette=\"colorblind\", color_codes=True, context=\"talk\")\n",
    "params = utils.plot_params()\n",
    "plt.rcParams.update(params)"
   ]
  },
  {
   "cell_type": "code",
   "execution_count": 20,
   "id": "identified-blackberry",
   "metadata": {},
   "outputs": [],
   "source": [
    "%matplotlib qt5"
   ]
  },
  {
   "cell_type": "markdown",
   "id": "sophisticated-spencer",
   "metadata": {},
   "source": [
    "## [Dowload data](https://www.dropbox.com/sh/f6rqfis0rdd0w1r/AAADJF0JI-YEx1cS9oCiwKP6a?dl=1) (same dataset used for extracted spectra)"
   ]
  },
  {
   "cell_type": "markdown",
   "id": "honey-julian",
   "metadata": {},
   "source": [
    "Unzip this into a folder named `data` in the same level as this notebook"
   ]
  },
  {
   "cell_type": "markdown",
   "id": "embedded-circle",
   "metadata": {},
   "source": [
    "## Finish set-up"
   ]
  },
  {
   "cell_type": "code",
   "execution_count": 3,
   "id": "minor-bathroom",
   "metadata": {},
   "outputs": [],
   "source": [
    "! ln -srf data/extracted_spectra data/extracted_wlcs"
   ]
  },
  {
   "cell_type": "markdown",
   "id": "liberal-concentration",
   "metadata": {},
   "source": [
    "## Load"
   ]
  },
  {
   "cell_type": "code",
   "execution_count": 153,
   "id": "advisory-lindsay",
   "metadata": {
    "scrolled": true
   },
   "outputs": [],
   "source": [
    "# Load\n",
    "data_dir = \"data/extracted_wlcs\"\n",
    "LCs_pickle = \"LCs_hp23_bins.pbz2\"\n",
    "data_dict = {\n",
    "    \"Transit 1\": {\n",
    "        \"data\": utils.decompress_pickle(\n",
    "            f\"{data_dir}/ut160621_a15_20_noflat/{LCs_pickle}\"\n",
    "        ),\n",
    "        \"bad_idxs_user\": \"[239, 240, 241, 256, 276, 278, 283, 284, 288:299]\",\n",
    "        \"t0\": 2457561.84167,\n",
    "    },\n",
    "    \"Transit 2\": {\n",
    "        \"data\": utils.decompress_pickle(\n",
    "            f\"{data_dir}/ut170609_a15_25_noflat/{LCs_pickle}\"\n",
    "        ),\n",
    "        \"bad_idxs_user\": \"[10]\",\n",
    "        \"t0\": 2457914.79167,\n",
    "    },\n",
    "    \"Transit 3\": {\n",
    "        \"data\": utils.decompress_pickle(\n",
    "            f\"{data_dir}/ut180603_a15_25_noflat/{LCs_pickle}\"\n",
    "        ),\n",
    "        \"bad_idxs_user\": \"[0:17]\",\n",
    "        \"t0\": 2458273.80556,\n",
    "    },\n",
    "    \"Transit 4\": {\n",
    "        \"data\": utils.decompress_pickle(\n",
    "            f\"{data_dir}/ut180620_a15_25_noflat/{LCs_pickle}\"\n",
    "        ),\n",
    "        \"bad_idxs_user\": \"[93, 94, 149, 157:171]\",\n",
    "        \"t0\": 2458290.78472,\n",
    "    },\n",
    "    \"Transit 5\": {\n",
    "        \"data\": utils.decompress_pickle(\n",
    "            f\"{data_dir}/ut180821_a15_25_noflat/{LCs_pickle}\"\n",
    "        ),\n",
    "        \"bad_idxs_user\": \"[4:6, 51, 53, 54, 56:59, 64, 66, 68, 69, 72, 77:80, 87:94, 96:98, 101, 108:119, 120, 129:131, 133, 174:181]\",\n",
    "        \"t0\": 2458352.64028,\n",
    "    },\n",
    "}"
   ]
  },
  {
   "cell_type": "markdown",
   "id": "immediate-cotton",
   "metadata": {},
   "source": [
    "## Plot"
   ]
  },
  {
   "cell_type": "code",
   "execution_count": 179,
   "id": "golden-supplier",
   "metadata": {},
   "outputs": [
    {
     "name": "stdout",
     "output_type": "stream",
     "text": [
      "Transit 1\n",
      "array([239, 240, 241, 256, 274, 275, 276, 277, 278, 279, 280, 281, 282,\n",
      "       283, 284, 285, 286, 287, 288, 289, 290, 291, 292, 293, 294, 295,\n",
      "       296, 297, 298])\n",
      "[274 275 277 279 280 281 282 285 286 287 299]\n",
      "\n",
      "Transit 2\n",
      "array([ 1, 10])\n",
      "[1]\n",
      "\n",
      "Transit 3\n",
      "array([ 1,  2,  3,  4,  5,  6,  7, 11])\n",
      "[ 0  8  9 10 12 13 14 15 16 17]\n",
      "\n",
      "Transit 4\n",
      "array([ 93,  94, 149, 162, 163, 164, 165, 166, 167, 168, 169, 170])\n",
      "[157 158 159 160 161 171]\n",
      "\n",
      "Transit 5\n",
      "array([  1,   2,   3,   4,   5,   6,  51,  52,  55,  56,  59,  64,  65,\n",
      "        66,  67,  68,  72,  87,  88,  89,  90,  91,  92,  93,  94,  95,\n",
      "        96,  97,  98,  99, 100, 101, 108, 109, 110, 111, 112, 113, 114,\n",
      "       120, 127, 128, 129, 130, 131, 132, 133, 166, 167, 168, 169, 170,\n",
      "       171, 172, 173, 174, 175, 176, 177, 178, 179, 180])\n",
      "[  1   2   3  52  53  54  55  57  58  65  67  69  77  78  79  80  95  99\n",
      " 100 115 116 117 118 119 127 128 132 166 167 168 169 170 171 172 173 181]\n",
      "\n"
     ]
    }
   ],
   "source": [
    "comps = [\"comp4\", \"comp5\"]\n",
    "ncomps = len(comps)\n",
    "\n",
    "fig, axes = plt.subplots(\n",
    "    len(data_dict), ncomps, sharex=True, sharey=True, figsize=FIG_LARGE\n",
    ")\n",
    "\n",
    "if axes.ndim == 1:\n",
    "    axes = axes.reshape(1, axes.size)\n",
    "colors = sns.color_palette()\n",
    "for i, (transit_name, transit_info) in enumerate(data_dict.items()):\n",
    "    data = transit_info[\"data\"]\n",
    "    t0 = transit_info[\"t0\"]\n",
    "\n",
    "    bad_idxs_both_comps = []\n",
    "    for ax, comp in zip(axes[i, :], comps):\n",
    "        p, bad_idxs = utils.plot_divided_wlcs(\n",
    "            ax,\n",
    "            data,\n",
    "            t0=t0,\n",
    "            ferr=0.001,\n",
    "            comps_to_use=[comp],\n",
    "            div_kwargs={\"fmt\": \".\", \"lw\": 0.5, \"mew\": 0.0, \"ms\": 3, \"c\": colors[i]},\n",
    "            bad_div_kwargs={\"fmt\": \".\", \"lw\": 0.5, \"mec\": \"k\", \"ms\": 6, \"c\": \"w\"},\n",
    "        )\n",
    "        bad_idxs_both_comps.append(bad_idxs)\n",
    "\n",
    "        ax.annotate(\n",
    "            rf\"{transit_name}/{comp}\",\n",
    "            xy=(0.05, 0.85),\n",
    "            xycoords=\"axes fraction\",\n",
    "            fontsize=12,\n",
    "            color=colors[i],\n",
    "            weight=\"bold\",\n",
    "        )\n",
    "\n",
    "        ax.set_ylim(0.96, 1.04)\n",
    "        ax.yaxis.set_ticks([0.96, 0.98, 1.00, 1.02, 1.04])\n",
    "    \n",
    "    # Highlight outliers\n",
    "    print(transit_name)\n",
    "    super_bad = np.union1d(bad_idxs_both_comps[0], bad_idxs_both_comps[1])\n",
    "    print(repr(super_bad))\n",
    "    print(np.setxor1d(super_bad, utils._bad_idxs(transit_info[\"bad_idxs_user\"])))\n",
    "    print()\n",
    "    for ax, comp in zip(axes[i, :], comps):\n",
    "        utils.plot_divided_wlcs(\n",
    "            ax,\n",
    "            data,\n",
    "            t0=t0,\n",
    "            ferr=0.001,\n",
    "            comps_to_use=[comp],\n",
    "            bad_idxs_user = transit_info[\"bad_idxs_user\"],\n",
    "            #bad_idxs_user = super_bad,\n",
    "            #bad_idxs_user=np.setxor1d(super_bad, utils._bad_idxs(transit_info[\"bad_idxs_user\"])),\n",
    "            div_kwargs={\"fmt\": \".\", \"lw\": 0.5, \"mew\": 0.0, \"ms\": 3, \"c\": colors[i]},\n",
    "            bad_div_kwargs={\"fmt\": \".\", \"lw\": 0.5, \"mec\": \"k\", \"ms\": 6, \"c\": \"w\"},\n",
    "    )\n",
    "\n",
    "fig.text(0.54, -0.02, \"Time from estimated mid-transit (hours)\", ha=\"center\")\n",
    "fig.text(-0.01, 0.5, \"Normalizd flux\", va=\"center\", rotation=\"vertical\")\n",
    "fig.tight_layout()\n",
    "fig.set_size_inches(FIG_LARGE)\n",
    "\n",
    "#utils.savefig(\"../paper/figures/extracted_wlcs/all_transits_extr_wlcs.pdf\")\n",
    "plt.savefig(\"/home/mango/Desktop/div_wlcs_rem.png\", dpi=250, bbox_inches=\"tight\")"
   ]
  },
  {
   "cell_type": "code",
   "execution_count": 143,
   "id": "ahead-finance",
   "metadata": {},
   "outputs": [
    {
     "data": {
      "text/plain": [
       "array([277, 285, 288, 289, 291, 292, 293, 294, 295, 297, 299])"
      ]
     },
     "execution_count": 143,
     "metadata": {},
     "output_type": "execute_result"
    }
   ],
   "source": [
    "c1 = np.array([239, 240, 241, 256, 276, 277, 278, 283, 284, 285, 290, 296, 298])\n",
    "u1 = utils._bad_idxs(\"[239, 240, 241, 256, 276, 278, 283, 284, 288:299]\")\n",
    "np.setxor1d(c1, u1)"
   ]
  },
  {
   "cell_type": "code",
   "execution_count": 144,
   "id": "assigned-asthma",
   "metadata": {},
   "outputs": [
    {
     "data": {
      "text/plain": [
       "array([1])"
      ]
     },
     "execution_count": 144,
     "metadata": {},
     "output_type": "execute_result"
    }
   ],
   "source": [
    "c2 = np.array([1, 10])\n",
    "u2 = utils._bad_idxs(\"[10]\")\n",
    "np.setxor1d(c2, u2)"
   ]
  },
  {
   "cell_type": "code",
   "execution_count": 145,
   "id": "geographic-portugal",
   "metadata": {},
   "outputs": [
    {
     "data": {
      "text/plain": [
       "array([ 0,  2,  3,  7,  8,  9, 10, 12, 13, 14, 15, 16, 17])"
      ]
     },
     "execution_count": 145,
     "metadata": {},
     "output_type": "execute_result"
    }
   ],
   "source": [
    "c3 = np.array([1,  4,  5,  6, 11])\n",
    "u3 = utils._bad_idxs(\"[0:17]\")\n",
    "np.setxor1d(c3, u3)"
   ]
  },
  {
   "cell_type": "code",
   "execution_count": null,
   "id": "working-definition",
   "metadata": {},
   "outputs": [],
   "source": []
  }
 ],
 "metadata": {
  "kernelspec": {
   "display_name": "Python 3",
   "language": "python",
   "name": "python3"
  },
  "language_info": {
   "codemirror_mode": {
    "name": "ipython",
    "version": 3
   },
   "file_extension": ".py",
   "mimetype": "text/x-python",
   "name": "python",
   "nbconvert_exporter": "python",
   "pygments_lexer": "ipython3",
   "version": "3.9.1"
  },
  "toc": {
   "base_numbering": 1,
   "nav_menu": {},
   "number_sections": false,
   "sideBar": true,
   "skip_h1_title": false,
   "title_cell": "Table of Contents",
   "title_sidebar": "Contents",
   "toc_cell": false,
   "toc_position": {},
   "toc_section_display": true,
   "toc_window_display": true
  }
 },
 "nbformat": 4,
 "nbformat_minor": 5
}
