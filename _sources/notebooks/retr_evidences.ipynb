{
 "cells": [
  {
   "cell_type": "markdown",
   "id": "violent-monkey",
   "metadata": {},
   "source": [
    "# Retrieval evidences"
   ]
  },
  {
   "cell_type": "markdown",
   "id": "bored-league",
   "metadata": {},
   "source": [
    "## Notebook setup"
   ]
  },
  {
   "cell_type": "code",
   "execution_count": 1,
   "id": "declared-shield",
   "metadata": {},
   "outputs": [
    {
     "data": {
      "application/javascript": [
       "\n",
       "            setTimeout(function() {\n",
       "                var nbb_cell_id = 1;\n",
       "                var nbb_unformatted_code = \"%load_ext nb_black\\n%load_ext autoreload\\n%autoreload 2\";\n",
       "                var nbb_formatted_code = \"%load_ext nb_black\\n%load_ext autoreload\\n%autoreload 2\";\n",
       "                var nbb_cells = Jupyter.notebook.get_cells();\n",
       "                for (var i = 0; i < nbb_cells.length; ++i) {\n",
       "                    if (nbb_cells[i].input_prompt_number == nbb_cell_id) {\n",
       "                        if (nbb_cells[i].get_text() == nbb_unformatted_code) {\n",
       "                             nbb_cells[i].set_text(nbb_formatted_code);\n",
       "                        }\n",
       "                        break;\n",
       "                    }\n",
       "                }\n",
       "            }, 500);\n",
       "            "
      ],
      "text/plain": [
       "<IPython.core.display.Javascript object>"
      ]
     },
     "metadata": {},
     "output_type": "display_data"
    }
   ],
   "source": [
    "%load_ext nb_black\n",
    "%load_ext autoreload\n",
    "%autoreload 2"
   ]
  },
  {
   "cell_type": "code",
   "execution_count": 2,
   "id": "effective-benchmark",
   "metadata": {},
   "outputs": [
    {
     "data": {
      "application/javascript": [
       "\n",
       "            setTimeout(function() {\n",
       "                var nbb_cell_id = 2;\n",
       "                var nbb_unformatted_code = \"import glob as glob\\nimport matplotlib as mpl\\nimport matplotlib.patheffects as PathEffects\\nimport matplotlib.pyplot as plt\\nimport matplotlib.transforms as transforms\\nimport numpy as np\\nimport pandas as pd\\nimport seaborn as sns\\n\\nimport bz2\\nimport corner\\nimport json\\nimport pathlib\\nimport pickle\\nimport utils\\nimport warnings\\n\\nfrom astropy import constants as const\\nfrom astropy import units as uni\\nfrom astropy.io import ascii, fits\\nfrom astropy.time import Time\\nfrom mpl_toolkits.axes_grid1 import ImageGrid\\n\\n# Default figure dimensions\\nFIG_WIDE = (11, 5)\\nFIG_LARGE = (8, 11)\\n\\n# Figure style\\nsns.set(style=\\\"ticks\\\", palette=\\\"colorblind\\\", color_codes=True, context=\\\"talk\\\")\\nparams = utils.plot_params()\\nplt.rcParams.update(params)\";\n",
       "                var nbb_formatted_code = \"import glob as glob\\nimport matplotlib as mpl\\nimport matplotlib.patheffects as PathEffects\\nimport matplotlib.pyplot as plt\\nimport matplotlib.transforms as transforms\\nimport numpy as np\\nimport pandas as pd\\nimport seaborn as sns\\n\\nimport bz2\\nimport corner\\nimport json\\nimport pathlib\\nimport pickle\\nimport utils\\nimport warnings\\n\\nfrom astropy import constants as const\\nfrom astropy import units as uni\\nfrom astropy.io import ascii, fits\\nfrom astropy.time import Time\\nfrom mpl_toolkits.axes_grid1 import ImageGrid\\n\\n# Default figure dimensions\\nFIG_WIDE = (11, 5)\\nFIG_LARGE = (8, 11)\\n\\n# Figure style\\nsns.set(style=\\\"ticks\\\", palette=\\\"colorblind\\\", color_codes=True, context=\\\"talk\\\")\\nparams = utils.plot_params()\\nplt.rcParams.update(params)\";\n",
       "                var nbb_cells = Jupyter.notebook.get_cells();\n",
       "                for (var i = 0; i < nbb_cells.length; ++i) {\n",
       "                    if (nbb_cells[i].input_prompt_number == nbb_cell_id) {\n",
       "                        if (nbb_cells[i].get_text() == nbb_unformatted_code) {\n",
       "                             nbb_cells[i].set_text(nbb_formatted_code);\n",
       "                        }\n",
       "                        break;\n",
       "                    }\n",
       "                }\n",
       "            }, 500);\n",
       "            "
      ],
      "text/plain": [
       "<IPython.core.display.Javascript object>"
      ]
     },
     "metadata": {},
     "output_type": "display_data"
    }
   ],
   "source": [
    "import glob as glob\n",
    "import matplotlib as mpl\n",
    "import matplotlib.patheffects as PathEffects\n",
    "import matplotlib.pyplot as plt\n",
    "import matplotlib.transforms as transforms\n",
    "import numpy as np\n",
    "import pandas as pd\n",
    "import seaborn as sns\n",
    "\n",
    "import bz2\n",
    "import corner\n",
    "import json\n",
    "import pathlib\n",
    "import pickle\n",
    "import utils\n",
    "import warnings\n",
    "\n",
    "from astropy import constants as const\n",
    "from astropy import units as uni\n",
    "from astropy.io import ascii, fits\n",
    "from astropy.time import Time\n",
    "from mpl_toolkits.axes_grid1 import ImageGrid\n",
    "\n",
    "# Default figure dimensions\n",
    "FIG_WIDE = (11, 5)\n",
    "FIG_LARGE = (8, 11)\n",
    "\n",
    "# Figure style\n",
    "sns.set(style=\"ticks\", palette=\"colorblind\", color_codes=True, context=\"talk\")\n",
    "params = utils.plot_params()\n",
    "plt.rcParams.update(params)"
   ]
  },
  {
   "cell_type": "markdown",
   "id": "instrumental-batman",
   "metadata": {},
   "source": [
    "## [Dowload data](https://www.dropbox.com/sh/102kasznvvv8dyy/AACMwQ7etBuXlOXQOTWpXWlca?dl=1)"
   ]
  },
  {
   "cell_type": "markdown",
   "id": "public-lucas",
   "metadata": {},
   "source": [
    "Unzip this into a folder named `data` in the same level as this notebook"
   ]
  },
  {
   "cell_type": "markdown",
   "id": "behind-curve",
   "metadata": {},
   "source": [
    "## Plot"
   ]
  },
  {
   "cell_type": "code",
   "execution_count": 3,
   "id": "convinced-brain",
   "metadata": {
    "scrolled": true
   },
   "outputs": [
    {
     "name": "stdout",
     "output_type": "stream",
     "text": [
      "Minimul log-evidence: (K, clear)\n"
     ]
    },
    {
     "data": {
      "text/html": [
       "<div>\n",
       "<style scoped>\n",
       "    .dataframe tbody tr th:only-of-type {\n",
       "        vertical-align: middle;\n",
       "    }\n",
       "\n",
       "    .dataframe tbody tr th {\n",
       "        vertical-align: top;\n",
       "    }\n",
       "\n",
       "    .dataframe thead th {\n",
       "        text-align: right;\n",
       "    }\n",
       "</style>\n",
       "<table border=\"1\" class=\"dataframe\">\n",
       "  <thead>\n",
       "    <tr style=\"text-align: right;\">\n",
       "      <th></th>\n",
       "      <th>Na</th>\n",
       "      <th>K</th>\n",
       "      <th>TiO</th>\n",
       "      <th>Na_K</th>\n",
       "      <th>Na_TiO</th>\n",
       "      <th>K_TiO</th>\n",
       "      <th>Na_K_TiO</th>\n",
       "    </tr>\n",
       "  </thead>\n",
       "  <tbody>\n",
       "    <tr>\n",
       "      <th>clear</th>\n",
       "      <td>4.228008</td>\n",
       "      <td>0.000000</td>\n",
       "      <td>6.470431</td>\n",
       "      <td>3.961596</td>\n",
       "      <td>5.965399</td>\n",
       "      <td>5.906551</td>\n",
       "      <td>5.620903</td>\n",
       "    </tr>\n",
       "    <tr>\n",
       "      <th>clear+cloud</th>\n",
       "      <td>3.631123</td>\n",
       "      <td>1.485933</td>\n",
       "      <td>5.398483</td>\n",
       "      <td>3.179458</td>\n",
       "      <td>5.170945</td>\n",
       "      <td>4.996205</td>\n",
       "      <td>4.870079</td>\n",
       "    </tr>\n",
       "    <tr>\n",
       "      <th>clear+haze</th>\n",
       "      <td>3.684933</td>\n",
       "      <td>2.223177</td>\n",
       "      <td>5.362364</td>\n",
       "      <td>3.221512</td>\n",
       "      <td>5.124867</td>\n",
       "      <td>4.944949</td>\n",
       "      <td>4.720639</td>\n",
       "    </tr>\n",
       "    <tr>\n",
       "      <th>clear+cloud+haze</th>\n",
       "      <td>2.848549</td>\n",
       "      <td>1.737777</td>\n",
       "      <td>4.479787</td>\n",
       "      <td>2.382097</td>\n",
       "      <td>4.248182</td>\n",
       "      <td>4.153051</td>\n",
       "      <td>3.856953</td>\n",
       "    </tr>\n",
       "    <tr>\n",
       "      <th>clear+spot</th>\n",
       "      <td>4.241980</td>\n",
       "      <td>3.812417</td>\n",
       "      <td>4.241815</td>\n",
       "      <td>3.685709</td>\n",
       "      <td>3.997720</td>\n",
       "      <td>3.751752</td>\n",
       "      <td>3.506001</td>\n",
       "    </tr>\n",
       "    <tr>\n",
       "      <th>clear+spot+cloud</th>\n",
       "      <td>3.174436</td>\n",
       "      <td>2.867850</td>\n",
       "      <td>3.291967</td>\n",
       "      <td>2.695057</td>\n",
       "      <td>3.033652</td>\n",
       "      <td>2.801135</td>\n",
       "      <td>2.538111</td>\n",
       "    </tr>\n",
       "    <tr>\n",
       "      <th>clear+spot+haze</th>\n",
       "      <td>3.034682</td>\n",
       "      <td>2.817973</td>\n",
       "      <td>3.120746</td>\n",
       "      <td>2.614493</td>\n",
       "      <td>2.828451</td>\n",
       "      <td>2.655219</td>\n",
       "      <td>2.427965</td>\n",
       "    </tr>\n",
       "    <tr>\n",
       "      <th>clear+spot+cloud+haze</th>\n",
       "      <td>2.159865</td>\n",
       "      <td>1.938158</td>\n",
       "      <td>2.208348</td>\n",
       "      <td>1.660904</td>\n",
       "      <td>1.910795</td>\n",
       "      <td>1.798888</td>\n",
       "      <td>1.529130</td>\n",
       "    </tr>\n",
       "  </tbody>\n",
       "</table>\n",
       "</div>"
      ],
      "text/plain": [
       "                             Na         K       TiO      Na_K    Na_TiO  \\\n",
       "clear                  4.228008  0.000000  6.470431  3.961596  5.965399   \n",
       "clear+cloud            3.631123  1.485933  5.398483  3.179458  5.170945   \n",
       "clear+haze             3.684933  2.223177  5.362364  3.221512  5.124867   \n",
       "clear+cloud+haze       2.848549  1.737777  4.479787  2.382097  4.248182   \n",
       "clear+spot             4.241980  3.812417  4.241815  3.685709  3.997720   \n",
       "clear+spot+cloud       3.174436  2.867850  3.291967  2.695057  3.033652   \n",
       "clear+spot+haze        3.034682  2.817973  3.120746  2.614493  2.828451   \n",
       "clear+spot+cloud+haze  2.159865  1.938158  2.208348  1.660904  1.910795   \n",
       "\n",
       "                          K_TiO  Na_K_TiO  \n",
       "clear                  5.906551  5.620903  \n",
       "clear+cloud            4.996205  4.870079  \n",
       "clear+haze             4.944949  4.720639  \n",
       "clear+cloud+haze       4.153051  3.856953  \n",
       "clear+spot             3.751752  3.506001  \n",
       "clear+spot+cloud       2.801135  2.538111  \n",
       "clear+spot+haze        2.655219  2.427965  \n",
       "clear+spot+cloud+haze  1.798888  1.529130  "
      ]
     },
     "metadata": {},
     "output_type": "display_data"
    },
    {
     "data": {
      "application/javascript": [
       "\n",
       "            setTimeout(function() {\n",
       "                var nbb_cell_id = 3;\n",
       "                var nbb_unformatted_code = \"# Load\\nbase_dir = \\\"data/retr_evidence\\\"\\ndf_Delta_lnZ, df_Delta_lnZ_err, species_min, model_min = utils.get_evidences(base_dir)\\nprint(f\\\"Minimul log-evidence: ({species_min}, {model_min})\\\")\\ndisplay(df_Delta_lnZ)\";\n",
       "                var nbb_formatted_code = \"# Load\\nbase_dir = \\\"data/retr_evidence\\\"\\ndf_Delta_lnZ, df_Delta_lnZ_err, species_min, model_min = utils.get_evidences(base_dir)\\nprint(f\\\"Minimul log-evidence: ({species_min}, {model_min})\\\")\\ndisplay(df_Delta_lnZ)\";\n",
       "                var nbb_cells = Jupyter.notebook.get_cells();\n",
       "                for (var i = 0; i < nbb_cells.length; ++i) {\n",
       "                    if (nbb_cells[i].input_prompt_number == nbb_cell_id) {\n",
       "                        if (nbb_cells[i].get_text() == nbb_unformatted_code) {\n",
       "                             nbb_cells[i].set_text(nbb_formatted_code);\n",
       "                        }\n",
       "                        break;\n",
       "                    }\n",
       "                }\n",
       "            }, 500);\n",
       "            "
      ],
      "text/plain": [
       "<IPython.core.display.Javascript object>"
      ]
     },
     "metadata": {},
     "output_type": "display_data"
    }
   ],
   "source": [
    "# Load\n",
    "base_dir = \"data/retr_evidence\"\n",
    "df_Delta_lnZ, df_Delta_lnZ_err, species_min, model_min = utils.get_evidences(base_dir)\n",
    "print(f\"Minimul log-evidence: ({species_min}, {model_min})\")\n",
    "display(df_Delta_lnZ)"
   ]
  },
  {
   "cell_type": "code",
   "execution_count": 4,
   "id": "supported-employment",
   "metadata": {},
   "outputs": [
    {
     "data": {
      "image/png": "[encoded data removed]",
      "text/plain": [
       "<Figure size 792x360 with 1 Axes>"
      ]
     },
     "metadata": {},
     "output_type": "display_data"
    },
    {
     "data": {
      "application/javascript": [
       "\n",
       "            setTimeout(function() {\n",
       "                var nbb_cell_id = 4;\n",
       "                var nbb_unformatted_code = \"# Plot\\nfig, ax = plt.subplots(figsize=FIG_WIDE)\\n\\np = df_Delta_lnZ.transpose().plot(\\n    ax=ax,\\n    kind=\\\"bar\\\",\\n    width=0.85,\\n    lw=0,\\n    capsize=3,\\n    ecolor=\\\"grey\\\",\\n    # yerr=df_Delta_lnZ_err.transpose(), # Very small, omitted for visibility\\n    # legend=False,\\n    xlabel=\\\"Species\\\",\\n    ylabel=\\\"Relative log-evidence\\\",\\n)\\n\\nplt.xticks(fontsize=12, rotation=0)\\np.legend(loc=\\\"upper right\\\", fontsize=\\\"12\\\", bbox_to_anchor=(1.5, 1.028))\\nfig.tight_layout()\\nfig.set_size_inches(FIG_WIDE)\\n\\nutils.savefig(\\\"../paper/figures/retrieval_evidence/evidence_summary.pdf\\\")\";\n",
       "                var nbb_formatted_code = \"# Plot\\nfig, ax = plt.subplots(figsize=FIG_WIDE)\\n\\np = df_Delta_lnZ.transpose().plot(\\n    ax=ax,\\n    kind=\\\"bar\\\",\\n    width=0.85,\\n    lw=0,\\n    capsize=3,\\n    ecolor=\\\"grey\\\",\\n    # yerr=df_Delta_lnZ_err.transpose(), # Very small, omitted for visibility\\n    # legend=False,\\n    xlabel=\\\"Species\\\",\\n    ylabel=\\\"Relative log-evidence\\\",\\n)\\n\\nplt.xticks(fontsize=12, rotation=0)\\np.legend(loc=\\\"upper right\\\", fontsize=\\\"12\\\", bbox_to_anchor=(1.5, 1.028))\\nfig.tight_layout()\\nfig.set_size_inches(FIG_WIDE)\\n\\nutils.savefig(\\\"../paper/figures/retrieval_evidence/evidence_summary.pdf\\\")\";\n",
       "                var nbb_cells = Jupyter.notebook.get_cells();\n",
       "                for (var i = 0; i < nbb_cells.length; ++i) {\n",
       "                    if (nbb_cells[i].input_prompt_number == nbb_cell_id) {\n",
       "                        if (nbb_cells[i].get_text() == nbb_unformatted_code) {\n",
       "                             nbb_cells[i].set_text(nbb_formatted_code);\n",
       "                        }\n",
       "                        break;\n",
       "                    }\n",
       "                }\n",
       "            }, 500);\n",
       "            "
      ],
      "text/plain": [
       "<IPython.core.display.Javascript object>"
      ]
     },
     "metadata": {},
     "output_type": "display_data"
    }
   ],
   "source": [
    "# Plot\n",
    "fig, ax = plt.subplots(figsize=FIG_WIDE)\n",
    "\n",
    "p = df_Delta_lnZ.transpose().plot(\n",
    "    ax=ax,\n",
    "    kind=\"bar\",\n",
    "    width=0.85,\n",
    "    lw=0,\n",
    "    capsize=3,\n",
    "    ecolor=\"grey\",\n",
    "    # yerr=df_Delta_lnZ_err.transpose(), # Very small, omitted for visibility\n",
    "    # legend=False,\n",
    "    xlabel=\"Species\",\n",
    "    ylabel=\"Relative log-evidence\",\n",
    ")\n",
    "\n",
    "plt.xticks(fontsize=12, rotation=0)\n",
    "p.legend(loc=\"upper right\", fontsize=\"12\", bbox_to_anchor=(1.5, 1.028))\n",
    "fig.tight_layout()\n",
    "fig.set_size_inches(FIG_WIDE)\n",
    "\n",
    "utils.savefig(\"../paper/figures/retrieval_evidence/evidence_summary.pdf\")"
   ]
  }
 ],
 "metadata": {
  "kernelspec": {
   "display_name": "Python 3",
   "language": "python",
   "name": "python3"
  },
  "language_info": {
   "codemirror_mode": {
    "name": "ipython",
    "version": 3
   },
   "file_extension": ".py",
   "mimetype": "text/x-python",
   "name": "python",
   "nbconvert_exporter": "python",
   "pygments_lexer": "ipython3",
   "version": "3.9.1"
  }
 },
 "nbformat": 4,
 "nbformat_minor": 5
}
