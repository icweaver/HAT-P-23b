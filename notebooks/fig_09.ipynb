{
 "cells": [
  {
   "cell_type": "markdown",
   "id": "metric-latest",
   "metadata": {},
   "source": [
    "# Figure 9: Cloudy vs. clear prediction"
   ]
  },
  {
   "cell_type": "markdown",
   "id": "overhead-tucson",
   "metadata": {},
   "source": [
    "## Setup"
   ]
  },
  {
   "cell_type": "code",
   "execution_count": 1,
   "id": "saved-catering",
   "metadata": {},
   "outputs": [
    {
     "data": {
      "application/javascript": [
       "\n",
       "            setTimeout(function() {\n",
       "                var nbb_cell_id = 1;\n",
       "                var nbb_unformatted_code = \"%load_ext nb_black\\n%load_ext autoreload\\n%autoreload 2\";\n",
       "                var nbb_formatted_code = \"%load_ext nb_black\\n%load_ext autoreload\\n%autoreload 2\";\n",
       "                var nbb_cells = Jupyter.notebook.get_cells();\n",
       "                for (var i = 0; i < nbb_cells.length; ++i) {\n",
       "                    if (nbb_cells[i].input_prompt_number == nbb_cell_id) {\n",
       "                        if (nbb_cells[i].get_text() == nbb_unformatted_code) {\n",
       "                             nbb_cells[i].set_text(nbb_formatted_code);\n",
       "                        }\n",
       "                        break;\n",
       "                    }\n",
       "                }\n",
       "            }, 500);\n",
       "            "
      ],
      "text/plain": [
       "<IPython.core.display.Javascript object>"
      ]
     },
     "metadata": {},
     "output_type": "display_data"
    }
   ],
   "source": [
    "%load_ext nb_black\n",
    "%load_ext autoreload\n",
    "%autoreload 2"
   ]
  },
  {
   "cell_type": "code",
   "execution_count": 2,
   "id": "constitutional-worker",
   "metadata": {},
   "outputs": [
    {
     "data": {
      "application/javascript": [
       "\n",
       "            setTimeout(function() {\n",
       "                var nbb_cell_id = 2;\n",
       "                var nbb_unformatted_code = \"import glob as glob\\nimport matplotlib as mpl\\nimport matplotlib.patheffects as PathEffects\\nimport matplotlib.pyplot as plt\\nimport matplotlib.transforms as transforms\\nimport numpy as np\\nimport pandas as pd\\nimport seaborn as sns\\n\\nimport corner\\nimport json\\nimport pathlib\\nimport pickle\\nimport utils\\nimport warnings\\n\\nfrom astropy import constants as const\\nfrom astropy import units as uni\\nfrom astropy.io import ascii, fits\\nfrom astropy.time import Time\\nfrom mpl_toolkits.axes_grid1 import ImageGrid\\n\\n# Default figure dimensions\\nFIG_WIDE = (11, 5)\\nFIG_LARGE = (8, 11)\\n\\n# Figure style\\nsns.set(style=\\\"ticks\\\", palette=\\\"colorblind\\\", color_codes=True, context=\\\"talk\\\")\\nparams = {\\n    # xticks\\n    \\\"xtick.top\\\": False,\\n    \\\"xtick.direction\\\": \\\"out\\\",\\n    \\\"xtick.major.size\\\": 5,\\n    \\\"xtick.minor.visible\\\": False,\\n    # yticks\\n    \\\"ytick.right\\\": False,\\n    \\\"ytick.direction\\\": \\\"out\\\",\\n    \\\"ytick.major.size\\\": 5,\\n    \\\"ytick.minor.visible\\\": False,\\n    # pallete\\n    \\\"axes.prop_cycle\\\": mpl.cycler(\\n        color=[\\n            \\\"#fdbf6f\\\",  # Yellow\\n            \\\"#ff7f00\\\",  # Orange\\n            \\\"#a6cee3\\\",  # Cyan\\n            \\\"#1f78b4\\\",  # Blue\\n            \\\"#956cb4\\\",  # Purple\\n            \\\"#029e73\\\",  # Green\\n            \\\"#c44e52\\\",  # Red\\n        ]\\n    ),\\n}\\nplt.rcParams.update(params)\";\n",
       "                var nbb_formatted_code = \"import glob as glob\\nimport matplotlib as mpl\\nimport matplotlib.patheffects as PathEffects\\nimport matplotlib.pyplot as plt\\nimport matplotlib.transforms as transforms\\nimport numpy as np\\nimport pandas as pd\\nimport seaborn as sns\\n\\nimport corner\\nimport json\\nimport pathlib\\nimport pickle\\nimport utils\\nimport warnings\\n\\nfrom astropy import constants as const\\nfrom astropy import units as uni\\nfrom astropy.io import ascii, fits\\nfrom astropy.time import Time\\nfrom mpl_toolkits.axes_grid1 import ImageGrid\\n\\n# Default figure dimensions\\nFIG_WIDE = (11, 5)\\nFIG_LARGE = (8, 11)\\n\\n# Figure style\\nsns.set(style=\\\"ticks\\\", palette=\\\"colorblind\\\", color_codes=True, context=\\\"talk\\\")\\nparams = {\\n    # xticks\\n    \\\"xtick.top\\\": False,\\n    \\\"xtick.direction\\\": \\\"out\\\",\\n    \\\"xtick.major.size\\\": 5,\\n    \\\"xtick.minor.visible\\\": False,\\n    # yticks\\n    \\\"ytick.right\\\": False,\\n    \\\"ytick.direction\\\": \\\"out\\\",\\n    \\\"ytick.major.size\\\": 5,\\n    \\\"ytick.minor.visible\\\": False,\\n    # pallete\\n    \\\"axes.prop_cycle\\\": mpl.cycler(\\n        color=[\\n            \\\"#fdbf6f\\\",  # Yellow\\n            \\\"#ff7f00\\\",  # Orange\\n            \\\"#a6cee3\\\",  # Cyan\\n            \\\"#1f78b4\\\",  # Blue\\n            \\\"#956cb4\\\",  # Purple\\n            \\\"#029e73\\\",  # Green\\n            \\\"#c44e52\\\",  # Red\\n        ]\\n    ),\\n}\\nplt.rcParams.update(params)\";\n",
       "                var nbb_cells = Jupyter.notebook.get_cells();\n",
       "                for (var i = 0; i < nbb_cells.length; ++i) {\n",
       "                    if (nbb_cells[i].input_prompt_number == nbb_cell_id) {\n",
       "                        if (nbb_cells[i].get_text() == nbb_unformatted_code) {\n",
       "                             nbb_cells[i].set_text(nbb_formatted_code);\n",
       "                        }\n",
       "                        break;\n",
       "                    }\n",
       "                }\n",
       "            }, 500);\n",
       "            "
      ],
      "text/plain": [
       "<IPython.core.display.Javascript object>"
      ]
     },
     "metadata": {},
     "output_type": "display_data"
    }
   ],
   "source": [
    "import glob as glob\n",
    "import matplotlib as mpl\n",
    "import matplotlib.patheffects as PathEffects\n",
    "import matplotlib.pyplot as plt\n",
    "import matplotlib.transforms as transforms\n",
    "import numpy as np\n",
    "import pandas as pd\n",
    "import seaborn as sns\n",
    "\n",
    "import corner\n",
    "import json\n",
    "import pathlib\n",
    "import pickle\n",
    "import utils\n",
    "import warnings\n",
    "\n",
    "from astropy import constants as const\n",
    "from astropy import units as uni\n",
    "from astropy.io import ascii, fits\n",
    "from astropy.time import Time\n",
    "from mpl_toolkits.axes_grid1 import ImageGrid\n",
    "\n",
    "# Default figure dimensions\n",
    "FIG_WIDE = (11, 5)\n",
    "FIG_LARGE = (8, 11)\n",
    "\n",
    "# Figure style\n",
    "sns.set(style=\"ticks\", palette=\"colorblind\", color_codes=True, context=\"talk\")\n",
    "params = {\n",
    "    # xticks\n",
    "    \"xtick.top\": False,\n",
    "    \"xtick.direction\": \"out\",\n",
    "    \"xtick.major.size\": 5,\n",
    "    \"xtick.minor.visible\": False,\n",
    "    # yticks\n",
    "    \"ytick.right\": False,\n",
    "    \"ytick.direction\": \"out\",\n",
    "    \"ytick.major.size\": 5,\n",
    "    \"ytick.minor.visible\": False,\n",
    "    # pallete\n",
    "    \"axes.prop_cycle\": mpl.cycler(\n",
    "        color=[\n",
    "            \"#fdbf6f\",  # Yellow\n",
    "            \"#ff7f00\",  # Orange\n",
    "            \"#a6cee3\",  # Cyan\n",
    "            \"#1f78b4\",  # Blue\n",
    "            \"#956cb4\",  # Purple\n",
    "            \"#029e73\",  # Green\n",
    "            \"#c44e52\",  # Red\n",
    "        ]\n",
    "    ),\n",
    "}\n",
    "plt.rcParams.update(params)"
   ]
  },
  {
   "cell_type": "markdown",
   "id": "unknown-rhythm",
   "metadata": {},
   "source": [
    "## [Dowload data](https://www.dropbox.com/sh/w0fys8lzxb4d8mo/AABRxdG1dl1MTijgnYLImOw0a?dl=1)"
   ]
  },
  {
   "cell_type": "markdown",
   "id": "cloudy-intention",
   "metadata": {},
   "source": [
    "This should be placed in a folder named `data` in the same level as this notebook"
   ]
  },
  {
   "cell_type": "markdown",
   "id": "homeless-understanding",
   "metadata": {},
   "source": [
    "## Plot"
   ]
  },
  {
   "cell_type": "code",
   "execution_count": 4,
   "id": "opposite-compatibility",
   "metadata": {},
   "outputs": [
    {
     "data": {
      "text/html": [
       "<div>\n",
       "<style scoped>\n",
       "    .dataframe tbody tr th:only-of-type {\n",
       "        vertical-align: middle;\n",
       "    }\n",
       "\n",
       "    .dataframe tbody tr th {\n",
       "        vertical-align: top;\n",
       "    }\n",
       "\n",
       "    .dataframe thead th {\n",
       "        text-align: right;\n",
       "    }\n",
       "</style>\n",
       "<table border=\"1\" class=\"dataframe\">\n",
       "  <thead>\n",
       "    <tr style=\"text-align: right;\">\n",
       "      <th></th>\n",
       "      <th>T</th>\n",
       "      <th>logg</th>\n",
       "      <th>H2O-J</th>\n",
       "      <th>H2O-J_unc</th>\n",
       "    </tr>\n",
       "    <tr>\n",
       "      <th>Name</th>\n",
       "      <th></th>\n",
       "      <th></th>\n",
       "      <th></th>\n",
       "      <th></th>\n",
       "    </tr>\n",
       "  </thead>\n",
       "  <tbody>\n",
       "    <tr>\n",
       "      <th>GJ436</th>\n",
       "      <td>669.0</td>\n",
       "      <td>3.10</td>\n",
       "      <td>0.339500</td>\n",
       "      <td>0.266522</td>\n",
       "    </tr>\n",
       "    <tr>\n",
       "      <th>GJ1214</th>\n",
       "      <td>547.0</td>\n",
       "      <td>2.94</td>\n",
       "      <td>0.003296</td>\n",
       "      <td>0.056763</td>\n",
       "    </tr>\n",
       "    <tr>\n",
       "      <th>HAT-P-01</th>\n",
       "      <td>1322.0</td>\n",
       "      <td>2.93</td>\n",
       "      <td>1.337013</td>\n",
       "      <td>0.679367</td>\n",
       "    </tr>\n",
       "    <tr>\n",
       "      <th>HAT-P-11</th>\n",
       "      <td>838.0</td>\n",
       "      <td>3.06</td>\n",
       "      <td>2.499212</td>\n",
       "      <td>0.504664</td>\n",
       "    </tr>\n",
       "    <tr>\n",
       "      <th>HAT-P-12</th>\n",
       "      <td>955.0</td>\n",
       "      <td>2.75</td>\n",
       "      <td>0.217148</td>\n",
       "      <td>0.650651</td>\n",
       "    </tr>\n",
       "  </tbody>\n",
       "</table>\n",
       "</div>"
      ],
      "text/plain": [
       "               T  logg     H2O-J  H2O-J_unc\n",
       "Name                                       \n",
       "GJ436      669.0  3.10  0.339500   0.266522\n",
       "GJ1214     547.0  2.94  0.003296   0.056763\n",
       "HAT-P-01  1322.0  2.93  1.337013   0.679367\n",
       "HAT-P-11   838.0  3.06  2.499212   0.504664\n",
       "HAT-P-12   955.0  2.75  0.217148   0.650651"
      ]
     },
     "metadata": {},
     "output_type": "display_data"
    },
    {
     "data": {
      "text/plain": [
       "T            float64\n",
       "logg         float64\n",
       "H2O-J        float64\n",
       "H2O-J_unc    float64\n",
       "dtype: object"
      ]
     },
     "execution_count": 4,
     "metadata": {},
     "output_type": "execute_result"
    },
    {
     "data": {
      "application/javascript": [
       "\n",
       "            setTimeout(function() {\n",
       "                var nbb_cell_id = 4;\n",
       "                var nbb_unformatted_code = \"df_wakeford = pd.read_table(\\n    \\\"data/09/H2O_J_data.txt\\\",\\n    header=1,\\n    sep=\\\"\\\\s+\\\",\\n    index_col=\\\"Name\\\",\\n)\\ndisplay(df_wakeford.head())\\ndf_wakeford.dtypes\";\n",
       "                var nbb_formatted_code = \"df_wakeford = pd.read_table(\\n    \\\"data/09/H2O_J_data.txt\\\", header=1, sep=\\\"\\\\s+\\\", index_col=\\\"Name\\\"\\n)\\ndisplay(df_wakeford.head())\\ndf_wakeford.dtypes\";\n",
       "                var nbb_cells = Jupyter.notebook.get_cells();\n",
       "                for (var i = 0; i < nbb_cells.length; ++i) {\n",
       "                    if (nbb_cells[i].input_prompt_number == nbb_cell_id) {\n",
       "                        if (nbb_cells[i].get_text() == nbb_unformatted_code) {\n",
       "                             nbb_cells[i].set_text(nbb_formatted_code);\n",
       "                        }\n",
       "                        break;\n",
       "                    }\n",
       "                }\n",
       "            }, 500);\n",
       "            "
      ],
      "text/plain": [
       "<IPython.core.display.Javascript object>"
      ]
     },
     "metadata": {},
     "output_type": "display_data"
    }
   ],
   "source": [
    "df_wakeford = pd.read_table(\n",
    "    \"data/09/H2O_J_data.txt\", header=1, sep=\"\\s+\", index_col=\"Name\"\n",
    ")\n",
    "display(df_wakeford.head())\n",
    "df_wakeford.dtypes"
   ]
  },
  {
   "cell_type": "code",
   "execution_count": 5,
   "id": "several-thanksgiving",
   "metadata": {},
   "outputs": [
    {
     "data": {
      "text/html": [
       "<div>\n",
       "<style scoped>\n",
       "    .dataframe tbody tr th:only-of-type {\n",
       "        vertical-align: middle;\n",
       "    }\n",
       "\n",
       "    .dataframe tbody tr th {\n",
       "        vertical-align: top;\n",
       "    }\n",
       "\n",
       "    .dataframe thead th {\n",
       "        text-align: right;\n",
       "    }\n",
       "</style>\n",
       "<table border=\"1\" class=\"dataframe\">\n",
       "  <thead>\n",
       "    <tr style=\"text-align: right;\">\n",
       "      <th></th>\n",
       "      <th>Teff</th>\n",
       "      <th>err</th>\n",
       "      <th>err.1</th>\n",
       "      <th>[Fe/H]</th>\n",
       "      <th>erru</th>\n",
       "      <th>errd</th>\n",
       "      <th>M_A</th>\n",
       "      <th>errup</th>\n",
       "      <th>errdn</th>\n",
       "      <th>R_A</th>\n",
       "      <th>...</th>\n",
       "      <th>errup.8</th>\n",
       "      <th>errdn.6</th>\n",
       "      <th>rho_b</th>\n",
       "      <th>errup.9</th>\n",
       "      <th>errdn.7</th>\n",
       "      <th>Teq</th>\n",
       "      <th>err.2</th>\n",
       "      <th>err.3</th>\n",
       "      <th>Discovery_reference</th>\n",
       "      <th>Recent_reference</th>\n",
       "    </tr>\n",
       "    <tr>\n",
       "      <th>System</th>\n",
       "      <th></th>\n",
       "      <th></th>\n",
       "      <th></th>\n",
       "      <th></th>\n",
       "      <th></th>\n",
       "      <th></th>\n",
       "      <th></th>\n",
       "      <th></th>\n",
       "      <th></th>\n",
       "      <th></th>\n",
       "      <th></th>\n",
       "      <th></th>\n",
       "      <th></th>\n",
       "      <th></th>\n",
       "      <th></th>\n",
       "      <th></th>\n",
       "      <th></th>\n",
       "      <th></th>\n",
       "      <th></th>\n",
       "      <th></th>\n",
       "      <th></th>\n",
       "    </tr>\n",
       "  </thead>\n",
       "  <tbody>\n",
       "    <tr>\n",
       "      <th>55_Cnc_e</th>\n",
       "      <td>5172</td>\n",
       "      <td>18</td>\n",
       "      <td>18</td>\n",
       "      <td>0.35</td>\n",
       "      <td>0.10</td>\n",
       "      <td>0.10</td>\n",
       "      <td>0.873</td>\n",
       "      <td>0.051</td>\n",
       "      <td>0.035</td>\n",
       "      <td>0.954</td>\n",
       "      <td>...</td>\n",
       "      <td>2.10</td>\n",
       "      <td>1.9</td>\n",
       "      <td>4.710</td>\n",
       "      <td>0.560</td>\n",
       "      <td>0.530</td>\n",
       "      <td>2349.0</td>\n",
       "      <td>188.0</td>\n",
       "      <td>193.0</td>\n",
       "      <td>2011ApJ...737L..18W</td>\n",
       "      <td>arXiv:1908.06299</td>\n",
       "    </tr>\n",
       "    <tr>\n",
       "      <th>pi_Men</th>\n",
       "      <td>5998</td>\n",
       "      <td>62</td>\n",
       "      <td>62</td>\n",
       "      <td>0.09</td>\n",
       "      <td>0.04</td>\n",
       "      <td>0.04</td>\n",
       "      <td>1.070</td>\n",
       "      <td>0.040</td>\n",
       "      <td>0.040</td>\n",
       "      <td>1.170</td>\n",
       "      <td>...</td>\n",
       "      <td>1.90</td>\n",
       "      <td>9.5</td>\n",
       "      <td>2.100</td>\n",
       "      <td>0.400</td>\n",
       "      <td>0.400</td>\n",
       "      <td>1170.0</td>\n",
       "      <td>2.8</td>\n",
       "      <td>4.3</td>\n",
       "      <td>arXiv:1809.05967</td>\n",
       "      <td>arXiv:2007.06410</td>\n",
       "    </tr>\n",
       "    <tr>\n",
       "      <th>AD_3116</th>\n",
       "      <td>3184</td>\n",
       "      <td>29</td>\n",
       "      <td>29</td>\n",
       "      <td>0.14</td>\n",
       "      <td>0.10</td>\n",
       "      <td>0.10</td>\n",
       "      <td>0.276</td>\n",
       "      <td>0.020</td>\n",
       "      <td>0.020</td>\n",
       "      <td>0.290</td>\n",
       "      <td>...</td>\n",
       "      <td>-1.00</td>\n",
       "      <td>-1</td>\n",
       "      <td>-1.000</td>\n",
       "      <td>-1.000</td>\n",
       "      <td>-1.000</td>\n",
       "      <td>1669.0</td>\n",
       "      <td>244.0</td>\n",
       "      <td>258.0</td>\n",
       "      <td>2017ApJ...849...11G</td>\n",
       "      <td>2017ApJ...849...11G</td>\n",
       "    </tr>\n",
       "    <tr>\n",
       "      <th>AU_Mic</th>\n",
       "      <td>3700</td>\n",
       "      <td>100</td>\n",
       "      <td>100</td>\n",
       "      <td>-1.00</td>\n",
       "      <td>-1.00</td>\n",
       "      <td>-1.00</td>\n",
       "      <td>0.500</td>\n",
       "      <td>0.030</td>\n",
       "      <td>0.030</td>\n",
       "      <td>0.750</td>\n",
       "      <td>...</td>\n",
       "      <td>-1.00</td>\n",
       "      <td>-1</td>\n",
       "      <td>-1.000</td>\n",
       "      <td>-1.000</td>\n",
       "      <td>-1.000</td>\n",
       "      <td>-1.0</td>\n",
       "      <td>-1.0</td>\n",
       "      <td>-1.0</td>\n",
       "      <td>arXiv:2006.13248</td>\n",
       "      <td>arXiv:2011.13357</td>\n",
       "    </tr>\n",
       "    <tr>\n",
       "      <th>CoRoT-01</th>\n",
       "      <td>5950</td>\n",
       "      <td>150</td>\n",
       "      <td>150</td>\n",
       "      <td>-0.30</td>\n",
       "      <td>0.25</td>\n",
       "      <td>0.25</td>\n",
       "      <td>0.950</td>\n",
       "      <td>0.110</td>\n",
       "      <td>0.110</td>\n",
       "      <td>1.131</td>\n",
       "      <td>...</td>\n",
       "      <td>0.69</td>\n",
       "      <td>0.69</td>\n",
       "      <td>0.259</td>\n",
       "      <td>0.021</td>\n",
       "      <td>0.021</td>\n",
       "      <td>1915.0</td>\n",
       "      <td>49.0</td>\n",
       "      <td>49.0</td>\n",
       "      <td>2008A+A...482L..17B</td>\n",
       "      <td>2011MNRAS.417.2166S</td>\n",
       "    </tr>\n",
       "  </tbody>\n",
       "</table>\n",
       "<p>5 rows × 42 columns</p>\n",
       "</div>"
      ],
      "text/plain": [
       "          Teff  err  err.1  [Fe/H]  erru  errd    M_A  errup  errdn    R_A  \\\n",
       "System                                                                       \n",
       "55_Cnc_e  5172   18     18    0.35  0.10  0.10  0.873  0.051  0.035  0.954   \n",
       "pi_Men    5998   62     62    0.09  0.04  0.04  1.070  0.040  0.040  1.170   \n",
       "AD_3116   3184   29     29    0.14  0.10  0.10  0.276  0.020  0.020  0.290   \n",
       "AU_Mic    3700  100    100   -1.00 -1.00 -1.00  0.500  0.030  0.030  0.750   \n",
       "CoRoT-01  5950  150    150   -0.30  0.25  0.25  0.950  0.110  0.110  1.131   \n",
       "\n",
       "          ...  errup.8  errdn.6  rho_b  errup.9  errdn.7     Teq  err.2  \\\n",
       "System    ...                                                             \n",
       "55_Cnc_e  ...     2.10      1.9  4.710    0.560    0.530  2349.0  188.0   \n",
       "pi_Men    ...     1.90      9.5  2.100    0.400    0.400  1170.0    2.8   \n",
       "AD_3116   ...    -1.00       -1 -1.000   -1.000   -1.000  1669.0  244.0   \n",
       "AU_Mic    ...    -1.00       -1 -1.000   -1.000   -1.000    -1.0   -1.0   \n",
       "CoRoT-01  ...     0.69     0.69  0.259    0.021    0.021  1915.0   49.0   \n",
       "\n",
       "          err.3  Discovery_reference     Recent_reference  \n",
       "System                                                     \n",
       "55_Cnc_e  193.0  2011ApJ...737L..18W     arXiv:1908.06299  \n",
       "pi_Men      4.3     arXiv:1809.05967     arXiv:2007.06410  \n",
       "AD_3116   258.0  2017ApJ...849...11G  2017ApJ...849...11G  \n",
       "AU_Mic     -1.0     arXiv:2006.13248     arXiv:2011.13357  \n",
       "CoRoT-01   49.0  2008A+A...482L..17B  2011MNRAS.417.2166S  \n",
       "\n",
       "[5 rows x 42 columns]"
      ]
     },
     "metadata": {},
     "output_type": "display_data"
    },
    {
     "data": {
      "text/plain": [
       "Teff                     int64\n",
       "err                      int64\n",
       "err.1                    int64\n",
       "[Fe/H]                 float64\n",
       "erru                   float64\n",
       "errd                   float64\n",
       "M_A                    float64\n",
       "errup                  float64\n",
       "errdn                  float64\n",
       "R_A                    float64\n",
       "errup.1                float64\n",
       "errdn.1                float64\n",
       "loggA                  float64\n",
       "errup.2                float64\n",
       "errdn.2                float64\n",
       "rho_A                  float64\n",
       "errup.3                float64\n",
       "errdn.3                float64\n",
       "Period                 float64\n",
       "e                      float64\n",
       "errup.4                float64\n",
       "errdown                float64\n",
       "a(AU)                  float64\n",
       "errup.5                float64\n",
       "errdown.1              float64\n",
       "M_b                    float64\n",
       "errup.6                float64\n",
       "errdn.4                float64\n",
       "R_b                    float64\n",
       "errup.7                float64\n",
       "errdn.5                float64\n",
       "g_b                    float64\n",
       "errup.8                float64\n",
       "errdn.6                 object\n",
       "rho_b                  float64\n",
       "errup.9                float64\n",
       "errdn.7                float64\n",
       "Teq                    float64\n",
       "err.2                  float64\n",
       "err.3                  float64\n",
       "Discovery_reference     object\n",
       "Recent_reference        object\n",
       "dtype: object"
      ]
     },
     "execution_count": 5,
     "metadata": {},
     "output_type": "execute_result"
    },
    {
     "data": {
      "application/javascript": [
       "\n",
       "            setTimeout(function() {\n",
       "                var nbb_cell_id = 5;\n",
       "                var nbb_unformatted_code = \"df_southworth = pd.read_table(\\n    \\\"https://www.astro.keele.ac.uk/jkt/tepcat/allplanets-csv.csv\\\",\\n    sep=r\\\"\\\\s*,\\\\s*\\\",\\n    engine=\\\"python\\\",\\n    index_col=\\\"System\\\",\\n)\\ndisplay(df_southworth.head())\\ndf_southworth.dtypes\";\n",
       "                var nbb_formatted_code = \"df_southworth = pd.read_table(\\n    \\\"https://www.astro.keele.ac.uk/jkt/tepcat/allplanets-csv.csv\\\",\\n    sep=r\\\"\\\\s*,\\\\s*\\\",\\n    engine=\\\"python\\\",\\n    index_col=\\\"System\\\",\\n)\\ndisplay(df_southworth.head())\\ndf_southworth.dtypes\";\n",
       "                var nbb_cells = Jupyter.notebook.get_cells();\n",
       "                for (var i = 0; i < nbb_cells.length; ++i) {\n",
       "                    if (nbb_cells[i].input_prompt_number == nbb_cell_id) {\n",
       "                        if (nbb_cells[i].get_text() == nbb_unformatted_code) {\n",
       "                             nbb_cells[i].set_text(nbb_formatted_code);\n",
       "                        }\n",
       "                        break;\n",
       "                    }\n",
       "                }\n",
       "            }, 500);\n",
       "            "
      ],
      "text/plain": [
       "<IPython.core.display.Javascript object>"
      ]
     },
     "metadata": {},
     "output_type": "display_data"
    }
   ],
   "source": [
    "df_southworth = pd.read_table(\n",
    "    \"https://www.astro.keele.ac.uk/jkt/tepcat/allplanets-csv.csv\",\n",
    "    sep=r\"\\s*,\\s*\",\n",
    "    engine=\"python\",\n",
    "    index_col=\"System\",\n",
    ")\n",
    "display(df_southworth.head())\n",
    "df_southworth.dtypes"
   ]
  },
  {
   "cell_type": "markdown",
   "id": "cordless-syntax",
   "metadata": {},
   "source": [
    "It seems that something went wrong with the conversion of the `errdn.6` column (it should be a float since it corresponds to the lower bound on the uncertainty of `g_b`), so let's take a look at what happened:"
   ]
  },
  {
   "cell_type": "code",
   "execution_count": 6,
   "id": "healthy-hometown",
   "metadata": {},
   "outputs": [
    {
     "name": "stdout",
     "output_type": "stream",
     "text": [
      "Could not convert 2..9 to float at (K2-060, errdn.6)\n"
     ]
    },
    {
     "data": {
      "text/plain": [
       "['K2-060']"
      ]
     },
     "execution_count": 6,
     "metadata": {},
     "output_type": "execute_result"
    },
    {
     "data": {
      "application/javascript": [
       "\n",
       "            setTimeout(function() {\n",
       "                var nbb_cell_id = 6;\n",
       "                var nbb_unformatted_code = \"problem_col = \\\"errdn.6\\\"\\n\\n# Collect the name (indexed by System name) of each row that fails the conversion check\\nproblem_rows = []\\nfor i, s in df_southworth.iterrows():\\n    try:\\n        float(s[problem_col])\\n    except ValueError:\\n        print(f\\\"Could not convert {s[problem_col]} to float at ({i}, {problem_col})\\\")\\n        problem_rows.append(i)\\n\\nproblem_rows\";\n",
       "                var nbb_formatted_code = \"problem_col = \\\"errdn.6\\\"\\n\\n# Collect the name (indexed by System name) of each row that fails the conversion check\\nproblem_rows = []\\nfor i, s in df_southworth.iterrows():\\n    try:\\n        float(s[problem_col])\\n    except ValueError:\\n        print(f\\\"Could not convert {s[problem_col]} to float at ({i}, {problem_col})\\\")\\n        problem_rows.append(i)\\n\\nproblem_rows\";\n",
       "                var nbb_cells = Jupyter.notebook.get_cells();\n",
       "                for (var i = 0; i < nbb_cells.length; ++i) {\n",
       "                    if (nbb_cells[i].input_prompt_number == nbb_cell_id) {\n",
       "                        if (nbb_cells[i].get_text() == nbb_unformatted_code) {\n",
       "                             nbb_cells[i].set_text(nbb_formatted_code);\n",
       "                        }\n",
       "                        break;\n",
       "                    }\n",
       "                }\n",
       "            }, 500);\n",
       "            "
      ],
      "text/plain": [
       "<IPython.core.display.Javascript object>"
      ]
     },
     "metadata": {},
     "output_type": "display_data"
    }
   ],
   "source": [
    "problem_col = \"errdn.6\"\n",
    "\n",
    "# Collect the name (indexed by System name) of each row that fails the conversion check\n",
    "problem_rows = []\n",
    "for i, s in df_southworth.iterrows():\n",
    "    try:\n",
    "        float(s[problem_col])\n",
    "    except ValueError:\n",
    "        print(f\"Could not convert {s[problem_col]} to float at ({i}, {problem_col})\")\n",
    "        problem_rows.append(i)\n",
    "\n",
    "problem_rows"
   ]
  },
  {
   "cell_type": "markdown",
   "id": "opponent-rating",
   "metadata": {},
   "source": [
    "It looks like some badly formatted data snuck in to the column for K2-060. It could be that the value should be 2.9 instead of 2..9, but since we already have so much other data, let's just play it safe and drop this row:"
   ]
  },
  {
   "cell_type": "code",
   "execution_count": 7,
   "id": "valued-metabolism",
   "metadata": {},
   "outputs": [
    {
     "data": {
      "application/javascript": [
       "\n",
       "            setTimeout(function() {\n",
       "                var nbb_cell_id = 7;\n",
       "                var nbb_unformatted_code = \"df_southworth_cleaned = df_southworth.drop(problem_rows)\";\n",
       "                var nbb_formatted_code = \"df_southworth_cleaned = df_southworth.drop(problem_rows)\";\n",
       "                var nbb_cells = Jupyter.notebook.get_cells();\n",
       "                for (var i = 0; i < nbb_cells.length; ++i) {\n",
       "                    if (nbb_cells[i].input_prompt_number == nbb_cell_id) {\n",
       "                        if (nbb_cells[i].get_text() == nbb_unformatted_code) {\n",
       "                             nbb_cells[i].set_text(nbb_formatted_code);\n",
       "                        }\n",
       "                        break;\n",
       "                    }\n",
       "                }\n",
       "            }, 500);\n",
       "            "
      ],
      "text/plain": [
       "<IPython.core.display.Javascript object>"
      ]
     },
     "metadata": {},
     "output_type": "display_data"
    }
   ],
   "source": [
    "df_southworth_cleaned = df_southworth.drop(problem_rows)"
   ]
  },
  {
   "cell_type": "markdown",
   "id": "large-techno",
   "metadata": {},
   "source": [
    "Now we can continue with the producing the final figure:"
   ]
  },
  {
   "cell_type": "code",
   "execution_count": 8,
   "id": "fewer-concentrate",
   "metadata": {},
   "outputs": [
    {
     "data": {
      "application/javascript": [
       "\n",
       "            setTimeout(function() {\n",
       "                var nbb_cell_id = 8;\n",
       "                var nbb_unformatted_code = \"logg_wakeford, Teq_wakeford, H2O_J = df_wakeford[[\\\"logg\\\", \\\"T\\\", \\\"H2O-J\\\"]].T.values\\ng_pop, Teq_pop = df_southworth_cleaned[[\\\"g_b\\\", \\\"Teq\\\"]].T.values.astype(float)\";\n",
       "                var nbb_formatted_code = \"logg_wakeford, Teq_wakeford, H2O_J = df_wakeford[[\\\"logg\\\", \\\"T\\\", \\\"H2O-J\\\"]].T.values\\ng_pop, Teq_pop = df_southworth_cleaned[[\\\"g_b\\\", \\\"Teq\\\"]].T.values.astype(float)\";\n",
       "                var nbb_cells = Jupyter.notebook.get_cells();\n",
       "                for (var i = 0; i < nbb_cells.length; ++i) {\n",
       "                    if (nbb_cells[i].input_prompt_number == nbb_cell_id) {\n",
       "                        if (nbb_cells[i].get_text() == nbb_unformatted_code) {\n",
       "                             nbb_cells[i].set_text(nbb_formatted_code);\n",
       "                        }\n",
       "                        break;\n",
       "                    }\n",
       "                }\n",
       "            }, 500);\n",
       "            "
      ],
      "text/plain": [
       "<IPython.core.display.Javascript object>"
      ]
     },
     "metadata": {},
     "output_type": "display_data"
    }
   ],
   "source": [
    "logg_wakeford, Teq_wakeford, H2O_J = df_wakeford[[\"logg\", \"T\", \"H2O-J\"]].T.values\n",
    "g_pop, Teq_pop = df_southworth_cleaned[[\"g_b\", \"Teq\"]].T.values.astype(float)"
   ]
  },
  {
   "cell_type": "code",
   "execution_count": 9,
   "id": "moderate-array",
   "metadata": {},
   "outputs": [
    {
     "data": {
      "image/png": "[encoded data removed]",
      "text/plain": [
       "<Figure size 792x360 with 2 Axes>"
      ]
     },
     "metadata": {},
     "output_type": "display_data"
    },
    {
     "data": {
      "application/javascript": [
       "\n",
       "            setTimeout(function() {\n",
       "                var nbb_cell_id = 9;\n",
       "                var nbb_unformatted_code = \"\\\"\\\"\\\"\\nUpdated Stevenson+ 16 plot using the H2O-J measurements from \\nWakeford+ 2019\\n\\\"\\\"\\\"\\nfig, ax = plt.subplots(figsize=FIG_WIDE)\\n\\n# Plot catalog targets\\ng_pop_pos_idxs = g_pop > 0.0  # Avoid taking log of invalid nums\\nlogg_southworth = np.log10(100 * g_pop[g_pop_pos_idxs])  # log10(SI -> CGS)\\nT_eq_southworth = Teq_pop[g_pop_pos_idxs]\\nax.plot(\\n    logg_southworth,\\n    T_eq_southworth,\\n    \\\"o\\\",\\n    color=\\\"gray\\\",\\n    alpha=0.3,\\n    zorder=-10,\\n    ms=10,\\n    mew=0,\\n)\\n\\n# Plot H2O-J information\\npoints = ax.scatter(\\n    logg_wakeford,\\n    Teq_wakeford,\\n    c=H2O_J,\\n    marker=\\\"s\\\",\\n    s=100,\\n    edgecolor=\\\"k\\\",\\n    cmap=\\\"PuOr\\\",\\n    vmin=0,\\n    vmax=2,\\n)\\ncbar = plt.colorbar(points)\\ncbar.set_label(\\\"H$_{2}$O - J\\\", fontsize=16, labelpad=30, rotation=270)\\n\\n# Plot HAT-P-23b for context\\ntarg_coords = (3.485, 2027)\\nax.scatter(\\n    *targ_coords,\\n    c=\\\"#F3F3F3\\\",\\n    marker=\\\"*\\\",\\n    s=1000,\\n    edgecolor=\\\"k\\\",\\n    cmap=\\\"PuOr\\\",\\n    vmin=0,\\n    vmax=2,\\n)\\nax.annotate(\\n    \\\"HAT-P-23b\\\",\\n    xy=targ_coords,\\n    xytext=(10, 10),\\n    textcoords=\\\"offset points\\\",\\n    # ha = \\\"left\\\",\\n    fontsize=12,\\n    weight=\\\"bold\\\",\\n)\\n\\n\\n# Plot divide\\nm = (300 - 2100) / (3.3 - 2.4)\\nloggs = np.linspace(*ax.get_xlim(), 100)\\nTeqs = m * (loggs - 2.4) + 2100\\nax.plot(loggs, Teqs, ls=\\\"dashed\\\", lw=3, color=\\\"grey\\\")\\n\\n# Save fig\\nax.set_xlim(2.4, 4.0)\\nax.set_ylim(300, 2_700)\\nax.set_xlabel(\\\"$log(g)$ (dex)\\\")\\nax.set_ylabel(\\\"T$_{eq}$ (K)\\\")\\n\\nutils.savefig(\\\"../paper/figures/water_feature_trend.pdf\\\")\";\n",
       "                var nbb_formatted_code = \"\\\"\\\"\\\"\\nUpdated Stevenson+ 16 plot using the H2O-J measurements from \\nWakeford+ 2019\\n\\\"\\\"\\\"\\nfig, ax = plt.subplots(figsize=FIG_WIDE)\\n\\n# Plot catalog targets\\ng_pop_pos_idxs = g_pop > 0.0  # Avoid taking log of invalid nums\\nlogg_southworth = np.log10(100 * g_pop[g_pop_pos_idxs])  # log10(SI -> CGS)\\nT_eq_southworth = Teq_pop[g_pop_pos_idxs]\\nax.plot(\\n    logg_southworth,\\n    T_eq_southworth,\\n    \\\"o\\\",\\n    color=\\\"gray\\\",\\n    alpha=0.3,\\n    zorder=-10,\\n    ms=10,\\n    mew=0,\\n)\\n\\n# Plot H2O-J information\\npoints = ax.scatter(\\n    logg_wakeford,\\n    Teq_wakeford,\\n    c=H2O_J,\\n    marker=\\\"s\\\",\\n    s=100,\\n    edgecolor=\\\"k\\\",\\n    cmap=\\\"PuOr\\\",\\n    vmin=0,\\n    vmax=2,\\n)\\ncbar = plt.colorbar(points)\\ncbar.set_label(\\\"H$_{2}$O - J\\\", fontsize=16, labelpad=30, rotation=270)\\n\\n# Plot HAT-P-23b for context\\ntarg_coords = (3.485, 2027)\\nax.scatter(\\n    *targ_coords,\\n    c=\\\"#F3F3F3\\\",\\n    marker=\\\"*\\\",\\n    s=1000,\\n    edgecolor=\\\"k\\\",\\n    cmap=\\\"PuOr\\\",\\n    vmin=0,\\n    vmax=2,\\n)\\nax.annotate(\\n    \\\"HAT-P-23b\\\",\\n    xy=targ_coords,\\n    xytext=(10, 10),\\n    textcoords=\\\"offset points\\\",\\n    # ha = \\\"left\\\",\\n    fontsize=12,\\n    weight=\\\"bold\\\",\\n)\\n\\n\\n# Plot divide\\nm = (300 - 2100) / (3.3 - 2.4)\\nloggs = np.linspace(*ax.get_xlim(), 100)\\nTeqs = m * (loggs - 2.4) + 2100\\nax.plot(loggs, Teqs, ls=\\\"dashed\\\", lw=3, color=\\\"grey\\\")\\n\\n# Save fig\\nax.set_xlim(2.4, 4.0)\\nax.set_ylim(300, 2_700)\\nax.set_xlabel(\\\"$log(g)$ (dex)\\\")\\nax.set_ylabel(\\\"T$_{eq}$ (K)\\\")\\n\\nutils.savefig(\\\"../paper/figures/water_feature_trend.pdf\\\")\";\n",
       "                var nbb_cells = Jupyter.notebook.get_cells();\n",
       "                for (var i = 0; i < nbb_cells.length; ++i) {\n",
       "                    if (nbb_cells[i].input_prompt_number == nbb_cell_id) {\n",
       "                        if (nbb_cells[i].get_text() == nbb_unformatted_code) {\n",
       "                             nbb_cells[i].set_text(nbb_formatted_code);\n",
       "                        }\n",
       "                        break;\n",
       "                    }\n",
       "                }\n",
       "            }, 500);\n",
       "            "
      ],
      "text/plain": [
       "<IPython.core.display.Javascript object>"
      ]
     },
     "metadata": {},
     "output_type": "display_data"
    }
   ],
   "source": [
    "\"\"\"\n",
    "Updated Stevenson+ 16 plot using the H2O-J measurements from \n",
    "Wakeford+ 2019\n",
    "\"\"\"\n",
    "fig, ax = plt.subplots(figsize=FIG_WIDE)\n",
    "\n",
    "# Plot catalog targets\n",
    "g_pop_pos_idxs = g_pop > 0.0  # Avoid taking log of invalid nums\n",
    "logg_southworth = np.log10(100 * g_pop[g_pop_pos_idxs])  # log10(SI -> CGS)\n",
    "T_eq_southworth = Teq_pop[g_pop_pos_idxs]\n",
    "ax.plot(\n",
    "    logg_southworth,\n",
    "    T_eq_southworth,\n",
    "    \"o\",\n",
    "    color=\"gray\",\n",
    "    alpha=0.3,\n",
    "    zorder=-10,\n",
    "    ms=10,\n",
    "    mew=0,\n",
    ")\n",
    "\n",
    "# Plot H2O-J information\n",
    "points = ax.scatter(\n",
    "    logg_wakeford,\n",
    "    Teq_wakeford,\n",
    "    c=H2O_J,\n",
    "    marker=\"s\",\n",
    "    s=100,\n",
    "    edgecolor=\"k\",\n",
    "    cmap=\"PuOr\",\n",
    "    vmin=0,\n",
    "    vmax=2,\n",
    ")\n",
    "cbar = plt.colorbar(points)\n",
    "cbar.set_label(\"H$_{2}$O - J\", fontsize=16, labelpad=30, rotation=270)\n",
    "\n",
    "# Plot HAT-P-23b for context\n",
    "targ_coords = (3.485, 2027)\n",
    "ax.scatter(\n",
    "    *targ_coords,\n",
    "    c=\"#F3F3F3\",\n",
    "    marker=\"*\",\n",
    "    s=1000,\n",
    "    edgecolor=\"k\",\n",
    "    cmap=\"PuOr\",\n",
    "    vmin=0,\n",
    "    vmax=2,\n",
    ")\n",
    "ax.annotate(\n",
    "    \"HAT-P-23b\",\n",
    "    xy=targ_coords,\n",
    "    xytext=(10, 10),\n",
    "    textcoords=\"offset points\",\n",
    "    # ha = \"left\",\n",
    "    fontsize=12,\n",
    "    weight=\"bold\",\n",
    ")\n",
    "\n",
    "\n",
    "# Plot divide\n",
    "m = (300 - 2100) / (3.3 - 2.4)\n",
    "loggs = np.linspace(*ax.get_xlim(), 100)\n",
    "Teqs = m * (loggs - 2.4) + 2100\n",
    "ax.plot(loggs, Teqs, ls=\"dashed\", lw=3, color=\"grey\")\n",
    "\n",
    "# Save fig\n",
    "ax.set_xlim(2.4, 4.0)\n",
    "ax.set_ylim(300, 2_700)\n",
    "ax.set_xlabel(\"$log(g)$ (dex)\")\n",
    "ax.set_ylabel(\"T$_{eq}$ (K)\")\n",
    "\n",
    "utils.savefig(\"../paper/figures/water_feature_trend.pdf\")"
   ]
  },
  {
   "cell_type": "markdown",
   "id": "executive-vocabulary",
   "metadata": {},
   "source": [
    "[Other notebooks](https://icweaver.github.io/HAT-P-23b/)"
   ]
  }
 ],
 "metadata": {
  "kernelspec": {
   "display_name": "Python 3",
   "language": "python",
   "name": "python3"
  },
  "language_info": {
   "codemirror_mode": {
    "name": "ipython",
    "version": 3
   },
   "file_extension": ".py",
   "mimetype": "text/x-python",
   "name": "python",
   "nbconvert_exporter": "python",
   "pygments_lexer": "ipython3",
   "version": "3.9.1"
  },
  "toc": {
   "base_numbering": 1,
   "nav_menu": {},
   "number_sections": false,
   "sideBar": true,
   "skip_h1_title": false,
   "title_cell": "Table of Contents",
   "title_sidebar": "Contents",
   "toc_cell": false,
   "toc_position": {},
   "toc_section_display": true,
   "toc_window_display": true
  }
 },
 "nbformat": 4,
 "nbformat_minor": 5
}
