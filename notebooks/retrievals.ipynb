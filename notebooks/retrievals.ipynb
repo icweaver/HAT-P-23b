{
 "cells": [
  {
   "cell_type": "code",
   "execution_count": 12,
   "id": "little-frederick",
   "metadata": {},
   "outputs": [
    {
     "name": "stdout",
     "output_type": "stream",
     "text": [
      "The nb_black extension is already loaded. To reload it, use:\n",
      "  %reload_ext nb_black\n",
      "The autoreload extension is already loaded. To reload it, use:\n",
      "  %reload_ext autoreload\n"
     ]
    },
    {
     "data": {
      "application/javascript": [
       "\n",
       "            setTimeout(function() {\n",
       "                var nbb_cell_id = 12;\n",
       "                var nbb_unformatted_code = \"%load_ext nb_black\\n%load_ext autoreload\\n%autoreload 2\";\n",
       "                var nbb_formatted_code = \"%load_ext nb_black\\n%load_ext autoreload\\n%autoreload 2\";\n",
       "                var nbb_cells = Jupyter.notebook.get_cells();\n",
       "                for (var i = 0; i < nbb_cells.length; ++i) {\n",
       "                    if (nbb_cells[i].input_prompt_number == nbb_cell_id) {\n",
       "                        if (nbb_cells[i].get_text() == nbb_unformatted_code) {\n",
       "                             nbb_cells[i].set_text(nbb_formatted_code);\n",
       "                        }\n",
       "                        break;\n",
       "                    }\n",
       "                }\n",
       "            }, 500);\n",
       "            "
      ],
      "text/plain": [
       "<IPython.core.display.Javascript object>"
      ]
     },
     "metadata": {},
     "output_type": "display_data"
    }
   ],
   "source": [
    "%load_ext nb_black\n",
    "%load_ext autoreload\n",
    "%autoreload 2"
   ]
  },
  {
   "cell_type": "code",
   "execution_count": 180,
   "id": "physical-recall",
   "metadata": {},
   "outputs": [
    {
     "data": {
      "application/javascript": [
       "\n",
       "            setTimeout(function() {\n",
       "                var nbb_cell_id = 180;\n",
       "                var nbb_unformatted_code = \"import glob as glob\\nimport matplotlib as mpl\\nimport matplotlib.patheffects as PathEffects\\nimport matplotlib.pyplot as plt\\nimport matplotlib.transforms as transforms\\nimport numpy as np\\nimport pandas as pd\\nimport seaborn as sns\\n\\nimport corner\\nimport json\\nimport pathlib\\nimport pickle\\nimport utils\\nimport warnings\\n\\nfrom astropy import constants as const\\nfrom astropy import units as uni\\nfrom astropy.io import ascii, fits\\nfrom astropy.time import Time\\nfrom mpl_toolkits.axes_grid1 import ImageGrid\\n\\n# Default figure dimensions\\nFIG_WIDE = (11, 5)\\nFIG_LARGE = (8, 11)\\n\\n# Figure style\\nsns.set(style=\\\"ticks\\\", palette=\\\"colorblind\\\", color_codes=True, context=\\\"talk\\\")\\nparams = {\\n    # xticks\\n    \\\"xtick.top\\\": False,\\n    \\\"xtick.direction\\\": \\\"out\\\",\\n    \\\"xtick.major.size\\\": 5,\\n    \\\"xtick.minor.visible\\\": False,\\n    # yticks\\n    \\\"ytick.right\\\": False,\\n    \\\"ytick.direction\\\": \\\"out\\\",\\n    \\\"ytick.major.size\\\": 5,\\n    \\\"ytick.minor.visible\\\": False,\\n    # pallete\\n    \\\"axes.prop_cycle\\\": mpl.cycler(\\n        color=[\\n            \\\"#fdbf6f\\\",  # Yellow\\n            \\\"#ff7f00\\\",  # Orange\\n            \\\"#a6cee3\\\",  # Cyan\\n            \\\"#1f78b4\\\",  # Blue\\n            \\\"violet\\\",\\n            \\\"#956cb4\\\",  # Purple\\n            \\\"mediumaquamarine\\\",\\n            \\\"#029e73\\\",  # Green\\n            \\\"#c44e52\\\",  # Red\\n        ]\\n    ),\\n}\\nplt.rcParams.update(params)\";\n",
       "                var nbb_formatted_code = \"import glob as glob\\nimport matplotlib as mpl\\nimport matplotlib.patheffects as PathEffects\\nimport matplotlib.pyplot as plt\\nimport matplotlib.transforms as transforms\\nimport numpy as np\\nimport pandas as pd\\nimport seaborn as sns\\n\\nimport corner\\nimport json\\nimport pathlib\\nimport pickle\\nimport utils\\nimport warnings\\n\\nfrom astropy import constants as const\\nfrom astropy import units as uni\\nfrom astropy.io import ascii, fits\\nfrom astropy.time import Time\\nfrom mpl_toolkits.axes_grid1 import ImageGrid\\n\\n# Default figure dimensions\\nFIG_WIDE = (11, 5)\\nFIG_LARGE = (8, 11)\\n\\n# Figure style\\nsns.set(style=\\\"ticks\\\", palette=\\\"colorblind\\\", color_codes=True, context=\\\"talk\\\")\\nparams = {\\n    # xticks\\n    \\\"xtick.top\\\": False,\\n    \\\"xtick.direction\\\": \\\"out\\\",\\n    \\\"xtick.major.size\\\": 5,\\n    \\\"xtick.minor.visible\\\": False,\\n    # yticks\\n    \\\"ytick.right\\\": False,\\n    \\\"ytick.direction\\\": \\\"out\\\",\\n    \\\"ytick.major.size\\\": 5,\\n    \\\"ytick.minor.visible\\\": False,\\n    # pallete\\n    \\\"axes.prop_cycle\\\": mpl.cycler(\\n        color=[\\n            \\\"#fdbf6f\\\",  # Yellow\\n            \\\"#ff7f00\\\",  # Orange\\n            \\\"#a6cee3\\\",  # Cyan\\n            \\\"#1f78b4\\\",  # Blue\\n            \\\"violet\\\",\\n            \\\"#956cb4\\\",  # Purple\\n            \\\"mediumaquamarine\\\",\\n            \\\"#029e73\\\",  # Green\\n            \\\"#c44e52\\\",  # Red\\n        ]\\n    ),\\n}\\nplt.rcParams.update(params)\";\n",
       "                var nbb_cells = Jupyter.notebook.get_cells();\n",
       "                for (var i = 0; i < nbb_cells.length; ++i) {\n",
       "                    if (nbb_cells[i].input_prompt_number == nbb_cell_id) {\n",
       "                        if (nbb_cells[i].get_text() == nbb_unformatted_code) {\n",
       "                             nbb_cells[i].set_text(nbb_formatted_code);\n",
       "                        }\n",
       "                        break;\n",
       "                    }\n",
       "                }\n",
       "            }, 500);\n",
       "            "
      ],
      "text/plain": [
       "<IPython.core.display.Javascript object>"
      ]
     },
     "metadata": {},
     "output_type": "display_data"
    }
   ],
   "source": [
    "import glob as glob\n",
    "import matplotlib as mpl\n",
    "import matplotlib.patheffects as PathEffects\n",
    "import matplotlib.pyplot as plt\n",
    "import matplotlib.transforms as transforms\n",
    "import numpy as np\n",
    "import pandas as pd\n",
    "import seaborn as sns\n",
    "\n",
    "import corner\n",
    "import json\n",
    "import pathlib\n",
    "import pickle\n",
    "import utils\n",
    "import warnings\n",
    "\n",
    "from astropy import constants as const\n",
    "from astropy import units as uni\n",
    "from astropy.io import ascii, fits\n",
    "from astropy.time import Time\n",
    "from mpl_toolkits.axes_grid1 import ImageGrid\n",
    "\n",
    "# Default figure dimensions\n",
    "FIG_WIDE = (11, 5)\n",
    "FIG_LARGE = (8, 11)\n",
    "\n",
    "# Figure style\n",
    "sns.set(style=\"ticks\", palette=\"colorblind\", color_codes=True, context=\"talk\")\n",
    "params = {\n",
    "    # xticks\n",
    "    \"xtick.top\": False,\n",
    "    \"xtick.direction\": \"out\",\n",
    "    \"xtick.major.size\": 5,\n",
    "    \"xtick.minor.visible\": False,\n",
    "    # yticks\n",
    "    \"ytick.right\": False,\n",
    "    \"ytick.direction\": \"out\",\n",
    "    \"ytick.major.size\": 5,\n",
    "    \"ytick.minor.visible\": False,\n",
    "    # pallete\n",
    "    \"axes.prop_cycle\": mpl.cycler(\n",
    "        color=[\n",
    "            \"#fdbf6f\",  # Yellow\n",
    "            \"#ff7f00\",  # Orange\n",
    "            \"#a6cee3\",  # Cyan\n",
    "            \"#1f78b4\",  # Blue\n",
    "            \"violet\",\n",
    "            \"#956cb4\",  # Purple\n",
    "            \"mediumaquamarine\",\n",
    "            \"#029e73\",  # Green\n",
    "            \"#c44e52\",  # Red\n",
    "        ]\n",
    "    ),\n",
    "}\n",
    "plt.rcParams.update(params)"
   ]
  },
  {
   "cell_type": "markdown",
   "id": "nonprofit-sound",
   "metadata": {},
   "source": [
    "## Load"
   ]
  },
  {
   "cell_type": "code",
   "execution_count": 35,
   "id": "incorrect-christopher",
   "metadata": {},
   "outputs": [
    {
     "data": {
      "text/plain": [
       "{'Na+K+TiO (clear)': 'data/retrievals/spot_upper_bound/HATP23_E1_NoHet_FitP0_NoClouds_NoHaze_fitR0_Na_K_TiO',\n",
       " 'Na+K+TiO (haze)': 'data/retrievals/spot_upper_bound/HATP23_E1_NoHet_FitP0_NoClouds_Haze_fitR0_Na_K_TiO',\n",
       " 'Na+K+TiO (spot)': 'data/retrievals/spot_upper_bound/HATP23_E1_Het_FitP0_NoClouds_NoHaze_fitR0_Na_K_TiO',\n",
       " 'Na+K+TiO (spot+haze)': 'data/retrievals/spot_upper_bound/HATP23_E1_Het_FitP0_NoClouds_Haze_fitR0_Na_K_TiO'}"
      ]
     },
     "execution_count": 35,
     "metadata": {},
     "output_type": "execute_result"
    },
    {
     "data": {
      "application/javascript": [
       "\n",
       "            setTimeout(function() {\n",
       "                var nbb_cell_id = 35;\n",
       "                var nbb_unformatted_code = \"base_dir = \\\"data/retrievals/spot_upper_bound\\\"\\n\\n########\\n# Models\\n########\\nfpaths_dict = {\\n    \\\"Na+K+TiO (clear)\\\": f\\\"{base_dir}/HATP23_E1_NoHet_FitP0_NoClouds_NoHaze_fitR0_Na_K_TiO\\\",\\n    \\\"Na+K+TiO (haze)\\\": f\\\"{base_dir}/HATP23_E1_NoHet_FitP0_NoClouds_Haze_fitR0_Na_K_TiO\\\",\\n    \\\"Na+K+TiO (spot)\\\": f\\\"{base_dir}/HATP23_E1_Het_FitP0_NoClouds_NoHaze_fitR0_Na_K_TiO\\\",\\n    \\\"Na+K+TiO (spot+haze)\\\": f\\\"{base_dir}/HATP23_E1_Het_FitP0_NoClouds_Haze_fitR0_Na_K_TiO\\\",\\n}\\nfpaths_dict\";\n",
       "                var nbb_formatted_code = \"base_dir = \\\"data/retrievals/spot_upper_bound\\\"\\n\\n########\\n# Models\\n########\\nfpaths_dict = {\\n    \\\"Na+K+TiO (clear)\\\": f\\\"{base_dir}/HATP23_E1_NoHet_FitP0_NoClouds_NoHaze_fitR0_Na_K_TiO\\\",\\n    \\\"Na+K+TiO (haze)\\\": f\\\"{base_dir}/HATP23_E1_NoHet_FitP0_NoClouds_Haze_fitR0_Na_K_TiO\\\",\\n    \\\"Na+K+TiO (spot)\\\": f\\\"{base_dir}/HATP23_E1_Het_FitP0_NoClouds_NoHaze_fitR0_Na_K_TiO\\\",\\n    \\\"Na+K+TiO (spot+haze)\\\": f\\\"{base_dir}/HATP23_E1_Het_FitP0_NoClouds_Haze_fitR0_Na_K_TiO\\\",\\n}\\nfpaths_dict\";\n",
       "                var nbb_cells = Jupyter.notebook.get_cells();\n",
       "                for (var i = 0; i < nbb_cells.length; ++i) {\n",
       "                    if (nbb_cells[i].input_prompt_number == nbb_cell_id) {\n",
       "                        if (nbb_cells[i].get_text() == nbb_unformatted_code) {\n",
       "                             nbb_cells[i].set_text(nbb_formatted_code);\n",
       "                        }\n",
       "                        break;\n",
       "                    }\n",
       "                }\n",
       "            }, 500);\n",
       "            "
      ],
      "text/plain": [
       "<IPython.core.display.Javascript object>"
      ]
     },
     "metadata": {},
     "output_type": "display_data"
    }
   ],
   "source": [
    "base_dir = \"data/retrievals/spot_upper_bound\"\n",
    "\n",
    "########\n",
    "# Models\n",
    "########\n",
    "fpaths_dict = {\n",
    "    \"Na+K+TiO (clear)\": f\"{base_dir}/HATP23_E1_NoHet_FitP0_NoClouds_NoHaze_fitR0_Na_K_TiO\",\n",
    "    \"Na+K+TiO (haze)\": f\"{base_dir}/HATP23_E1_NoHet_FitP0_NoClouds_Haze_fitR0_Na_K_TiO\",\n",
    "    \"Na+K+TiO (spot)\": f\"{base_dir}/HATP23_E1_Het_FitP0_NoClouds_NoHaze_fitR0_Na_K_TiO\",\n",
    "    \"Na+K+TiO (spot+haze)\": f\"{base_dir}/HATP23_E1_Het_FitP0_NoClouds_Haze_fitR0_Na_K_TiO\",\n",
    "}\n",
    "fpaths_dict"
   ]
  },
  {
   "cell_type": "code",
   "execution_count": 38,
   "id": "roman-perspective",
   "metadata": {},
   "outputs": [
    {
     "data": {
      "application/javascript": [
       "\n",
       "            setTimeout(function() {\n",
       "                var nbb_cell_id = 38;\n",
       "                var nbb_unformatted_code = \"# Load\\ndata_dict = {\\n    model_name: {\\n        \\\"data\\\": ascii.read(f\\\"{model_dir}/retr_model.txt\\\"),\\n        \\\"sampled_data\\\": ascii.read(\\n            f\\\"{model_dir}/retr_model_sampled_Magellan_IMACS.txt\\\"\\n        ),\\n    }\\n    for (model_name, model_dir) in fpaths_dict.items()\\n}\\n\\ninstrument_dict = {\\n    \\\"Magellan_IMACS\\\": {\\n        \\\"plot_kwargs\\\": {\\n            \\\"c\\\": \\\"w\\\",\\n            \\\"mec\\\": \\\"k\\\",\\n            \\\"fmt\\\": \\\"o\\\",\\n            \\\"ecolor\\\": \\\"k\\\",\\n            \\\"label\\\": \\\"Magellan/IMACS\\\",\\n            \\\"zorder\\\": 10,\\n        },\\n        \\\"data\\\": ascii.read(f\\\"{base_dir}/instruments/retr_Magellan_IMACS.txt\\\"),\\n    }\\n}\";\n",
       "                var nbb_formatted_code = \"# Load\\ndata_dict = {\\n    model_name: {\\n        \\\"data\\\": ascii.read(f\\\"{model_dir}/retr_model.txt\\\"),\\n        \\\"sampled_data\\\": ascii.read(\\n            f\\\"{model_dir}/retr_model_sampled_Magellan_IMACS.txt\\\"\\n        ),\\n    }\\n    for (model_name, model_dir) in fpaths_dict.items()\\n}\\n\\ninstrument_dict = {\\n    \\\"Magellan_IMACS\\\": {\\n        \\\"plot_kwargs\\\": {\\n            \\\"c\\\": \\\"w\\\",\\n            \\\"mec\\\": \\\"k\\\",\\n            \\\"fmt\\\": \\\"o\\\",\\n            \\\"ecolor\\\": \\\"k\\\",\\n            \\\"label\\\": \\\"Magellan/IMACS\\\",\\n            \\\"zorder\\\": 10,\\n        },\\n        \\\"data\\\": ascii.read(f\\\"{base_dir}/instruments/retr_Magellan_IMACS.txt\\\"),\\n    }\\n}\";\n",
       "                var nbb_cells = Jupyter.notebook.get_cells();\n",
       "                for (var i = 0; i < nbb_cells.length; ++i) {\n",
       "                    if (nbb_cells[i].input_prompt_number == nbb_cell_id) {\n",
       "                        if (nbb_cells[i].get_text() == nbb_unformatted_code) {\n",
       "                             nbb_cells[i].set_text(nbb_formatted_code);\n",
       "                        }\n",
       "                        break;\n",
       "                    }\n",
       "                }\n",
       "            }, 500);\n",
       "            "
      ],
      "text/plain": [
       "<IPython.core.display.Javascript object>"
      ]
     },
     "metadata": {},
     "output_type": "display_data"
    }
   ],
   "source": [
    "# Load\n",
    "data_dict = {\n",
    "    model_name: {\n",
    "        \"data\": ascii.read(f\"{model_dir}/retr_model.txt\"),\n",
    "        \"sampled_data\": ascii.read(\n",
    "            f\"{model_dir}/retr_model_sampled_Magellan_IMACS.txt\"\n",
    "        ),\n",
    "    }\n",
    "    for (model_name, model_dir) in fpaths_dict.items()\n",
    "}\n",
    "\n",
    "instrument_dict = {\n",
    "    \"Magellan_IMACS\": {\n",
    "        \"plot_kwargs\": {\n",
    "            \"c\": \"w\",\n",
    "            \"mec\": \"k\",\n",
    "            \"fmt\": \"o\",\n",
    "            \"ecolor\": \"k\",\n",
    "            \"label\": \"Magellan/IMACS\",\n",
    "            \"zorder\": 10,\n",
    "        },\n",
    "        \"data\": ascii.read(f\"{base_dir}/instruments/retr_Magellan_IMACS.txt\"),\n",
    "    }\n",
    "}"
   ]
  },
  {
   "cell_type": "markdown",
   "id": "radio-preservation",
   "metadata": {},
   "source": [
    "## Plot"
   ]
  },
  {
   "cell_type": "code",
   "execution_count": 39,
   "id": "unknown-toilet",
   "metadata": {},
   "outputs": [
    {
     "data": {
      "application/javascript": [
       "\n",
       "            setTimeout(function() {\n",
       "                var nbb_cell_id = 39;\n",
       "                var nbb_unformatted_code = \"fig, ax = plt.subplots(figsize=FIG_WIDE)\\n\\nfor (model_name, model_dict) in data_dict.items():\\n    # Plot model\\n    p = utils.plot_model(\\n        ax,\\n        model_dict,\\n        model_kwargs={\\\"label\\\": model_name},\\n        fill_kwargs={\\\"alpha\\\": 0.25},\\n        sample_kwargs={\\\"marker\\\": \\\"o\\\"},\\n    )\\n\\n#############\\n# Instruments\\n#############\\nfor (instrument_name, instrument_data) in instrument_dict.items():\\n    instrument_name = instrument_name.replace(\\\"_\\\", \\\"/\\\")\\n    utils.plot_instrument(ax, instrument_data)\\n\\n####################\\n# Annotate Delta lnZ\\n####################\\n# fpath = f\\\"{models[model_key_name]}/retrieval.pkl\\\"\\n# fpath_flat = f'{models[\\\"K (clear)\\\"]}/retrieval.pkl'\\n# DlnZ, DlnZ_unc, lnZ, lnZ_unc = utils.get_Delta_lnZ(fpath, fpath_flat)\\n# s = f\\\"$\\\\Delta \\\\ln(Z) = {DlnZ:.2f} \\\\pm {DlnZ_unc:.2f}$\\\"\\n# ax.annotate(s, (0.02, 0.05), xycoords=\\\"axes fraction\\\")\\n\\n\\\"\\\"\\\"\\n# Plot inset\\naxins = ax.inset_axes([0.5, 0.5, 0.5, 0.5])\\n# Shortcut to zoom in on last instrument\\np = plot_instrument(axins, instr, instr_sampled, instr_kwargs=configs, sampled_kwargs=sampled_kwargs)\\naxins.set_xlim(p.get_xlim())\\naxins.set_ylim(p.get_ylim())\\nplot_model(axins, model, model_kwargs=model_kwargs, fill_kwargs=fill_kwargs)\\nax.indicate_inset_zoom(axins, alpha=1.0, edgecolor='w')\\n\\\"\\\"\\\"\\n\\nax.set_xlim(0.5, 0.95)\\nax.set_ylim(12_400, 14_500)\\nax.set_xlabel(r\\\"Wavelength $(\\\\mu\\\\mathrm{m})$\\\")\\nax.set_ylabel(\\\"Transit depth (ppm)\\\")\\nax.legend(loc=1, ncol=3, fontsize=14)\\n\\n#########\\n# Species\\n#########\\nspecies = {\\n    \\\"Na I-D\\\": 5892.9,\\n    #'H\\u03b1':6564.6,\\n    \\\"K I_avg\\\": 7682.0,\\n    \\\"Na I-8200_avg\\\": 8189.0,\\n}\\n[\\n    ax.axvline(wav / 10000, lw=0.5, ls=\\\"--\\\", color=\\\"grey\\\", zorder=0)\\n    for name, wav in species.items()\\n]\\n\\n# ax.annotate(f\\\"Python 2\\\", (0.05, 0.9), xycoords='axes fraction')\\n\\n# plt.savefig('/Users/mango/Desktop/exoretrievals_py2.png', dpi=250, bbox_inches='tight')\\n\\nfig.set_size_inches(FIG_WIDE)\\n# fig.tight_layout()\\n# utils.savefig('projects/HATP23b/paper/figures/retrievals/retrieval.pdf')\\n# plt.savefig(f\\\"/Users/mango/Desktop/tspec_haze_mid.pdf\\\", bbox_inches=\\\"tight\\\")\\n# plt.savefig(f'../retrieval/kreidberg/{species}/tspec/retr_{basename}.pdf', bbox_inches='tight')\";\n",
       "                var nbb_formatted_code = \"fig, ax = plt.subplots(figsize=FIG_WIDE)\\n\\nfor (model_name, model_dict) in data_dict.items():\\n    # Plot model\\n    p = utils.plot_model(\\n        ax,\\n        model_dict,\\n        model_kwargs={\\\"label\\\": model_name},\\n        fill_kwargs={\\\"alpha\\\": 0.25},\\n        sample_kwargs={\\\"marker\\\": \\\"o\\\"},\\n    )\\n\\n#############\\n# Instruments\\n#############\\nfor (instrument_name, instrument_data) in instrument_dict.items():\\n    instrument_name = instrument_name.replace(\\\"_\\\", \\\"/\\\")\\n    utils.plot_instrument(ax, instrument_data)\\n\\n####################\\n# Annotate Delta lnZ\\n####################\\n# fpath = f\\\"{models[model_key_name]}/retrieval.pkl\\\"\\n# fpath_flat = f'{models[\\\"K (clear)\\\"]}/retrieval.pkl'\\n# DlnZ, DlnZ_unc, lnZ, lnZ_unc = utils.get_Delta_lnZ(fpath, fpath_flat)\\n# s = f\\\"$\\\\Delta \\\\ln(Z) = {DlnZ:.2f} \\\\pm {DlnZ_unc:.2f}$\\\"\\n# ax.annotate(s, (0.02, 0.05), xycoords=\\\"axes fraction\\\")\\n\\n\\\"\\\"\\\"\\n# Plot inset\\naxins = ax.inset_axes([0.5, 0.5, 0.5, 0.5])\\n# Shortcut to zoom in on last instrument\\np = plot_instrument(axins, instr, instr_sampled, instr_kwargs=configs, sampled_kwargs=sampled_kwargs)\\naxins.set_xlim(p.get_xlim())\\naxins.set_ylim(p.get_ylim())\\nplot_model(axins, model, model_kwargs=model_kwargs, fill_kwargs=fill_kwargs)\\nax.indicate_inset_zoom(axins, alpha=1.0, edgecolor='w')\\n\\\"\\\"\\\"\\n\\nax.set_xlim(0.5, 0.95)\\nax.set_ylim(12_400, 14_500)\\nax.set_xlabel(r\\\"Wavelength $(\\\\mu\\\\mathrm{m})$\\\")\\nax.set_ylabel(\\\"Transit depth (ppm)\\\")\\nax.legend(loc=1, ncol=3, fontsize=14)\\n\\n#########\\n# Species\\n#########\\nspecies = {\\n    \\\"Na I-D\\\": 5892.9,\\n    #'H\\u03b1':6564.6,\\n    \\\"K I_avg\\\": 7682.0,\\n    \\\"Na I-8200_avg\\\": 8189.0,\\n}\\n[\\n    ax.axvline(wav / 10000, lw=0.5, ls=\\\"--\\\", color=\\\"grey\\\", zorder=0)\\n    for name, wav in species.items()\\n]\\n\\n# ax.annotate(f\\\"Python 2\\\", (0.05, 0.9), xycoords='axes fraction')\\n\\n# plt.savefig('/Users/mango/Desktop/exoretrievals_py2.png', dpi=250, bbox_inches='tight')\\n\\nfig.set_size_inches(FIG_WIDE)\\n# fig.tight_layout()\\n# utils.savefig('projects/HATP23b/paper/figures/retrievals/retrieval.pdf')\\n# plt.savefig(f\\\"/Users/mango/Desktop/tspec_haze_mid.pdf\\\", bbox_inches=\\\"tight\\\")\\n# plt.savefig(f'../retrieval/kreidberg/{species}/tspec/retr_{basename}.pdf', bbox_inches='tight')\";\n",
       "                var nbb_cells = Jupyter.notebook.get_cells();\n",
       "                for (var i = 0; i < nbb_cells.length; ++i) {\n",
       "                    if (nbb_cells[i].input_prompt_number == nbb_cell_id) {\n",
       "                        if (nbb_cells[i].get_text() == nbb_unformatted_code) {\n",
       "                             nbb_cells[i].set_text(nbb_formatted_code);\n",
       "                        }\n",
       "                        break;\n",
       "                    }\n",
       "                }\n",
       "            }, 500);\n",
       "            "
      ],
      "text/plain": [
       "<IPython.core.display.Javascript object>"
      ]
     },
     "metadata": {},
     "output_type": "display_data"
    }
   ],
   "source": [
    "fig, ax = plt.subplots(figsize=FIG_WIDE)\n",
    "\n",
    "for (model_name, model_dict) in data_dict.items():\n",
    "    # Plot model\n",
    "    p = utils.plot_model(\n",
    "        ax,\n",
    "        model_dict,\n",
    "        model_kwargs={\"label\": model_name},\n",
    "        fill_kwargs={\"alpha\": 0.25},\n",
    "        sample_kwargs={\"marker\": \"o\"},\n",
    "    )\n",
    "\n",
    "#############\n",
    "# Instruments\n",
    "#############\n",
    "for (instrument_name, instrument_data) in instrument_dict.items():\n",
    "    instrument_name = instrument_name.replace(\"_\", \"/\")\n",
    "    utils.plot_instrument(ax, instrument_data)\n",
    "\n",
    "####################\n",
    "# Annotate Delta lnZ\n",
    "####################\n",
    "# fpath = f\"{models[model_key_name]}/retrieval.pkl\"\n",
    "# fpath_flat = f'{models[\"K (clear)\"]}/retrieval.pkl'\n",
    "# DlnZ, DlnZ_unc, lnZ, lnZ_unc = utils.get_Delta_lnZ(fpath, fpath_flat)\n",
    "# s = f\"$\\Delta \\ln(Z) = {DlnZ:.2f} \\pm {DlnZ_unc:.2f}$\"\n",
    "# ax.annotate(s, (0.02, 0.05), xycoords=\"axes fraction\")\n",
    "\n",
    "\"\"\"\n",
    "# Plot inset\n",
    "axins = ax.inset_axes([0.5, 0.5, 0.5, 0.5])\n",
    "# Shortcut to zoom in on last instrument\n",
    "p = plot_instrument(axins, instr, instr_sampled, instr_kwargs=configs, sampled_kwargs=sampled_kwargs)\n",
    "axins.set_xlim(p.get_xlim())\n",
    "axins.set_ylim(p.get_ylim())\n",
    "plot_model(axins, model, model_kwargs=model_kwargs, fill_kwargs=fill_kwargs)\n",
    "ax.indicate_inset_zoom(axins, alpha=1.0, edgecolor='w')\n",
    "\"\"\"\n",
    "\n",
    "ax.set_xlim(0.5, 0.95)\n",
    "ax.set_ylim(12_400, 14_500)\n",
    "ax.set_xlabel(r\"Wavelength $(\\mu\\mathrm{m})$\")\n",
    "ax.set_ylabel(\"Transit depth (ppm)\")\n",
    "ax.legend(loc=1, ncol=3, fontsize=14)\n",
    "\n",
    "#########\n",
    "# Species\n",
    "#########\n",
    "species = {\n",
    "    \"Na I-D\": 5892.9,\n",
    "    #'Hα':6564.6,\n",
    "    \"K I_avg\": 7682.0,\n",
    "    \"Na I-8200_avg\": 8189.0,\n",
    "}\n",
    "[\n",
    "    ax.axvline(wav / 10000, lw=0.5, ls=\"--\", color=\"grey\", zorder=0)\n",
    "    for name, wav in species.items()\n",
    "]\n",
    "\n",
    "# ax.annotate(f\"Python 2\", (0.05, 0.9), xycoords='axes fraction')\n",
    "\n",
    "# plt.savefig('/Users/mango/Desktop/exoretrievals_py2.png', dpi=250, bbox_inches='tight')\n",
    "\n",
    "fig.set_size_inches(FIG_WIDE)\n",
    "# fig.tight_layout()\n",
    "# utils.savefig('projects/HATP23b/paper/figures/retrievals/retrieval.pdf')\n",
    "# plt.savefig(f\"/Users/mango/Desktop/tspec_haze_mid.pdf\", bbox_inches=\"tight\")\n",
    "# plt.savefig(f'../retrieval/kreidberg/{species}/tspec/retr_{basename}.pdf', bbox_inches='tight')"
   ]
  },
  {
   "cell_type": "markdown",
   "id": "ethical-investigation",
   "metadata": {},
   "source": [
    "## Corner plot"
   ]
  },
  {
   "cell_type": "code",
   "execution_count": 41,
   "id": "oriented-eclipse",
   "metadata": {},
   "outputs": [
    {
     "data": {
      "application/javascript": [
       "\n",
       "            setTimeout(function() {\n",
       "                var nbb_cell_id = 41;\n",
       "                var nbb_unformatted_code = \"fpath = (\\n    \\\"data/retrievals/spot_lower_bound/HATP23_E1_Het_FitP0_NoClouds_NoHaze_fitR0_Na_K_TiO/retrieval.pkl\\\"\\n)\\npost = utils.load_pickle(fpath)\\n\\ndf = pd.DataFrame(post[\\\"samples\\\"])\\n\\nparams = {\\n    \\\"logP0\\\": r\\\"$\\\\log P_0$\\\",\\n    \\\"T\\\": r\\\"$T_\\\\mathrm{p}$\\\",\\n    #     'logH2O':r'$\\\\log \\\\mathrm{H}_2\\\\mathrm{O}$',\\n    \\\"logNa\\\": r\\\"$\\\\log \\\\mathrm{Na}$\\\",\\n    \\\"logK\\\": r\\\"$\\\\log \\\\mathrm{K}$\\\",\\n    \\\"logTiO\\\": r\\\"$\\\\log \\\\mathrm{TiO}$\\\",\\n    \\\"f\\\": r\\\"$f$\\\",\\n}\\n\\nif \\\"_Haze\\\" in fpath:\\n    params[\\\"loga\\\"] = r\\\"$\\\\log a$\\\"\\n    params[\\\"gamma\\\"] = r\\\"$\\\\gamma_\\\\mathrm{haze}$\\\"\\n\\nif \\\"_Het\\\" in fpath:\\n    params[\\\"Tocc\\\"] = r\\\"$T_\\\\mathrm{star}$\\\"\\n    # params[\\\"Thet\\\"] = r\\\"$T_\\\\mathrm{het}$\\\"\\n    # params[\\\"Fhet\\\"] = r\\\"$f_\\\\mathrm{het}$\\\"\\n\\ndf_params = df[params.keys()]\\n\\ncorner_kwargs = {\\\"show_titles\\\": True}\\nhist_kwargs = {\\\"histtype\\\": \\\"stepfilled\\\", \\\"lw\\\": 2, \\\"density\\\": True}\\nfig, axes = utils.plot_corner(\\n    df_params,  # .drop([\\\"Thet\\\", \\\"Fhet\\\"], axis=1),\\n    params=params,\\n    c=f\\\"C5\\\",\\n    corner_kwargs=corner_kwargs,\\n    hist_kwargs=hist_kwargs,\\n)\\n\\nfig.set_size_inches(18, 18)\\n\\n# utils.savefig('projects/HATP23b/paper/figures/retrievals/retrieval_corner.pdf')\\n# plt.savefig(f'../retrieval/kreidberg/{species}/corner/corner_{basename}.pdf', bbox_inches='tight')\\n# plt.savefig(f'/Users/mango/Desktop/corner_{source}_all.pdf', bbox_inches='tight')\\n# plt.savefig(f\\\"/Users/mango/Desktop/corner_test.pdf\\\", bbox_inches=\\\"tight\\\")\";\n",
       "                var nbb_formatted_code = \"fpath = \\\"data/retrievals/spot_lower_bound/HATP23_E1_Het_FitP0_NoClouds_NoHaze_fitR0_Na_K_TiO/retrieval.pkl\\\"\\npost = utils.load_pickle(fpath)\\n\\ndf = pd.DataFrame(post[\\\"samples\\\"])\\n\\nparams = {\\n    \\\"logP0\\\": r\\\"$\\\\log P_0$\\\",\\n    \\\"T\\\": r\\\"$T_\\\\mathrm{p}$\\\",\\n    #     'logH2O':r'$\\\\log \\\\mathrm{H}_2\\\\mathrm{O}$',\\n    \\\"logNa\\\": r\\\"$\\\\log \\\\mathrm{Na}$\\\",\\n    \\\"logK\\\": r\\\"$\\\\log \\\\mathrm{K}$\\\",\\n    \\\"logTiO\\\": r\\\"$\\\\log \\\\mathrm{TiO}$\\\",\\n    \\\"f\\\": r\\\"$f$\\\",\\n}\\n\\nif \\\"_Haze\\\" in fpath:\\n    params[\\\"loga\\\"] = r\\\"$\\\\log a$\\\"\\n    params[\\\"gamma\\\"] = r\\\"$\\\\gamma_\\\\mathrm{haze}$\\\"\\n\\nif \\\"_Het\\\" in fpath:\\n    params[\\\"Tocc\\\"] = r\\\"$T_\\\\mathrm{star}$\\\"\\n    # params[\\\"Thet\\\"] = r\\\"$T_\\\\mathrm{het}$\\\"\\n    # params[\\\"Fhet\\\"] = r\\\"$f_\\\\mathrm{het}$\\\"\\n\\ndf_params = df[params.keys()]\\n\\ncorner_kwargs = {\\\"show_titles\\\": True}\\nhist_kwargs = {\\\"histtype\\\": \\\"stepfilled\\\", \\\"lw\\\": 2, \\\"density\\\": True}\\nfig, axes = utils.plot_corner(\\n    df_params,  # .drop([\\\"Thet\\\", \\\"Fhet\\\"], axis=1),\\n    params=params,\\n    c=f\\\"C5\\\",\\n    corner_kwargs=corner_kwargs,\\n    hist_kwargs=hist_kwargs,\\n)\\n\\nfig.set_size_inches(18, 18)\\n\\n# utils.savefig('projects/HATP23b/paper/figures/retrievals/retrieval_corner.pdf')\\n# plt.savefig(f'../retrieval/kreidberg/{species}/corner/corner_{basename}.pdf', bbox_inches='tight')\\n# plt.savefig(f'/Users/mango/Desktop/corner_{source}_all.pdf', bbox_inches='tight')\\n# plt.savefig(f\\\"/Users/mango/Desktop/corner_test.pdf\\\", bbox_inches=\\\"tight\\\")\";\n",
       "                var nbb_cells = Jupyter.notebook.get_cells();\n",
       "                for (var i = 0; i < nbb_cells.length; ++i) {\n",
       "                    if (nbb_cells[i].input_prompt_number == nbb_cell_id) {\n",
       "                        if (nbb_cells[i].get_text() == nbb_unformatted_code) {\n",
       "                             nbb_cells[i].set_text(nbb_formatted_code);\n",
       "                        }\n",
       "                        break;\n",
       "                    }\n",
       "                }\n",
       "            }, 500);\n",
       "            "
      ],
      "text/plain": [
       "<IPython.core.display.Javascript object>"
      ]
     },
     "metadata": {},
     "output_type": "display_data"
    }
   ],
   "source": [
    "fpath = \"data/retrievals/spot_lower_bound/HATP23_E1_Het_FitP0_NoClouds_NoHaze_fitR0_Na_K_TiO/retrieval.pkl\"\n",
    "post = utils.load_pickle(fpath)\n",
    "\n",
    "df = pd.DataFrame(post[\"samples\"])\n",
    "\n",
    "params = {\n",
    "    \"logP0\": r\"$\\log P_0$\",\n",
    "    \"T\": r\"$T_\\mathrm{p}$\",\n",
    "    #     'logH2O':r'$\\log \\mathrm{H}_2\\mathrm{O}$',\n",
    "    \"logNa\": r\"$\\log \\mathrm{Na}$\",\n",
    "    \"logK\": r\"$\\log \\mathrm{K}$\",\n",
    "    \"logTiO\": r\"$\\log \\mathrm{TiO}$\",\n",
    "    \"f\": r\"$f$\",\n",
    "}\n",
    "\n",
    "if \"_Haze\" in fpath:\n",
    "    params[\"loga\"] = r\"$\\log a$\"\n",
    "    params[\"gamma\"] = r\"$\\gamma_\\mathrm{haze}$\"\n",
    "\n",
    "if \"_Het\" in fpath:\n",
    "    params[\"Tocc\"] = r\"$T_\\mathrm{star}$\"\n",
    "    # params[\"Thet\"] = r\"$T_\\mathrm{het}$\"\n",
    "    # params[\"Fhet\"] = r\"$f_\\mathrm{het}$\"\n",
    "\n",
    "df_params = df[params.keys()]\n",
    "\n",
    "corner_kwargs = {\"show_titles\": True}\n",
    "hist_kwargs = {\"histtype\": \"stepfilled\", \"lw\": 2, \"density\": True}\n",
    "fig, axes = utils.plot_corner(\n",
    "    df_params,  # .drop([\"Thet\", \"Fhet\"], axis=1),\n",
    "    params=params,\n",
    "    c=f\"C5\",\n",
    "    corner_kwargs=corner_kwargs,\n",
    "    hist_kwargs=hist_kwargs,\n",
    ")\n",
    "\n",
    "fig.set_size_inches(18, 18)\n",
    "\n",
    "# utils.savefig('projects/HATP23b/paper/figures/retrievals/retrieval_corner.pdf')\n",
    "# plt.savefig(f'../retrieval/kreidberg/{species}/corner/corner_{basename}.pdf', bbox_inches='tight')\n",
    "# plt.savefig(f'/Users/mango/Desktop/corner_{source}_all.pdf', bbox_inches='tight')\n",
    "# plt.savefig(f\"/Users/mango/Desktop/corner_test.pdf\", bbox_inches=\"tight\")"
   ]
  },
  {
   "cell_type": "markdown",
   "id": "union-undergraduate",
   "metadata": {},
   "source": [
    "## Evidences"
   ]
  },
  {
   "cell_type": "code",
   "execution_count": 11,
   "id": "modular-turkish",
   "metadata": {},
   "outputs": [
    {
     "data": {
      "application/javascript": [
       "\n",
       "            setTimeout(function() {\n",
       "                var nbb_cell_id = 11;\n",
       "                var nbb_unformatted_code = \"# add clear+cloud+haze\\n\\nbase_dir = \\\"../../ACCESS.jl/src/data_retrievals/spot_lower_fixed_R0\\\"\\nfit_R0 = \\\"fitR0\\\" if \\\"fit_R0\\\" in base_dir else \\\"NofitR0\\\"\";\n",
       "                var nbb_formatted_code = \"# add clear+cloud+haze\\n\\nbase_dir = \\\"../../ACCESS.jl/src/data_retrievals/spot_lower_fixed_R0\\\"\\nfit_R0 = \\\"fitR0\\\" if \\\"fit_R0\\\" in base_dir else \\\"NofitR0\\\"\";\n",
       "                var nbb_cells = Jupyter.notebook.get_cells();\n",
       "                for (var i = 0; i < nbb_cells.length; ++i) {\n",
       "                    if (nbb_cells[i].input_prompt_number == nbb_cell_id) {\n",
       "                        if (nbb_cells[i].get_text() == nbb_unformatted_code) {\n",
       "                             nbb_cells[i].set_text(nbb_formatted_code);\n",
       "                        }\n",
       "                        break;\n",
       "                    }\n",
       "                }\n",
       "            }, 500);\n",
       "            "
      ],
      "text/plain": [
       "<IPython.core.display.Javascript object>"
      ]
     },
     "metadata": {},
     "output_type": "display_data"
    }
   ],
   "source": [
    "# add clear+cloud+haze\n",
    "\n",
    "base_dir = \"../../ACCESS.jl/src/data_retrievals/spot_lower_fixed_R0\"\n",
    "fit_R0 = \"fitR0\" if \"fit_R0\" in base_dir else \"NofitR0\""
   ]
  },
  {
   "cell_type": "code",
   "execution_count": 116,
   "id": "awful-weight",
   "metadata": {},
   "outputs": [
    {
     "data": {
      "application/javascript": [
       "\n",
       "            setTimeout(function() {\n",
       "                var nbb_cell_id = 116;\n",
       "                var nbb_unformatted_code = \"species = [\\\"Na\\\", \\\"K\\\", \\\"TiO\\\", \\\"Na_K\\\", \\\"Na_TiO\\\", \\\"K_TiO\\\", \\\"Na_K_TiO\\\"]\\nmodel_names_dict = {\\n    \\\"clear\\\": f\\\"NoHet_FitP0_NoClouds_NoHaze_{fit_R0}\\\",\\n    \\\"clear+cloud\\\": f\\\"NoHet_FitP0_Clouds_NoHaze_{fit_R0}\\\",\\n    \\\"clear+haze\\\": f\\\"NoHet_FitP0_NoClouds_Haze_{fit_R0}\\\",\\n    \\\"clear+spot\\\": f\\\"Het_FitP0_NoClouds_NoHaze_{fit_R0}\\\",\\n    \\\"clear+spot+cloud\\\": f\\\"Het_FitP0_Clouds_NoHaze_{fit_R0}\\\",\\n    \\\"clear+spot+haze\\\": f\\\"Het_FitP0_NoClouds_Haze_{fit_R0}\\\",\\n    \\\"clear+spot+cloud+haze\\\": f\\\"Het_FitP0_Clouds_Haze_{fit_R0}\\\",\\n}\";\n",
       "                var nbb_formatted_code = \"species = [\\\"Na\\\", \\\"K\\\", \\\"TiO\\\", \\\"Na_K\\\", \\\"Na_TiO\\\", \\\"K_TiO\\\", \\\"Na_K_TiO\\\"]\\nmodel_names_dict = {\\n    \\\"clear\\\": f\\\"NoHet_FitP0_NoClouds_NoHaze_{fit_R0}\\\",\\n    \\\"clear+cloud\\\": f\\\"NoHet_FitP0_Clouds_NoHaze_{fit_R0}\\\",\\n    \\\"clear+haze\\\": f\\\"NoHet_FitP0_NoClouds_Haze_{fit_R0}\\\",\\n    \\\"clear+spot\\\": f\\\"Het_FitP0_NoClouds_NoHaze_{fit_R0}\\\",\\n    \\\"clear+spot+cloud\\\": f\\\"Het_FitP0_Clouds_NoHaze_{fit_R0}\\\",\\n    \\\"clear+spot+haze\\\": f\\\"Het_FitP0_NoClouds_Haze_{fit_R0}\\\",\\n    \\\"clear+spot+cloud+haze\\\": f\\\"Het_FitP0_Clouds_Haze_{fit_R0}\\\",\\n}\";\n",
       "                var nbb_cells = Jupyter.notebook.get_cells();\n",
       "                for (var i = 0; i < nbb_cells.length; ++i) {\n",
       "                    if (nbb_cells[i].input_prompt_number == nbb_cell_id) {\n",
       "                        if (nbb_cells[i].get_text() == nbb_unformatted_code) {\n",
       "                             nbb_cells[i].set_text(nbb_formatted_code);\n",
       "                        }\n",
       "                        break;\n",
       "                    }\n",
       "                }\n",
       "            }, 500);\n",
       "            "
      ],
      "text/plain": [
       "<IPython.core.display.Javascript object>"
      ]
     },
     "metadata": {},
     "output_type": "display_data"
    }
   ],
   "source": [
    "species = [\"Na\", \"K\", \"TiO\", \"Na_K\", \"Na_TiO\", \"K_TiO\", \"Na_K_TiO\"]\n",
    "model_names_dict = {\n",
    "    \"clear\": f\"NoHet_FitP0_NoClouds_NoHaze_{fit_R0}\",\n",
    "    \"clear+cloud\": f\"NoHet_FitP0_Clouds_NoHaze_{fit_R0}\",\n",
    "    \"clear+haze\": f\"NoHet_FitP0_NoClouds_Haze_{fit_R0}\",\n",
    "    \"clear+spot\": f\"Het_FitP0_NoClouds_NoHaze_{fit_R0}\",\n",
    "    \"clear+spot+cloud\": f\"Het_FitP0_Clouds_NoHaze_{fit_R0}\",\n",
    "    \"clear+spot+haze\": f\"Het_FitP0_NoClouds_Haze_{fit_R0}\",\n",
    "    \"clear+spot+cloud+haze\": f\"Het_FitP0_Clouds_Haze_{fit_R0}\",\n",
    "}"
   ]
  },
  {
   "cell_type": "code",
   "execution_count": 117,
   "id": "headed-router",
   "metadata": {},
   "outputs": [
    {
     "data": {
      "text/plain": [
       "7"
      ]
     },
     "execution_count": 117,
     "metadata": {},
     "output_type": "execute_result"
    },
    {
     "data": {
      "application/javascript": [
       "\n",
       "            setTimeout(function() {\n",
       "                var nbb_cell_id = 117;\n",
       "                var nbb_unformatted_code = \"len(np.unique(list(model_names_dict.values())))\";\n",
       "                var nbb_formatted_code = \"len(np.unique(list(model_names_dict.values())))\";\n",
       "                var nbb_cells = Jupyter.notebook.get_cells();\n",
       "                for (var i = 0; i < nbb_cells.length; ++i) {\n",
       "                    if (nbb_cells[i].input_prompt_number == nbb_cell_id) {\n",
       "                        if (nbb_cells[i].get_text() == nbb_unformatted_code) {\n",
       "                             nbb_cells[i].set_text(nbb_formatted_code);\n",
       "                        }\n",
       "                        break;\n",
       "                    }\n",
       "                }\n",
       "            }, 500);\n",
       "            "
      ],
      "text/plain": [
       "<IPython.core.display.Javascript object>"
      ]
     },
     "metadata": {},
     "output_type": "display_data"
    }
   ],
   "source": [
    "len(np.unique(list(model_names_dict.values())))"
   ]
  },
  {
   "cell_type": "code",
   "execution_count": 118,
   "id": "killing-service",
   "metadata": {},
   "outputs": [
    {
     "data": {
      "application/javascript": [
       "\n",
       "            setTimeout(function() {\n",
       "                var nbb_cell_id = 118;\n",
       "                var nbb_unformatted_code = \"# Load\\ndata_dict = {\\n    sp: {\\n        model_name: utils.load_pickle(f\\\"{base_dir}/HATP23_E1_{model_id}_{sp}/retrieval.pkl\\\")\\n        for (model_name, model_id) in model_names_dict.items()\\n    }\\n    for sp in species\\n}\";\n",
       "                var nbb_formatted_code = \"# Load\\ndata_dict = {\\n    sp: {\\n        model_name: utils.load_pickle(\\n            f\\\"{base_dir}/HATP23_E1_{model_id}_{sp}/retrieval.pkl\\\"\\n        )\\n        for (model_name, model_id) in model_names_dict.items()\\n    }\\n    for sp in species\\n}\";\n",
       "                var nbb_cells = Jupyter.notebook.get_cells();\n",
       "                for (var i = 0; i < nbb_cells.length; ++i) {\n",
       "                    if (nbb_cells[i].input_prompt_number == nbb_cell_id) {\n",
       "                        if (nbb_cells[i].get_text() == nbb_unformatted_code) {\n",
       "                             nbb_cells[i].set_text(nbb_formatted_code);\n",
       "                        }\n",
       "                        break;\n",
       "                    }\n",
       "                }\n",
       "            }, 500);\n",
       "            "
      ],
      "text/plain": [
       "<IPython.core.display.Javascript object>"
      ]
     },
     "metadata": {},
     "output_type": "display_data"
    }
   ],
   "source": [
    "# Load\n",
    "data_dict = {\n",
    "    sp: {\n",
    "        model_name: utils.load_pickle(\n",
    "            f\"{base_dir}/HATP23_E1_{model_id}_{sp}/retrieval.pkl\"\n",
    "        )\n",
    "        for (model_name, model_id) in model_names_dict.items()\n",
    "    }\n",
    "    for sp in species\n",
    "}"
   ]
  },
  {
   "cell_type": "code",
   "execution_count": 40,
   "id": "dried-still",
   "metadata": {},
   "outputs": [
    {
     "data": {
      "text/plain": [
       "dict_keys(['lnZ', 'lnZerr', 'unnamed_samples', 'samples'])"
      ]
     },
     "execution_count": 40,
     "metadata": {},
     "output_type": "execute_result"
    },
    {
     "data": {
      "application/javascript": [
       "\n",
       "            setTimeout(function() {\n",
       "                var nbb_cell_id = 40;\n",
       "                var nbb_unformatted_code = \"data_dict[\\\"Na\\\"][\\\"clear\\\"].keys()\";\n",
       "                var nbb_formatted_code = \"data_dict[\\\"Na\\\"][\\\"clear\\\"].keys()\";\n",
       "                var nbb_cells = Jupyter.notebook.get_cells();\n",
       "                for (var i = 0; i < nbb_cells.length; ++i) {\n",
       "                    if (nbb_cells[i].input_prompt_number == nbb_cell_id) {\n",
       "                        if (nbb_cells[i].get_text() == nbb_unformatted_code) {\n",
       "                             nbb_cells[i].set_text(nbb_formatted_code);\n",
       "                        }\n",
       "                        break;\n",
       "                    }\n",
       "                }\n",
       "            }, 500);\n",
       "            "
      ],
      "text/plain": [
       "<IPython.core.display.Javascript object>"
      ]
     },
     "metadata": {},
     "output_type": "display_data"
    }
   ],
   "source": [
    "data_dict[\"Na\"][\"clear\"].keys()"
   ]
  },
  {
   "cell_type": "code",
   "execution_count": 185,
   "id": "fuzzy-revelation",
   "metadata": {},
   "outputs": [
    {
     "name": "stdout",
     "output_type": "stream",
     "text": [
      "K clear\n"
     ]
    },
    {
     "data": {
      "text/html": [
       "<div>\n",
       "<style scoped>\n",
       "    .dataframe tbody tr th:only-of-type {\n",
       "        vertical-align: middle;\n",
       "    }\n",
       "\n",
       "    .dataframe tbody tr th {\n",
       "        vertical-align: top;\n",
       "    }\n",
       "\n",
       "    .dataframe thead th {\n",
       "        text-align: right;\n",
       "    }\n",
       "</style>\n",
       "<table border=\"1\" class=\"dataframe\">\n",
       "  <thead>\n",
       "    <tr style=\"text-align: right;\">\n",
       "      <th></th>\n",
       "      <th>Na</th>\n",
       "      <th>K</th>\n",
       "      <th>TiO</th>\n",
       "      <th>Na_K</th>\n",
       "      <th>Na_TiO</th>\n",
       "      <th>K_TiO</th>\n",
       "      <th>Na_K_TiO</th>\n",
       "    </tr>\n",
       "  </thead>\n",
       "  <tbody>\n",
       "    <tr>\n",
       "      <th>clear</th>\n",
       "      <td>4.228008</td>\n",
       "      <td>0.000000</td>\n",
       "      <td>6.470431</td>\n",
       "      <td>3.961596</td>\n",
       "      <td>5.965399</td>\n",
       "      <td>5.906551</td>\n",
       "      <td>5.620903</td>\n",
       "    </tr>\n",
       "    <tr>\n",
       "      <th>clear+cloud</th>\n",
       "      <td>3.631123</td>\n",
       "      <td>1.485933</td>\n",
       "      <td>5.398483</td>\n",
       "      <td>3.179458</td>\n",
       "      <td>5.170945</td>\n",
       "      <td>4.996205</td>\n",
       "      <td>4.870079</td>\n",
       "    </tr>\n",
       "    <tr>\n",
       "      <th>clear+haze</th>\n",
       "      <td>3.684933</td>\n",
       "      <td>2.223177</td>\n",
       "      <td>5.362364</td>\n",
       "      <td>3.221512</td>\n",
       "      <td>5.124867</td>\n",
       "      <td>4.944949</td>\n",
       "      <td>4.720639</td>\n",
       "    </tr>\n",
       "    <tr>\n",
       "      <th>clear+spot</th>\n",
       "      <td>4.241980</td>\n",
       "      <td>3.812417</td>\n",
       "      <td>4.241815</td>\n",
       "      <td>3.685709</td>\n",
       "      <td>3.997720</td>\n",
       "      <td>3.751752</td>\n",
       "      <td>3.506001</td>\n",
       "    </tr>\n",
       "    <tr>\n",
       "      <th>clear+spot+cloud</th>\n",
       "      <td>3.174436</td>\n",
       "      <td>2.867850</td>\n",
       "      <td>3.291967</td>\n",
       "      <td>2.695057</td>\n",
       "      <td>3.033652</td>\n",
       "      <td>2.801135</td>\n",
       "      <td>2.538111</td>\n",
       "    </tr>\n",
       "    <tr>\n",
       "      <th>clear+spot+haze</th>\n",
       "      <td>3.034682</td>\n",
       "      <td>2.817973</td>\n",
       "      <td>3.120746</td>\n",
       "      <td>2.614493</td>\n",
       "      <td>2.828451</td>\n",
       "      <td>2.655219</td>\n",
       "      <td>2.427965</td>\n",
       "    </tr>\n",
       "    <tr>\n",
       "      <th>clear+spot+cloud+haze</th>\n",
       "      <td>2.159865</td>\n",
       "      <td>1.938158</td>\n",
       "      <td>2.208348</td>\n",
       "      <td>1.660904</td>\n",
       "      <td>1.910795</td>\n",
       "      <td>1.798888</td>\n",
       "      <td>1.529130</td>\n",
       "    </tr>\n",
       "  </tbody>\n",
       "</table>\n",
       "</div>"
      ],
      "text/plain": [
       "                             Na         K       TiO      Na_K    Na_TiO  \\\n",
       "clear                  4.228008  0.000000  6.470431  3.961596  5.965399   \n",
       "clear+cloud            3.631123  1.485933  5.398483  3.179458  5.170945   \n",
       "clear+haze             3.684933  2.223177  5.362364  3.221512  5.124867   \n",
       "clear+spot             4.241980  3.812417  4.241815  3.685709  3.997720   \n",
       "clear+spot+cloud       3.174436  2.867850  3.291967  2.695057  3.033652   \n",
       "clear+spot+haze        3.034682  2.817973  3.120746  2.614493  2.828451   \n",
       "clear+spot+cloud+haze  2.159865  1.938158  2.208348  1.660904  1.910795   \n",
       "\n",
       "                          K_TiO  Na_K_TiO  \n",
       "clear                  5.906551  5.620903  \n",
       "clear+cloud            4.996205  4.870079  \n",
       "clear+haze             4.944949  4.720639  \n",
       "clear+spot             3.751752  3.506001  \n",
       "clear+spot+cloud       2.801135  2.538111  \n",
       "clear+spot+haze        2.655219  2.427965  \n",
       "clear+spot+cloud+haze  1.798888  1.529130  "
      ]
     },
     "metadata": {},
     "output_type": "display_data"
    },
    {
     "data": {
      "text/plain": [
       "<matplotlib.legend.Legend at 0x7f084d80b6a0>"
      ]
     },
     "execution_count": 185,
     "metadata": {},
     "output_type": "execute_result"
    },
    {
     "data": {
      "image/png": "[encoded data removed]",
      "text/plain": [
       "<Figure size 792x360 with 1 Axes>"
      ]
     },
     "metadata": {},
     "output_type": "display_data"
    },
    {
     "data": {
      "application/javascript": [
       "\n",
       "            setTimeout(function() {\n",
       "                var nbb_cell_id = 185;\n",
       "                var nbb_unformatted_code = \"lnZ = {}\\nfor species_name, species_data in data_dict.items():\\n    lnZ[species_name] = {}\\n    for model_name, model_data in species_data.items():\\n        lnZ[species_name][model_name] = model_data[\\\"lnZ\\\"]  # , model_data[\\\"lnZerr\\\"]\\n\\ndf_lnZ = pd.DataFrame(lnZ)\\n\\nspecies_min = df_lnZ.min().idxmin()\\nmodel_min = df_lnZ[species_min].idxmin()\\nprint(species_min, model_min)\\n\\ndf_flat = data_dict[species_min][model_min]\\n\\ndf_Delta_lnZ = df_lnZ - df_flat[\\\"lnZ\\\"]\\n\\ndisplay(df_Delta_lnZ)\\n\\nfig, ax = plt.subplots(figsize=FIG_WIDE)\\n\\np = df_Delta_lnZ.transpose().plot(ax=ax, kind=\\\"bar\\\", width=0.8, lw=0)\\n\\np.legend(loc=\\\"upper right\\\", bbox_to_anchor=(1.47, 1.035))\";\n",
       "                var nbb_formatted_code = \"lnZ = {}\\nfor species_name, species_data in data_dict.items():\\n    lnZ[species_name] = {}\\n    for model_name, model_data in species_data.items():\\n        lnZ[species_name][model_name] = model_data[\\\"lnZ\\\"]  # , model_data[\\\"lnZerr\\\"]\\n\\ndf_lnZ = pd.DataFrame(lnZ)\\n\\nspecies_min = df_lnZ.min().idxmin()\\nmodel_min = df_lnZ[species_min].idxmin()\\nprint(species_min, model_min)\\n\\ndf_flat = data_dict[species_min][model_min]\\n\\ndf_Delta_lnZ = df_lnZ - df_flat[\\\"lnZ\\\"]\\n\\ndisplay(df_Delta_lnZ)\\n\\nfig, ax = plt.subplots(figsize=FIG_WIDE)\\n\\np = df_Delta_lnZ.transpose().plot(ax=ax, kind=\\\"bar\\\", width=0.8, lw=0)\\n\\np.legend(loc=\\\"upper right\\\", bbox_to_anchor=(1.47, 1.035))\";\n",
       "                var nbb_cells = Jupyter.notebook.get_cells();\n",
       "                for (var i = 0; i < nbb_cells.length; ++i) {\n",
       "                    if (nbb_cells[i].input_prompt_number == nbb_cell_id) {\n",
       "                        if (nbb_cells[i].get_text() == nbb_unformatted_code) {\n",
       "                             nbb_cells[i].set_text(nbb_formatted_code);\n",
       "                        }\n",
       "                        break;\n",
       "                    }\n",
       "                }\n",
       "            }, 500);\n",
       "            "
      ],
      "text/plain": [
       "<IPython.core.display.Javascript object>"
      ]
     },
     "metadata": {},
     "output_type": "display_data"
    }
   ],
   "source": [
    "lnZ = {}\n",
    "for species_name, species_data in data_dict.items():\n",
    "    lnZ[species_name] = {}\n",
    "    for model_name, model_data in species_data.items():\n",
    "        lnZ[species_name][model_name] = model_data[\"lnZ\"]  # , model_data[\"lnZerr\"]\n",
    "\n",
    "df_lnZ = pd.DataFrame(lnZ)\n",
    "\n",
    "species_min = df_lnZ.min().idxmin()\n",
    "model_min = df_lnZ[species_min].idxmin()\n",
    "print(species_min, model_min)\n",
    "\n",
    "df_flat = data_dict[species_min][model_min]\n",
    "\n",
    "df_Delta_lnZ = df_lnZ - df_flat[\"lnZ\"]\n",
    "\n",
    "display(df_Delta_lnZ)\n",
    "\n",
    "fig, ax = plt.subplots(figsize=FIG_WIDE)\n",
    "\n",
    "p = df_Delta_lnZ.transpose().plot(ax=ax, kind=\"bar\", width=0.8, lw=0)\n",
    "\n",
    "p.legend(loc=\"upper right\", bbox_to_anchor=(1.47, 1.035))"
   ]
  },
  {
   "cell_type": "code",
   "execution_count": null,
   "id": "olive-valuable",
   "metadata": {},
   "outputs": [],
   "source": []
  },
  {
   "cell_type": "code",
   "execution_count": null,
   "id": "asian-apollo",
   "metadata": {},
   "outputs": [],
   "source": []
  },
  {
   "cell_type": "code",
   "execution_count": null,
   "id": "convenient-pressing",
   "metadata": {},
   "outputs": [],
   "source": []
  },
  {
   "cell_type": "code",
   "execution_count": null,
   "id": "saving-calculation",
   "metadata": {},
   "outputs": [],
   "source": []
  },
  {
   "cell_type": "code",
   "execution_count": null,
   "id": "affiliated-diabetes",
   "metadata": {},
   "outputs": [],
   "source": []
  }
 ],
 "metadata": {
  "kernelspec": {
   "display_name": "Python 3",
   "language": "python",
   "name": "python3"
  },
  "language_info": {
   "codemirror_mode": {
    "name": "ipython",
    "version": 3
   },
   "file_extension": ".py",
   "mimetype": "text/x-python",
   "name": "python",
   "nbconvert_exporter": "python",
   "pygments_lexer": "ipython3",
   "version": "3.9.1"
  }
 },
 "nbformat": 4,
 "nbformat_minor": 5
}
