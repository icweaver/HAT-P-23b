{
 "cells": [
  {
   "cell_type": "code",
   "execution_count": 1,
   "id": "little-frederick",
   "metadata": {},
   "outputs": [
    {
     "data": {
      "application/javascript": [
       "\n",
       "            setTimeout(function() {\n",
       "                var nbb_cell_id = 1;\n",
       "                var nbb_unformatted_code = \"%load_ext nb_black\\n%load_ext autoreload\\n%autoreload 2\";\n",
       "                var nbb_formatted_code = \"%load_ext nb_black\\n%load_ext autoreload\\n%autoreload 2\";\n",
       "                var nbb_cells = Jupyter.notebook.get_cells();\n",
       "                for (var i = 0; i < nbb_cells.length; ++i) {\n",
       "                    if (nbb_cells[i].input_prompt_number == nbb_cell_id) {\n",
       "                        if (nbb_cells[i].get_text() == nbb_unformatted_code) {\n",
       "                             nbb_cells[i].set_text(nbb_formatted_code);\n",
       "                        }\n",
       "                        break;\n",
       "                    }\n",
       "                }\n",
       "            }, 500);\n",
       "            "
      ],
      "text/plain": [
       "<IPython.core.display.Javascript object>"
      ]
     },
     "metadata": {},
     "output_type": "display_data"
    }
   ],
   "source": [
    "%load_ext nb_black\n",
    "%load_ext autoreload\n",
    "%autoreload 2"
   ]
  },
  {
   "cell_type": "code",
   "execution_count": 2,
   "id": "physical-recall",
   "metadata": {},
   "outputs": [
    {
     "data": {
      "application/javascript": [
       "\n",
       "            setTimeout(function() {\n",
       "                var nbb_cell_id = 2;\n",
       "                var nbb_unformatted_code = \"import glob as glob\\nimport matplotlib as mpl\\nimport matplotlib.patheffects as PathEffects\\nimport matplotlib.pyplot as plt\\nimport matplotlib.transforms as transforms\\nimport numpy as np\\nimport pandas as pd\\nimport seaborn as sns\\n\\nimport corner\\nimport json\\nimport pathlib\\nimport pickle\\nimport utils\\nimport warnings\\n\\nfrom astropy import constants as const\\nfrom astropy import units as uni\\nfrom astropy.io import ascii, fits\\nfrom astropy.time import Time\\nfrom mpl_toolkits.axes_grid1 import ImageGrid\\n\\n# Default figure dimensions\\nFIG_WIDE = (11, 5)\\nFIG_LARGE = (8, 11)\\n\\n# Figure style\\nsns.set(style=\\\"ticks\\\", palette=\\\"colorblind\\\", color_codes=True, context=\\\"talk\\\")\\nparams = {\\n    # xticks\\n    \\\"xtick.top\\\": False,\\n    \\\"xtick.direction\\\": \\\"out\\\",\\n    \\\"xtick.major.size\\\": 5,\\n    \\\"xtick.minor.visible\\\": False,\\n    # yticks\\n    \\\"ytick.right\\\": False,\\n    \\\"ytick.direction\\\": \\\"out\\\",\\n    \\\"ytick.major.size\\\": 5,\\n    \\\"ytick.minor.visible\\\": False,\\n    # pallete\\n    \\\"axes.prop_cycle\\\": mpl.cycler(\\n        color=[\\n            \\\"#fdbf6f\\\",  # Yellow\\n            \\\"#ff7f00\\\",  # Orange\\n            \\\"#a6cee3\\\",  # Cyan\\n            \\\"#1f78b4\\\",  # Blue\\n            \\\"#956cb4\\\",  # Purple\\n            \\\"#029e73\\\",  # Green\\n            \\\"#c44e52\\\",  # Red\\n        ]\\n    ),\\n}\\nplt.rcParams.update(params)\";\n",
       "                var nbb_formatted_code = \"import glob as glob\\nimport matplotlib as mpl\\nimport matplotlib.patheffects as PathEffects\\nimport matplotlib.pyplot as plt\\nimport matplotlib.transforms as transforms\\nimport numpy as np\\nimport pandas as pd\\nimport seaborn as sns\\n\\nimport corner\\nimport json\\nimport pathlib\\nimport pickle\\nimport utils\\nimport warnings\\n\\nfrom astropy import constants as const\\nfrom astropy import units as uni\\nfrom astropy.io import ascii, fits\\nfrom astropy.time import Time\\nfrom mpl_toolkits.axes_grid1 import ImageGrid\\n\\n# Default figure dimensions\\nFIG_WIDE = (11, 5)\\nFIG_LARGE = (8, 11)\\n\\n# Figure style\\nsns.set(style=\\\"ticks\\\", palette=\\\"colorblind\\\", color_codes=True, context=\\\"talk\\\")\\nparams = {\\n    # xticks\\n    \\\"xtick.top\\\": False,\\n    \\\"xtick.direction\\\": \\\"out\\\",\\n    \\\"xtick.major.size\\\": 5,\\n    \\\"xtick.minor.visible\\\": False,\\n    # yticks\\n    \\\"ytick.right\\\": False,\\n    \\\"ytick.direction\\\": \\\"out\\\",\\n    \\\"ytick.major.size\\\": 5,\\n    \\\"ytick.minor.visible\\\": False,\\n    # pallete\\n    \\\"axes.prop_cycle\\\": mpl.cycler(\\n        color=[\\n            \\\"#fdbf6f\\\",  # Yellow\\n            \\\"#ff7f00\\\",  # Orange\\n            \\\"#a6cee3\\\",  # Cyan\\n            \\\"#1f78b4\\\",  # Blue\\n            \\\"#956cb4\\\",  # Purple\\n            \\\"#029e73\\\",  # Green\\n            \\\"#c44e52\\\",  # Red\\n        ]\\n    ),\\n}\\nplt.rcParams.update(params)\";\n",
       "                var nbb_cells = Jupyter.notebook.get_cells();\n",
       "                for (var i = 0; i < nbb_cells.length; ++i) {\n",
       "                    if (nbb_cells[i].input_prompt_number == nbb_cell_id) {\n",
       "                        if (nbb_cells[i].get_text() == nbb_unformatted_code) {\n",
       "                             nbb_cells[i].set_text(nbb_formatted_code);\n",
       "                        }\n",
       "                        break;\n",
       "                    }\n",
       "                }\n",
       "            }, 500);\n",
       "            "
      ],
      "text/plain": [
       "<IPython.core.display.Javascript object>"
      ]
     },
     "metadata": {},
     "output_type": "display_data"
    }
   ],
   "source": [
    "import glob as glob\n",
    "import matplotlib as mpl\n",
    "import matplotlib.patheffects as PathEffects\n",
    "import matplotlib.pyplot as plt\n",
    "import matplotlib.transforms as transforms\n",
    "import numpy as np\n",
    "import pandas as pd\n",
    "import seaborn as sns\n",
    "\n",
    "import corner\n",
    "import json\n",
    "import pathlib\n",
    "import pickle\n",
    "import utils\n",
    "import warnings\n",
    "\n",
    "from astropy import constants as const\n",
    "from astropy import units as uni\n",
    "from astropy.io import ascii, fits\n",
    "from astropy.time import Time\n",
    "from mpl_toolkits.axes_grid1 import ImageGrid\n",
    "\n",
    "# Default figure dimensions\n",
    "FIG_WIDE = (11, 5)\n",
    "FIG_LARGE = (8, 11)\n",
    "\n",
    "# Figure style\n",
    "sns.set(style=\"ticks\", palette=\"colorblind\", color_codes=True, context=\"talk\")\n",
    "params = {\n",
    "    # xticks\n",
    "    \"xtick.top\": False,\n",
    "    \"xtick.direction\": \"out\",\n",
    "    \"xtick.major.size\": 5,\n",
    "    \"xtick.minor.visible\": False,\n",
    "    # yticks\n",
    "    \"ytick.right\": False,\n",
    "    \"ytick.direction\": \"out\",\n",
    "    \"ytick.major.size\": 5,\n",
    "    \"ytick.minor.visible\": False,\n",
    "    # pallete\n",
    "    \"axes.prop_cycle\": mpl.cycler(\n",
    "        color=[\n",
    "            \"#fdbf6f\",  # Yellow\n",
    "            \"#ff7f00\",  # Orange\n",
    "            \"#a6cee3\",  # Cyan\n",
    "            \"#1f78b4\",  # Blue\n",
    "            \"#956cb4\",  # Purple\n",
    "            \"#029e73\",  # Green\n",
    "            \"#c44e52\",  # Red\n",
    "        ]\n",
    "    ),\n",
    "}\n",
    "plt.rcParams.update(params)"
   ]
  },
  {
   "cell_type": "code",
   "execution_count": 3,
   "id": "classical-convenience",
   "metadata": {},
   "outputs": [
    {
     "data": {
      "application/javascript": [
       "\n",
       "            setTimeout(function() {\n",
       "                var nbb_cell_id = 3;\n",
       "                var nbb_unformatted_code = \"%matplotlib qt5\";\n",
       "                var nbb_formatted_code = \"%matplotlib qt5\";\n",
       "                var nbb_cells = Jupyter.notebook.get_cells();\n",
       "                for (var i = 0; i < nbb_cells.length; ++i) {\n",
       "                    if (nbb_cells[i].input_prompt_number == nbb_cell_id) {\n",
       "                        if (nbb_cells[i].get_text() == nbb_unformatted_code) {\n",
       "                             nbb_cells[i].set_text(nbb_formatted_code);\n",
       "                        }\n",
       "                        break;\n",
       "                    }\n",
       "                }\n",
       "            }, 500);\n",
       "            "
      ],
      "text/plain": [
       "<IPython.core.display.Javascript object>"
      ]
     },
     "metadata": {},
     "output_type": "display_data"
    }
   ],
   "source": [
    "%matplotlib qt5"
   ]
  },
  {
   "cell_type": "markdown",
   "id": "nonprofit-sound",
   "metadata": {},
   "source": [
    "## Load"
   ]
  },
  {
   "cell_type": "code",
   "execution_count": 35,
   "id": "incorrect-christopher",
   "metadata": {},
   "outputs": [
    {
     "data": {
      "text/plain": [
       "{'Na+K+TiO (clear)': 'data/retrievals/spot_upper_bound/HATP23_E1_NoHet_FitP0_NoClouds_NoHaze_fitR0_Na_K_TiO',\n",
       " 'Na+K+TiO (haze)': 'data/retrievals/spot_upper_bound/HATP23_E1_NoHet_FitP0_NoClouds_Haze_fitR0_Na_K_TiO',\n",
       " 'Na+K+TiO (spot)': 'data/retrievals/spot_upper_bound/HATP23_E1_Het_FitP0_NoClouds_NoHaze_fitR0_Na_K_TiO',\n",
       " 'Na+K+TiO (spot+haze)': 'data/retrievals/spot_upper_bound/HATP23_E1_Het_FitP0_NoClouds_Haze_fitR0_Na_K_TiO'}"
      ]
     },
     "execution_count": 35,
     "metadata": {},
     "output_type": "execute_result"
    },
    {
     "data": {
      "application/javascript": [
       "\n",
       "            setTimeout(function() {\n",
       "                var nbb_cell_id = 35;\n",
       "                var nbb_unformatted_code = \"base_dir = \\\"data/retrievals/spot_upper_bound\\\"\\n\\n########\\n# Models\\n########\\nfpaths_dict = {\\n    \\\"Na+K+TiO (clear)\\\": f\\\"{base_dir}/HATP23_E1_NoHet_FitP0_NoClouds_NoHaze_fitR0_Na_K_TiO\\\",\\n    \\\"Na+K+TiO (haze)\\\": f\\\"{base_dir}/HATP23_E1_NoHet_FitP0_NoClouds_Haze_fitR0_Na_K_TiO\\\",\\n    \\\"Na+K+TiO (spot)\\\": f\\\"{base_dir}/HATP23_E1_Het_FitP0_NoClouds_NoHaze_fitR0_Na_K_TiO\\\",\\n    \\\"Na+K+TiO (spot+haze)\\\": f\\\"{base_dir}/HATP23_E1_Het_FitP0_NoClouds_Haze_fitR0_Na_K_TiO\\\",\\n}\\nfpaths_dict\";\n",
       "                var nbb_formatted_code = \"base_dir = \\\"data/retrievals/spot_upper_bound\\\"\\n\\n########\\n# Models\\n########\\nfpaths_dict = {\\n    \\\"Na+K+TiO (clear)\\\": f\\\"{base_dir}/HATP23_E1_NoHet_FitP0_NoClouds_NoHaze_fitR0_Na_K_TiO\\\",\\n    \\\"Na+K+TiO (haze)\\\": f\\\"{base_dir}/HATP23_E1_NoHet_FitP0_NoClouds_Haze_fitR0_Na_K_TiO\\\",\\n    \\\"Na+K+TiO (spot)\\\": f\\\"{base_dir}/HATP23_E1_Het_FitP0_NoClouds_NoHaze_fitR0_Na_K_TiO\\\",\\n    \\\"Na+K+TiO (spot+haze)\\\": f\\\"{base_dir}/HATP23_E1_Het_FitP0_NoClouds_Haze_fitR0_Na_K_TiO\\\",\\n}\\nfpaths_dict\";\n",
       "                var nbb_cells = Jupyter.notebook.get_cells();\n",
       "                for (var i = 0; i < nbb_cells.length; ++i) {\n",
       "                    if (nbb_cells[i].input_prompt_number == nbb_cell_id) {\n",
       "                        if (nbb_cells[i].get_text() == nbb_unformatted_code) {\n",
       "                             nbb_cells[i].set_text(nbb_formatted_code);\n",
       "                        }\n",
       "                        break;\n",
       "                    }\n",
       "                }\n",
       "            }, 500);\n",
       "            "
      ],
      "text/plain": [
       "<IPython.core.display.Javascript object>"
      ]
     },
     "metadata": {},
     "output_type": "display_data"
    }
   ],
   "source": [
    "base_dir = \"data/retrievals/spot_upper_bound\"\n",
    "\n",
    "########\n",
    "# Models\n",
    "########\n",
    "fpaths_dict = {\n",
    "    \"Na+K+TiO (clear)\": f\"{base_dir}/HATP23_E1_NoHet_FitP0_NoClouds_NoHaze_fitR0_Na_K_TiO\",\n",
    "    \"Na+K+TiO (haze)\": f\"{base_dir}/HATP23_E1_NoHet_FitP0_NoClouds_Haze_fitR0_Na_K_TiO\",\n",
    "    \"Na+K+TiO (spot)\": f\"{base_dir}/HATP23_E1_Het_FitP0_NoClouds_NoHaze_fitR0_Na_K_TiO\",\n",
    "    \"Na+K+TiO (spot+haze)\": f\"{base_dir}/HATP23_E1_Het_FitP0_NoClouds_Haze_fitR0_Na_K_TiO\",\n",
    "}\n",
    "fpaths_dict"
   ]
  },
  {
   "cell_type": "code",
   "execution_count": 38,
   "id": "roman-perspective",
   "metadata": {},
   "outputs": [
    {
     "data": {
      "application/javascript": [
       "\n",
       "            setTimeout(function() {\n",
       "                var nbb_cell_id = 38;\n",
       "                var nbb_unformatted_code = \"# Load\\ndata_dict = {\\n    model_name: {\\n        \\\"data\\\": ascii.read(f\\\"{model_dir}/retr_model.txt\\\"),\\n        \\\"sampled_data\\\": ascii.read(\\n            f\\\"{model_dir}/retr_model_sampled_Magellan_IMACS.txt\\\"\\n        ),\\n    }\\n    for (model_name, model_dir) in fpaths_dict.items()\\n}\\n\\ninstrument_dict = {\\n    \\\"Magellan_IMACS\\\": {\\n        \\\"plot_kwargs\\\": {\\n            \\\"c\\\": \\\"w\\\",\\n            \\\"mec\\\": \\\"k\\\",\\n            \\\"fmt\\\": \\\"o\\\",\\n            \\\"ecolor\\\": \\\"k\\\",\\n            \\\"label\\\": \\\"Magellan/IMACS\\\",\\n            \\\"zorder\\\": 10,\\n        },\\n        \\\"data\\\": ascii.read(f\\\"{base_dir}/instruments/retr_Magellan_IMACS.txt\\\"),\\n    }\\n}\";\n",
       "                var nbb_formatted_code = \"# Load\\ndata_dict = {\\n    model_name: {\\n        \\\"data\\\": ascii.read(f\\\"{model_dir}/retr_model.txt\\\"),\\n        \\\"sampled_data\\\": ascii.read(\\n            f\\\"{model_dir}/retr_model_sampled_Magellan_IMACS.txt\\\"\\n        ),\\n    }\\n    for (model_name, model_dir) in fpaths_dict.items()\\n}\\n\\ninstrument_dict = {\\n    \\\"Magellan_IMACS\\\": {\\n        \\\"plot_kwargs\\\": {\\n            \\\"c\\\": \\\"w\\\",\\n            \\\"mec\\\": \\\"k\\\",\\n            \\\"fmt\\\": \\\"o\\\",\\n            \\\"ecolor\\\": \\\"k\\\",\\n            \\\"label\\\": \\\"Magellan/IMACS\\\",\\n            \\\"zorder\\\": 10,\\n        },\\n        \\\"data\\\": ascii.read(f\\\"{base_dir}/instruments/retr_Magellan_IMACS.txt\\\"),\\n    }\\n}\";\n",
       "                var nbb_cells = Jupyter.notebook.get_cells();\n",
       "                for (var i = 0; i < nbb_cells.length; ++i) {\n",
       "                    if (nbb_cells[i].input_prompt_number == nbb_cell_id) {\n",
       "                        if (nbb_cells[i].get_text() == nbb_unformatted_code) {\n",
       "                             nbb_cells[i].set_text(nbb_formatted_code);\n",
       "                        }\n",
       "                        break;\n",
       "                    }\n",
       "                }\n",
       "            }, 500);\n",
       "            "
      ],
      "text/plain": [
       "<IPython.core.display.Javascript object>"
      ]
     },
     "metadata": {},
     "output_type": "display_data"
    }
   ],
   "source": [
    "# Load\n",
    "data_dict = {\n",
    "    model_name: {\n",
    "        \"data\": ascii.read(f\"{model_dir}/retr_model.txt\"),\n",
    "        \"sampled_data\": ascii.read(\n",
    "            f\"{model_dir}/retr_model_sampled_Magellan_IMACS.txt\"\n",
    "        ),\n",
    "    }\n",
    "    for (model_name, model_dir) in fpaths_dict.items()\n",
    "}\n",
    "\n",
    "instrument_dict = {\n",
    "    \"Magellan_IMACS\": {\n",
    "        \"plot_kwargs\": {\n",
    "            \"c\": \"w\",\n",
    "            \"mec\": \"k\",\n",
    "            \"fmt\": \"o\",\n",
    "            \"ecolor\": \"k\",\n",
    "            \"label\": \"Magellan/IMACS\",\n",
    "            \"zorder\": 10,\n",
    "        },\n",
    "        \"data\": ascii.read(f\"{base_dir}/instruments/retr_Magellan_IMACS.txt\"),\n",
    "    }\n",
    "}"
   ]
  },
  {
   "cell_type": "markdown",
   "id": "radio-preservation",
   "metadata": {},
   "source": [
    "## Plot"
   ]
  },
  {
   "cell_type": "code",
   "execution_count": 39,
   "id": "unknown-toilet",
   "metadata": {},
   "outputs": [
    {
     "data": {
      "application/javascript": [
       "\n",
       "            setTimeout(function() {\n",
       "                var nbb_cell_id = 39;\n",
       "                var nbb_unformatted_code = \"fig, ax = plt.subplots(figsize=FIG_WIDE)\\n\\nfor (model_name, model_dict) in data_dict.items():\\n    # Plot model\\n    p = utils.plot_model(\\n        ax,\\n        model_dict,\\n        model_kwargs={\\\"label\\\": model_name},\\n        fill_kwargs={\\\"alpha\\\": 0.25},\\n        sample_kwargs={\\\"marker\\\": \\\"o\\\"},\\n    )\\n\\n#############\\n# Instruments\\n#############\\nfor (instrument_name, instrument_data) in instrument_dict.items():\\n    instrument_name = instrument_name.replace(\\\"_\\\", \\\"/\\\")\\n    utils.plot_instrument(ax, instrument_data)\\n\\n####################\\n# Annotate Delta lnZ\\n####################\\n# fpath = f\\\"{models[model_key_name]}/retrieval.pkl\\\"\\n# fpath_flat = f'{models[\\\"K (clear)\\\"]}/retrieval.pkl'\\n# DlnZ, DlnZ_unc, lnZ, lnZ_unc = utils.get_Delta_lnZ(fpath, fpath_flat)\\n# s = f\\\"$\\\\Delta \\\\ln(Z) = {DlnZ:.2f} \\\\pm {DlnZ_unc:.2f}$\\\"\\n# ax.annotate(s, (0.02, 0.05), xycoords=\\\"axes fraction\\\")\\n\\n\\\"\\\"\\\"\\n# Plot inset\\naxins = ax.inset_axes([0.5, 0.5, 0.5, 0.5])\\n# Shortcut to zoom in on last instrument\\np = plot_instrument(axins, instr, instr_sampled, instr_kwargs=configs, sampled_kwargs=sampled_kwargs)\\naxins.set_xlim(p.get_xlim())\\naxins.set_ylim(p.get_ylim())\\nplot_model(axins, model, model_kwargs=model_kwargs, fill_kwargs=fill_kwargs)\\nax.indicate_inset_zoom(axins, alpha=1.0, edgecolor='w')\\n\\\"\\\"\\\"\\n\\nax.set_xlim(0.5, 0.95)\\nax.set_ylim(12_400, 14_500)\\nax.set_xlabel(r\\\"Wavelength $(\\\\mu\\\\mathrm{m})$\\\")\\nax.set_ylabel(\\\"Transit depth (ppm)\\\")\\nax.legend(loc=1, ncol=3, fontsize=14)\\n\\n#########\\n# Species\\n#########\\nspecies = {\\n    \\\"Na I-D\\\": 5892.9,\\n    #'H\\u03b1':6564.6,\\n    \\\"K I_avg\\\": 7682.0,\\n    \\\"Na I-8200_avg\\\": 8189.0,\\n}\\n[\\n    ax.axvline(wav / 10000, lw=0.5, ls=\\\"--\\\", color=\\\"grey\\\", zorder=0)\\n    for name, wav in species.items()\\n]\\n\\n# ax.annotate(f\\\"Python 2\\\", (0.05, 0.9), xycoords='axes fraction')\\n\\n# plt.savefig('/Users/mango/Desktop/exoretrievals_py2.png', dpi=250, bbox_inches='tight')\\n\\nfig.set_size_inches(FIG_WIDE)\\n# fig.tight_layout()\\n# utils.savefig('projects/HATP23b/paper/figures/retrievals/retrieval.pdf')\\n# plt.savefig(f\\\"/Users/mango/Desktop/tspec_haze_mid.pdf\\\", bbox_inches=\\\"tight\\\")\\n# plt.savefig(f'../retrieval/kreidberg/{species}/tspec/retr_{basename}.pdf', bbox_inches='tight')\";\n",
       "                var nbb_formatted_code = \"fig, ax = plt.subplots(figsize=FIG_WIDE)\\n\\nfor (model_name, model_dict) in data_dict.items():\\n    # Plot model\\n    p = utils.plot_model(\\n        ax,\\n        model_dict,\\n        model_kwargs={\\\"label\\\": model_name},\\n        fill_kwargs={\\\"alpha\\\": 0.25},\\n        sample_kwargs={\\\"marker\\\": \\\"o\\\"},\\n    )\\n\\n#############\\n# Instruments\\n#############\\nfor (instrument_name, instrument_data) in instrument_dict.items():\\n    instrument_name = instrument_name.replace(\\\"_\\\", \\\"/\\\")\\n    utils.plot_instrument(ax, instrument_data)\\n\\n####################\\n# Annotate Delta lnZ\\n####################\\n# fpath = f\\\"{models[model_key_name]}/retrieval.pkl\\\"\\n# fpath_flat = f'{models[\\\"K (clear)\\\"]}/retrieval.pkl'\\n# DlnZ, DlnZ_unc, lnZ, lnZ_unc = utils.get_Delta_lnZ(fpath, fpath_flat)\\n# s = f\\\"$\\\\Delta \\\\ln(Z) = {DlnZ:.2f} \\\\pm {DlnZ_unc:.2f}$\\\"\\n# ax.annotate(s, (0.02, 0.05), xycoords=\\\"axes fraction\\\")\\n\\n\\\"\\\"\\\"\\n# Plot inset\\naxins = ax.inset_axes([0.5, 0.5, 0.5, 0.5])\\n# Shortcut to zoom in on last instrument\\np = plot_instrument(axins, instr, instr_sampled, instr_kwargs=configs, sampled_kwargs=sampled_kwargs)\\naxins.set_xlim(p.get_xlim())\\naxins.set_ylim(p.get_ylim())\\nplot_model(axins, model, model_kwargs=model_kwargs, fill_kwargs=fill_kwargs)\\nax.indicate_inset_zoom(axins, alpha=1.0, edgecolor='w')\\n\\\"\\\"\\\"\\n\\nax.set_xlim(0.5, 0.95)\\nax.set_ylim(12_400, 14_500)\\nax.set_xlabel(r\\\"Wavelength $(\\\\mu\\\\mathrm{m})$\\\")\\nax.set_ylabel(\\\"Transit depth (ppm)\\\")\\nax.legend(loc=1, ncol=3, fontsize=14)\\n\\n#########\\n# Species\\n#########\\nspecies = {\\n    \\\"Na I-D\\\": 5892.9,\\n    #'H\\u03b1':6564.6,\\n    \\\"K I_avg\\\": 7682.0,\\n    \\\"Na I-8200_avg\\\": 8189.0,\\n}\\n[\\n    ax.axvline(wav / 10000, lw=0.5, ls=\\\"--\\\", color=\\\"grey\\\", zorder=0)\\n    for name, wav in species.items()\\n]\\n\\n# ax.annotate(f\\\"Python 2\\\", (0.05, 0.9), xycoords='axes fraction')\\n\\n# plt.savefig('/Users/mango/Desktop/exoretrievals_py2.png', dpi=250, bbox_inches='tight')\\n\\nfig.set_size_inches(FIG_WIDE)\\n# fig.tight_layout()\\n# utils.savefig('projects/HATP23b/paper/figures/retrievals/retrieval.pdf')\\n# plt.savefig(f\\\"/Users/mango/Desktop/tspec_haze_mid.pdf\\\", bbox_inches=\\\"tight\\\")\\n# plt.savefig(f'../retrieval/kreidberg/{species}/tspec/retr_{basename}.pdf', bbox_inches='tight')\";\n",
       "                var nbb_cells = Jupyter.notebook.get_cells();\n",
       "                for (var i = 0; i < nbb_cells.length; ++i) {\n",
       "                    if (nbb_cells[i].input_prompt_number == nbb_cell_id) {\n",
       "                        if (nbb_cells[i].get_text() == nbb_unformatted_code) {\n",
       "                             nbb_cells[i].set_text(nbb_formatted_code);\n",
       "                        }\n",
       "                        break;\n",
       "                    }\n",
       "                }\n",
       "            }, 500);\n",
       "            "
      ],
      "text/plain": [
       "<IPython.core.display.Javascript object>"
      ]
     },
     "metadata": {},
     "output_type": "display_data"
    }
   ],
   "source": [
    "fig, ax = plt.subplots(figsize=FIG_WIDE)\n",
    "\n",
    "for (model_name, model_dict) in data_dict.items():\n",
    "    # Plot model\n",
    "    p = utils.plot_model(\n",
    "        ax,\n",
    "        model_dict,\n",
    "        model_kwargs={\"label\": model_name},\n",
    "        fill_kwargs={\"alpha\": 0.25},\n",
    "        sample_kwargs={\"marker\": \"o\"},\n",
    "    )\n",
    "\n",
    "#############\n",
    "# Instruments\n",
    "#############\n",
    "for (instrument_name, instrument_data) in instrument_dict.items():\n",
    "    instrument_name = instrument_name.replace(\"_\", \"/\")\n",
    "    utils.plot_instrument(ax, instrument_data)\n",
    "\n",
    "####################\n",
    "# Annotate Delta lnZ\n",
    "####################\n",
    "# fpath = f\"{models[model_key_name]}/retrieval.pkl\"\n",
    "# fpath_flat = f'{models[\"K (clear)\"]}/retrieval.pkl'\n",
    "# DlnZ, DlnZ_unc, lnZ, lnZ_unc = utils.get_Delta_lnZ(fpath, fpath_flat)\n",
    "# s = f\"$\\Delta \\ln(Z) = {DlnZ:.2f} \\pm {DlnZ_unc:.2f}$\"\n",
    "# ax.annotate(s, (0.02, 0.05), xycoords=\"axes fraction\")\n",
    "\n",
    "\"\"\"\n",
    "# Plot inset\n",
    "axins = ax.inset_axes([0.5, 0.5, 0.5, 0.5])\n",
    "# Shortcut to zoom in on last instrument\n",
    "p = plot_instrument(axins, instr, instr_sampled, instr_kwargs=configs, sampled_kwargs=sampled_kwargs)\n",
    "axins.set_xlim(p.get_xlim())\n",
    "axins.set_ylim(p.get_ylim())\n",
    "plot_model(axins, model, model_kwargs=model_kwargs, fill_kwargs=fill_kwargs)\n",
    "ax.indicate_inset_zoom(axins, alpha=1.0, edgecolor='w')\n",
    "\"\"\"\n",
    "\n",
    "ax.set_xlim(0.5, 0.95)\n",
    "ax.set_ylim(12_400, 14_500)\n",
    "ax.set_xlabel(r\"Wavelength $(\\mu\\mathrm{m})$\")\n",
    "ax.set_ylabel(\"Transit depth (ppm)\")\n",
    "ax.legend(loc=1, ncol=3, fontsize=14)\n",
    "\n",
    "#########\n",
    "# Species\n",
    "#########\n",
    "species = {\n",
    "    \"Na I-D\": 5892.9,\n",
    "    #'Hα':6564.6,\n",
    "    \"K I_avg\": 7682.0,\n",
    "    \"Na I-8200_avg\": 8189.0,\n",
    "}\n",
    "[\n",
    "    ax.axvline(wav / 10000, lw=0.5, ls=\"--\", color=\"grey\", zorder=0)\n",
    "    for name, wav in species.items()\n",
    "]\n",
    "\n",
    "# ax.annotate(f\"Python 2\", (0.05, 0.9), xycoords='axes fraction')\n",
    "\n",
    "# plt.savefig('/Users/mango/Desktop/exoretrievals_py2.png', dpi=250, bbox_inches='tight')\n",
    "\n",
    "fig.set_size_inches(FIG_WIDE)\n",
    "# fig.tight_layout()\n",
    "# utils.savefig('projects/HATP23b/paper/figures/retrievals/retrieval.pdf')\n",
    "# plt.savefig(f\"/Users/mango/Desktop/tspec_haze_mid.pdf\", bbox_inches=\"tight\")\n",
    "# plt.savefig(f'../retrieval/kreidberg/{species}/tspec/retr_{basename}.pdf', bbox_inches='tight')"
   ]
  },
  {
   "cell_type": "markdown",
   "id": "ethical-investigation",
   "metadata": {},
   "source": [
    "## Corner plot"
   ]
  },
  {
   "cell_type": "code",
   "execution_count": 41,
   "id": "oriented-eclipse",
   "metadata": {},
   "outputs": [
    {
     "data": {
      "application/javascript": [
       "\n",
       "            setTimeout(function() {\n",
       "                var nbb_cell_id = 41;\n",
       "                var nbb_unformatted_code = \"fpath = (\\n    \\\"data/retrievals/spot_lower_bound/HATP23_E1_Het_FitP0_NoClouds_NoHaze_fitR0_Na_K_TiO/retrieval.pkl\\\"\\n)\\npost = utils.load_pickle(fpath)\\n\\ndf = pd.DataFrame(post[\\\"samples\\\"])\\n\\nparams = {\\n    \\\"logP0\\\": r\\\"$\\\\log P_0$\\\",\\n    \\\"T\\\": r\\\"$T_\\\\mathrm{p}$\\\",\\n    #     'logH2O':r'$\\\\log \\\\mathrm{H}_2\\\\mathrm{O}$',\\n    \\\"logNa\\\": r\\\"$\\\\log \\\\mathrm{Na}$\\\",\\n    \\\"logK\\\": r\\\"$\\\\log \\\\mathrm{K}$\\\",\\n    \\\"logTiO\\\": r\\\"$\\\\log \\\\mathrm{TiO}$\\\",\\n    \\\"f\\\": r\\\"$f$\\\",\\n}\\n\\nif \\\"_Haze\\\" in fpath:\\n    params[\\\"loga\\\"] = r\\\"$\\\\log a$\\\"\\n    params[\\\"gamma\\\"] = r\\\"$\\\\gamma_\\\\mathrm{haze}$\\\"\\n\\nif \\\"_Het\\\" in fpath:\\n    params[\\\"Tocc\\\"] = r\\\"$T_\\\\mathrm{star}$\\\"\\n    # params[\\\"Thet\\\"] = r\\\"$T_\\\\mathrm{het}$\\\"\\n    # params[\\\"Fhet\\\"] = r\\\"$f_\\\\mathrm{het}$\\\"\\n\\ndf_params = df[params.keys()]\\n\\ncorner_kwargs = {\\\"show_titles\\\": True}\\nhist_kwargs = {\\\"histtype\\\": \\\"stepfilled\\\", \\\"lw\\\": 2, \\\"density\\\": True}\\nfig, axes = utils.plot_corner(\\n    df_params,  # .drop([\\\"Thet\\\", \\\"Fhet\\\"], axis=1),\\n    params=params,\\n    c=f\\\"C5\\\",\\n    corner_kwargs=corner_kwargs,\\n    hist_kwargs=hist_kwargs,\\n)\\n\\nfig.set_size_inches(18, 18)\\n\\n# utils.savefig('projects/HATP23b/paper/figures/retrievals/retrieval_corner.pdf')\\n# plt.savefig(f'../retrieval/kreidberg/{species}/corner/corner_{basename}.pdf', bbox_inches='tight')\\n# plt.savefig(f'/Users/mango/Desktop/corner_{source}_all.pdf', bbox_inches='tight')\\n# plt.savefig(f\\\"/Users/mango/Desktop/corner_test.pdf\\\", bbox_inches=\\\"tight\\\")\";\n",
       "                var nbb_formatted_code = \"fpath = \\\"data/retrievals/spot_lower_bound/HATP23_E1_Het_FitP0_NoClouds_NoHaze_fitR0_Na_K_TiO/retrieval.pkl\\\"\\npost = utils.load_pickle(fpath)\\n\\ndf = pd.DataFrame(post[\\\"samples\\\"])\\n\\nparams = {\\n    \\\"logP0\\\": r\\\"$\\\\log P_0$\\\",\\n    \\\"T\\\": r\\\"$T_\\\\mathrm{p}$\\\",\\n    #     'logH2O':r'$\\\\log \\\\mathrm{H}_2\\\\mathrm{O}$',\\n    \\\"logNa\\\": r\\\"$\\\\log \\\\mathrm{Na}$\\\",\\n    \\\"logK\\\": r\\\"$\\\\log \\\\mathrm{K}$\\\",\\n    \\\"logTiO\\\": r\\\"$\\\\log \\\\mathrm{TiO}$\\\",\\n    \\\"f\\\": r\\\"$f$\\\",\\n}\\n\\nif \\\"_Haze\\\" in fpath:\\n    params[\\\"loga\\\"] = r\\\"$\\\\log a$\\\"\\n    params[\\\"gamma\\\"] = r\\\"$\\\\gamma_\\\\mathrm{haze}$\\\"\\n\\nif \\\"_Het\\\" in fpath:\\n    params[\\\"Tocc\\\"] = r\\\"$T_\\\\mathrm{star}$\\\"\\n    # params[\\\"Thet\\\"] = r\\\"$T_\\\\mathrm{het}$\\\"\\n    # params[\\\"Fhet\\\"] = r\\\"$f_\\\\mathrm{het}$\\\"\\n\\ndf_params = df[params.keys()]\\n\\ncorner_kwargs = {\\\"show_titles\\\": True}\\nhist_kwargs = {\\\"histtype\\\": \\\"stepfilled\\\", \\\"lw\\\": 2, \\\"density\\\": True}\\nfig, axes = utils.plot_corner(\\n    df_params,  # .drop([\\\"Thet\\\", \\\"Fhet\\\"], axis=1),\\n    params=params,\\n    c=f\\\"C5\\\",\\n    corner_kwargs=corner_kwargs,\\n    hist_kwargs=hist_kwargs,\\n)\\n\\nfig.set_size_inches(18, 18)\\n\\n# utils.savefig('projects/HATP23b/paper/figures/retrievals/retrieval_corner.pdf')\\n# plt.savefig(f'../retrieval/kreidberg/{species}/corner/corner_{basename}.pdf', bbox_inches='tight')\\n# plt.savefig(f'/Users/mango/Desktop/corner_{source}_all.pdf', bbox_inches='tight')\\n# plt.savefig(f\\\"/Users/mango/Desktop/corner_test.pdf\\\", bbox_inches=\\\"tight\\\")\";\n",
       "                var nbb_cells = Jupyter.notebook.get_cells();\n",
       "                for (var i = 0; i < nbb_cells.length; ++i) {\n",
       "                    if (nbb_cells[i].input_prompt_number == nbb_cell_id) {\n",
       "                        if (nbb_cells[i].get_text() == nbb_unformatted_code) {\n",
       "                             nbb_cells[i].set_text(nbb_formatted_code);\n",
       "                        }\n",
       "                        break;\n",
       "                    }\n",
       "                }\n",
       "            }, 500);\n",
       "            "
      ],
      "text/plain": [
       "<IPython.core.display.Javascript object>"
      ]
     },
     "metadata": {},
     "output_type": "display_data"
    }
   ],
   "source": [
    "fpath = \"data/retrievals/spot_lower_bound/HATP23_E1_Het_FitP0_NoClouds_NoHaze_fitR0_Na_K_TiO/retrieval.pkl\"\n",
    "post = utils.load_pickle(fpath)\n",
    "\n",
    "df = pd.DataFrame(post[\"samples\"])\n",
    "\n",
    "params = {\n",
    "    \"logP0\": r\"$\\log P_0$\",\n",
    "    \"T\": r\"$T_\\mathrm{p}$\",\n",
    "    #     'logH2O':r'$\\log \\mathrm{H}_2\\mathrm{O}$',\n",
    "    \"logNa\": r\"$\\log \\mathrm{Na}$\",\n",
    "    \"logK\": r\"$\\log \\mathrm{K}$\",\n",
    "    \"logTiO\": r\"$\\log \\mathrm{TiO}$\",\n",
    "    \"f\": r\"$f$\",\n",
    "}\n",
    "\n",
    "if \"_Haze\" in fpath:\n",
    "    params[\"loga\"] = r\"$\\log a$\"\n",
    "    params[\"gamma\"] = r\"$\\gamma_\\mathrm{haze}$\"\n",
    "\n",
    "if \"_Het\" in fpath:\n",
    "    params[\"Tocc\"] = r\"$T_\\mathrm{star}$\"\n",
    "    # params[\"Thet\"] = r\"$T_\\mathrm{het}$\"\n",
    "    # params[\"Fhet\"] = r\"$f_\\mathrm{het}$\"\n",
    "\n",
    "df_params = df[params.keys()]\n",
    "\n",
    "corner_kwargs = {\"show_titles\": True}\n",
    "hist_kwargs = {\"histtype\": \"stepfilled\", \"lw\": 2, \"density\": True}\n",
    "fig, axes = utils.plot_corner(\n",
    "    df_params,  # .drop([\"Thet\", \"Fhet\"], axis=1),\n",
    "    params=params,\n",
    "    c=f\"C5\",\n",
    "    corner_kwargs=corner_kwargs,\n",
    "    hist_kwargs=hist_kwargs,\n",
    ")\n",
    "\n",
    "fig.set_size_inches(18, 18)\n",
    "\n",
    "# utils.savefig('projects/HATP23b/paper/figures/retrievals/retrieval_corner.pdf')\n",
    "# plt.savefig(f'../retrieval/kreidberg/{species}/corner/corner_{basename}.pdf', bbox_inches='tight')\n",
    "# plt.savefig(f'/Users/mango/Desktop/corner_{source}_all.pdf', bbox_inches='tight')\n",
    "# plt.savefig(f\"/Users/mango/Desktop/corner_test.pdf\", bbox_inches=\"tight\")"
   ]
  },
  {
   "cell_type": "markdown",
   "id": "union-undergraduate",
   "metadata": {},
   "source": [
    "## Evidences"
   ]
  },
  {
   "cell_type": "code",
   "execution_count": 33,
   "id": "killing-service",
   "metadata": {},
   "outputs": [
    {
     "data": {
      "application/javascript": [
       "\n",
       "            setTimeout(function() {\n",
       "                var nbb_cell_id = 33;\n",
       "                var nbb_unformatted_code = \"base_dir = \\\"data/retrievals/spot_upper_bound\\\"\\nspecies = [\\\"Na\\\", \\\"K\\\", \\\"TiO\\\", \\\"Na_K\\\", \\\"Na_TiO\\\", \\\"K_TiO\\\", \\\"Na_K_TiO\\\"]\\n\\n# Load\\ndata_dict = {\\n    sp: {\\n        \\\"clear\\\": utils.load_pickle(\\n            f\\\"{base_dir}/HATP23_E1_NoHet_FitP0_NoClouds_NoHaze_fitR0_{sp}/retrieval.pkl\\\"\\n        ),\\n        \\\"haze\\\": utils.load_pickle(\\n            f\\\"{base_dir}/HATP23_E1_NoHet_FitP0_NoClouds_Haze_fitR0_{sp}/retrieval.pkl\\\"\\n        ),\\n        \\\"spot\\\": utils.load_pickle(\\n            f\\\"{base_dir}/HATP23_E1_Het_FitP0_NoClouds_NoHaze_fitR0_{sp}/retrieval.pkl\\\"\\n        ),\\n        \\\"spot+haze\\\": utils.load_pickle(\\n            f\\\"{base_dir}/HATP23_E1_Het_FitP0_NoClouds_Haze_fitR0_{sp}/retrieval.pkl\\\"\\n        ),\\n    }\\n    for sp in species\\n}\";\n",
       "                var nbb_formatted_code = \"base_dir = \\\"data/retrievals/spot_upper_bound\\\"\\nspecies = [\\\"Na\\\", \\\"K\\\", \\\"TiO\\\", \\\"Na_K\\\", \\\"Na_TiO\\\", \\\"K_TiO\\\", \\\"Na_K_TiO\\\"]\\n\\n# Load\\ndata_dict = {\\n    sp: {\\n        \\\"clear\\\": utils.load_pickle(\\n            f\\\"{base_dir}/HATP23_E1_NoHet_FitP0_NoClouds_NoHaze_fitR0_{sp}/retrieval.pkl\\\"\\n        ),\\n        \\\"haze\\\": utils.load_pickle(\\n            f\\\"{base_dir}/HATP23_E1_NoHet_FitP0_NoClouds_Haze_fitR0_{sp}/retrieval.pkl\\\"\\n        ),\\n        \\\"spot\\\": utils.load_pickle(\\n            f\\\"{base_dir}/HATP23_E1_Het_FitP0_NoClouds_NoHaze_fitR0_{sp}/retrieval.pkl\\\"\\n        ),\\n        \\\"spot+haze\\\": utils.load_pickle(\\n            f\\\"{base_dir}/HATP23_E1_Het_FitP0_NoClouds_Haze_fitR0_{sp}/retrieval.pkl\\\"\\n        ),\\n    }\\n    for sp in species\\n}\";\n",
       "                var nbb_cells = Jupyter.notebook.get_cells();\n",
       "                for (var i = 0; i < nbb_cells.length; ++i) {\n",
       "                    if (nbb_cells[i].input_prompt_number == nbb_cell_id) {\n",
       "                        if (nbb_cells[i].get_text() == nbb_unformatted_code) {\n",
       "                             nbb_cells[i].set_text(nbb_formatted_code);\n",
       "                        }\n",
       "                        break;\n",
       "                    }\n",
       "                }\n",
       "            }, 500);\n",
       "            "
      ],
      "text/plain": [
       "<IPython.core.display.Javascript object>"
      ]
     },
     "metadata": {},
     "output_type": "display_data"
    }
   ],
   "source": [
    "base_dir = \"data/retrievals/spot_upper_bound\"\n",
    "species = [\"Na\", \"K\", \"TiO\", \"Na_K\", \"Na_TiO\", \"K_TiO\", \"Na_K_TiO\"]\n",
    "\n",
    "# Load\n",
    "data_dict = {\n",
    "    sp: {\n",
    "        \"clear\": utils.load_pickle(\n",
    "            f\"{base_dir}/HATP23_E1_NoHet_FitP0_NoClouds_NoHaze_fitR0_{sp}/retrieval.pkl\"\n",
    "        ),\n",
    "        \"haze\": utils.load_pickle(\n",
    "            f\"{base_dir}/HATP23_E1_NoHet_FitP0_NoClouds_Haze_fitR0_{sp}/retrieval.pkl\"\n",
    "        ),\n",
    "        \"spot\": utils.load_pickle(\n",
    "            f\"{base_dir}/HATP23_E1_Het_FitP0_NoClouds_NoHaze_fitR0_{sp}/retrieval.pkl\"\n",
    "        ),\n",
    "        \"spot+haze\": utils.load_pickle(\n",
    "            f\"{base_dir}/HATP23_E1_Het_FitP0_NoClouds_Haze_fitR0_{sp}/retrieval.pkl\"\n",
    "        ),\n",
    "    }\n",
    "    for sp in species\n",
    "}"
   ]
  },
  {
   "cell_type": "code",
   "execution_count": 34,
   "id": "ultimate-salad",
   "metadata": {},
   "outputs": [
    {
     "data": {
      "text/html": [
       "<div>\n",
       "<style scoped>\n",
       "    .dataframe tbody tr th:only-of-type {\n",
       "        vertical-align: middle;\n",
       "    }\n",
       "\n",
       "    .dataframe tbody tr th {\n",
       "        vertical-align: top;\n",
       "    }\n",
       "\n",
       "    .dataframe thead th {\n",
       "        text-align: right;\n",
       "    }\n",
       "</style>\n",
       "<table border=\"1\" class=\"dataframe\">\n",
       "  <thead>\n",
       "    <tr style=\"text-align: right;\">\n",
       "      <th></th>\n",
       "      <th>Na</th>\n",
       "      <th>K</th>\n",
       "      <th>TiO</th>\n",
       "      <th>Na_K</th>\n",
       "      <th>Na_TiO</th>\n",
       "      <th>K_TiO</th>\n",
       "      <th>Na_K_TiO</th>\n",
       "    </tr>\n",
       "  </thead>\n",
       "  <tbody>\n",
       "    <tr>\n",
       "      <th>clear</th>\n",
       "      <td>-134.326099</td>\n",
       "      <td>-136.291638</td>\n",
       "      <td>-132.379316</td>\n",
       "      <td>-134.546691</td>\n",
       "      <td>-132.471097</td>\n",
       "      <td>-132.514284</td>\n",
       "      <td>-132.845271</td>\n",
       "    </tr>\n",
       "    <tr>\n",
       "      <th>haze</th>\n",
       "      <td>-134.654415</td>\n",
       "      <td>-135.190496</td>\n",
       "      <td>-133.101873</td>\n",
       "      <td>-135.108784</td>\n",
       "      <td>-133.439754</td>\n",
       "      <td>-133.333176</td>\n",
       "      <td>-133.721154</td>\n",
       "    </tr>\n",
       "    <tr>\n",
       "      <th>spot</th>\n",
       "      <td>-133.760441</td>\n",
       "      <td>-134.894198</td>\n",
       "      <td>-131.574694</td>\n",
       "      <td>-134.154917</td>\n",
       "      <td>-131.838029</td>\n",
       "      <td>-131.994154</td>\n",
       "      <td>-132.274421</td>\n",
       "    </tr>\n",
       "    <tr>\n",
       "      <th>spot+haze</th>\n",
       "      <td>-134.040044</td>\n",
       "      <td>-134.300003</td>\n",
       "      <td>-132.464083</td>\n",
       "      <td>-134.458334</td>\n",
       "      <td>-132.797839</td>\n",
       "      <td>-132.943719</td>\n",
       "      <td>-133.215873</td>\n",
       "    </tr>\n",
       "  </tbody>\n",
       "</table>\n",
       "</div>"
      ],
      "text/plain": [
       "                   Na           K         TiO        Na_K      Na_TiO  \\\n",
       "clear     -134.326099 -136.291638 -132.379316 -134.546691 -132.471097   \n",
       "haze      -134.654415 -135.190496 -133.101873 -135.108784 -133.439754   \n",
       "spot      -133.760441 -134.894198 -131.574694 -134.154917 -131.838029   \n",
       "spot+haze -134.040044 -134.300003 -132.464083 -134.458334 -132.797839   \n",
       "\n",
       "                K_TiO    Na_K_TiO  \n",
       "clear     -132.514284 -132.845271  \n",
       "haze      -133.333176 -133.721154  \n",
       "spot      -131.994154 -132.274421  \n",
       "spot+haze -132.943719 -133.215873  "
      ]
     },
     "execution_count": 34,
     "metadata": {},
     "output_type": "execute_result"
    },
    {
     "data": {
      "application/javascript": [
       "\n",
       "            setTimeout(function() {\n",
       "                var nbb_cell_id = 34;\n",
       "                var nbb_unformatted_code = \"evidences = {}\\nfor species_name, species_data in data_dict.items():\\n    evidences[species_name] = {}\\n    for model_name, model_data in species_data.items():\\n        evidences[species_name][model_name] = model_data[\\n            \\\"lnZ\\\"\\n        ]  # , model_data[\\\"lnZerr\\\"]\\n\\ndf_evidences = pd.DataFrame(evidences)\\n\\ndf_evidences\";\n",
       "                var nbb_formatted_code = \"evidences = {}\\nfor species_name, species_data in data_dict.items():\\n    evidences[species_name] = {}\\n    for model_name, model_data in species_data.items():\\n        evidences[species_name][model_name] = model_data[\\n            \\\"lnZ\\\"\\n        ]  # , model_data[\\\"lnZerr\\\"]\\n\\ndf_evidences = pd.DataFrame(evidences)\\n\\ndf_evidences\";\n",
       "                var nbb_cells = Jupyter.notebook.get_cells();\n",
       "                for (var i = 0; i < nbb_cells.length; ++i) {\n",
       "                    if (nbb_cells[i].input_prompt_number == nbb_cell_id) {\n",
       "                        if (nbb_cells[i].get_text() == nbb_unformatted_code) {\n",
       "                             nbb_cells[i].set_text(nbb_formatted_code);\n",
       "                        }\n",
       "                        break;\n",
       "                    }\n",
       "                }\n",
       "            }, 500);\n",
       "            "
      ],
      "text/plain": [
       "<IPython.core.display.Javascript object>"
      ]
     },
     "metadata": {},
     "output_type": "display_data"
    }
   ],
   "source": [
    "evidences = {}\n",
    "for species_name, species_data in data_dict.items():\n",
    "    evidences[species_name] = {}\n",
    "    for model_name, model_data in species_data.items():\n",
    "        evidences[species_name][model_name] = model_data[\n",
    "            \"lnZ\"\n",
    "        ]  # , model_data[\"lnZerr\"]\n",
    "\n",
    "df_evidences = pd.DataFrame(evidences)\n",
    "\n",
    "df_evidences"
   ]
  },
  {
   "cell_type": "code",
   "execution_count": 29,
   "id": "dental-sweet",
   "metadata": {},
   "outputs": [
    {
     "name": "stdout",
     "output_type": "stream",
     "text": [
      "K clear\n"
     ]
    },
    {
     "data": {
      "application/javascript": [
       "\n",
       "            setTimeout(function() {\n",
       "                var nbb_cell_id = 29;\n",
       "                var nbb_unformatted_code = \"species_min = df_evidences.min().idxmin()\\nmodel_min = df_evidences[species_min].idxmin()\\nprint(species_min, model_min)\";\n",
       "                var nbb_formatted_code = \"species_min = df_evidences.min().idxmin()\\nmodel_min = df_evidences[species_min].idxmin()\\nprint(species_min, model_min)\";\n",
       "                var nbb_cells = Jupyter.notebook.get_cells();\n",
       "                for (var i = 0; i < nbb_cells.length; ++i) {\n",
       "                    if (nbb_cells[i].input_prompt_number == nbb_cell_id) {\n",
       "                        if (nbb_cells[i].get_text() == nbb_unformatted_code) {\n",
       "                             nbb_cells[i].set_text(nbb_formatted_code);\n",
       "                        }\n",
       "                        break;\n",
       "                    }\n",
       "                }\n",
       "            }, 500);\n",
       "            "
      ],
      "text/plain": [
       "<IPython.core.display.Javascript object>"
      ]
     },
     "metadata": {},
     "output_type": "display_data"
    }
   ],
   "source": [
    "species_min = df_evidences.min().idxmin()\n",
    "model_min = df_evidences[species_min].idxmin()\n",
    "print(species_min, model_min)"
   ]
  },
  {
   "cell_type": "code",
   "execution_count": 30,
   "id": "dedicated-mechanism",
   "metadata": {},
   "outputs": [
    {
     "data": {
      "application/javascript": [
       "\n",
       "            setTimeout(function() {\n",
       "                var nbb_cell_id = 30;\n",
       "                var nbb_unformatted_code = \"data_flat = data_dict[species_min][model_min]\";\n",
       "                var nbb_formatted_code = \"data_flat = data_dict[species_min][model_min]\";\n",
       "                var nbb_cells = Jupyter.notebook.get_cells();\n",
       "                for (var i = 0; i < nbb_cells.length; ++i) {\n",
       "                    if (nbb_cells[i].input_prompt_number == nbb_cell_id) {\n",
       "                        if (nbb_cells[i].get_text() == nbb_unformatted_code) {\n",
       "                             nbb_cells[i].set_text(nbb_formatted_code);\n",
       "                        }\n",
       "                        break;\n",
       "                    }\n",
       "                }\n",
       "            }, 500);\n",
       "            "
      ],
      "text/plain": [
       "<IPython.core.display.Javascript object>"
      ]
     },
     "metadata": {},
     "output_type": "display_data"
    }
   ],
   "source": [
    "data_flat = data_dict[species_min][model_min]"
   ]
  },
  {
   "cell_type": "code",
   "execution_count": 32,
   "id": "apart-circumstances",
   "metadata": {},
   "outputs": [
    {
     "data": {
      "text/html": [
       "<div>\n",
       "<style scoped>\n",
       "    .dataframe tbody tr th:only-of-type {\n",
       "        vertical-align: middle;\n",
       "    }\n",
       "\n",
       "    .dataframe tbody tr th {\n",
       "        vertical-align: top;\n",
       "    }\n",
       "\n",
       "    .dataframe thead th {\n",
       "        text-align: right;\n",
       "    }\n",
       "</style>\n",
       "<table border=\"1\" class=\"dataframe\">\n",
       "  <thead>\n",
       "    <tr style=\"text-align: right;\">\n",
       "      <th></th>\n",
       "      <th>Na</th>\n",
       "      <th>K</th>\n",
       "      <th>TiO</th>\n",
       "      <th>Na_K</th>\n",
       "      <th>Na_TiO</th>\n",
       "      <th>K_TiO</th>\n",
       "      <th>Na_K_TiO</th>\n",
       "    </tr>\n",
       "  </thead>\n",
       "  <tbody>\n",
       "    <tr>\n",
       "      <th>clear</th>\n",
       "      <td>1.965539</td>\n",
       "      <td>0.000000</td>\n",
       "      <td>3.912322</td>\n",
       "      <td>1.744947</td>\n",
       "      <td>3.820541</td>\n",
       "      <td>3.777354</td>\n",
       "      <td>3.446367</td>\n",
       "    </tr>\n",
       "    <tr>\n",
       "      <th>haze</th>\n",
       "      <td>1.637223</td>\n",
       "      <td>1.101142</td>\n",
       "      <td>3.189765</td>\n",
       "      <td>1.182854</td>\n",
       "      <td>2.851884</td>\n",
       "      <td>2.958462</td>\n",
       "      <td>2.570484</td>\n",
       "    </tr>\n",
       "    <tr>\n",
       "      <th>spot</th>\n",
       "      <td>2.531197</td>\n",
       "      <td>1.397440</td>\n",
       "      <td>4.716944</td>\n",
       "      <td>2.136721</td>\n",
       "      <td>4.453609</td>\n",
       "      <td>4.297484</td>\n",
       "      <td>4.017217</td>\n",
       "    </tr>\n",
       "    <tr>\n",
       "      <th>spot+haze</th>\n",
       "      <td>2.251594</td>\n",
       "      <td>1.991635</td>\n",
       "      <td>3.827555</td>\n",
       "      <td>1.833304</td>\n",
       "      <td>3.493799</td>\n",
       "      <td>3.347919</td>\n",
       "      <td>3.075765</td>\n",
       "    </tr>\n",
       "  </tbody>\n",
       "</table>\n",
       "</div>"
      ],
      "text/plain": [
       "                 Na         K       TiO      Na_K    Na_TiO     K_TiO  \\\n",
       "clear      1.965539  0.000000  3.912322  1.744947  3.820541  3.777354   \n",
       "haze       1.637223  1.101142  3.189765  1.182854  2.851884  2.958462   \n",
       "spot       2.531197  1.397440  4.716944  2.136721  4.453609  4.297484   \n",
       "spot+haze  2.251594  1.991635  3.827555  1.833304  3.493799  3.347919   \n",
       "\n",
       "           Na_K_TiO  \n",
       "clear      3.446367  \n",
       "haze       2.570484  \n",
       "spot       4.017217  \n",
       "spot+haze  3.075765  "
      ]
     },
     "execution_count": 32,
     "metadata": {},
     "output_type": "execute_result"
    },
    {
     "data": {
      "application/javascript": [
       "\n",
       "            setTimeout(function() {\n",
       "                var nbb_cell_id = 32;\n",
       "                var nbb_unformatted_code = \"df_evidences - data_flat[\\\"lnZ\\\"]\\n# species_max = df_retr.max()\\n# species_max\\n# model_max = df_retr[species_max].idxmax()\\n# species_max, model_max\";\n",
       "                var nbb_formatted_code = \"df_evidences - data_flat[\\\"lnZ\\\"]\\n# species_max = df_retr.max()\\n# species_max\\n# model_max = df_retr[species_max].idxmax()\\n# species_max, model_max\";\n",
       "                var nbb_cells = Jupyter.notebook.get_cells();\n",
       "                for (var i = 0; i < nbb_cells.length; ++i) {\n",
       "                    if (nbb_cells[i].input_prompt_number == nbb_cell_id) {\n",
       "                        if (nbb_cells[i].get_text() == nbb_unformatted_code) {\n",
       "                             nbb_cells[i].set_text(nbb_formatted_code);\n",
       "                        }\n",
       "                        break;\n",
       "                    }\n",
       "                }\n",
       "            }, 500);\n",
       "            "
      ],
      "text/plain": [
       "<IPython.core.display.Javascript object>"
      ]
     },
     "metadata": {},
     "output_type": "display_data"
    }
   ],
   "source": [
    "df_evidences - data_flat[\"lnZ\"]\n",
    "# species_max = df_retr.max()\n",
    "# species_max\n",
    "# model_max = df_retr[species_max].idxmax()\n",
    "# species_max, model_max"
   ]
  },
  {
   "cell_type": "markdown",
   "id": "tamil-gospel",
   "metadata": {},
   "source": [
    "\\\\begin{tabular}{lrrrrrrr}\\n\\\\toprule\\n{} &          Na &           K &         TiO &        Na\\\\_K &      Na\\\\_TiO &       K\\\\_TiO &    Na\\\\_K\\\\_TiO \\\\\\\\\\n\\\\midrule\\nclear     & -134.432372 & -136.275292 & -132.558632 & -134.628939 & -132.418799 & -132.533571 & -132.831056 \\\\\\\\\\nhaze      & -134.633771 & -135.177808 & -133.159445 & -135.058690 & -133.452823 & -133.437180 & -133.748740 \\\\\\\\\\nspot      & -134.654943 & -136.336323 & -132.489503 & -135.187450 & -132.778055 & -132.893856 & -133.095527 \\\\\\\\\\nspot+haze & -135.154228 & -135.427309 & -133.324230 & -135.483514 & -133.648063 & -133.775133 & -134.170645 \\\\\\\\\\n\\\\bottomrule\\n\\\\end{tabular}\\n"
   ]
  },
  {
   "cell_type": "code",
   "execution_count": null,
   "id": "talented-saudi",
   "metadata": {},
   "outputs": [],
   "source": []
  },
  {
   "cell_type": "code",
   "execution_count": null,
   "id": "clean-wayne",
   "metadata": {},
   "outputs": [],
   "source": []
  },
  {
   "cell_type": "code",
   "execution_count": null,
   "id": "fancy-california",
   "metadata": {},
   "outputs": [],
   "source": []
  },
  {
   "cell_type": "code",
   "execution_count": null,
   "id": "insured-pierre",
   "metadata": {},
   "outputs": [],
   "source": []
  },
  {
   "cell_type": "code",
   "execution_count": null,
   "id": "extensive-presence",
   "metadata": {},
   "outputs": [],
   "source": []
  },
  {
   "cell_type": "code",
   "execution_count": null,
   "id": "significant-appendix",
   "metadata": {},
   "outputs": [],
   "source": []
  }
 ],
 "metadata": {
  "kernelspec": {
   "display_name": "Python 3",
   "language": "python",
   "name": "python3"
  },
  "language_info": {
   "codemirror_mode": {
    "name": "ipython",
    "version": 3
   },
   "file_extension": ".py",
   "mimetype": "text/x-python",
   "name": "python",
   "nbconvert_exporter": "python",
   "pygments_lexer": "ipython3",
   "version": "3.9.1"
  }
 },
 "nbformat": 4,
 "nbformat_minor": 5
}
