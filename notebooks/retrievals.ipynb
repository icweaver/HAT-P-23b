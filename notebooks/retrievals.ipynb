{
 "cells": [
  {
   "cell_type": "code",
   "execution_count": 1,
   "id": "little-frederick",
   "metadata": {},
   "outputs": [
    {
     "data": {
      "application/javascript": [
       "\n",
       "            setTimeout(function() {\n",
       "                var nbb_cell_id = 1;\n",
       "                var nbb_unformatted_code = \"%load_ext nb_black\\n%load_ext autoreload\\n%autoreload 2\";\n",
       "                var nbb_formatted_code = \"%load_ext nb_black\\n%load_ext autoreload\\n%autoreload 2\";\n",
       "                var nbb_cells = Jupyter.notebook.get_cells();\n",
       "                for (var i = 0; i < nbb_cells.length; ++i) {\n",
       "                    if (nbb_cells[i].input_prompt_number == nbb_cell_id) {\n",
       "                        if (nbb_cells[i].get_text() == nbb_unformatted_code) {\n",
       "                             nbb_cells[i].set_text(nbb_formatted_code);\n",
       "                        }\n",
       "                        break;\n",
       "                    }\n",
       "                }\n",
       "            }, 500);\n",
       "            "
      ],
      "text/plain": [
       "<IPython.core.display.Javascript object>"
      ]
     },
     "metadata": {},
     "output_type": "display_data"
    }
   ],
   "source": [
    "%load_ext nb_black\n",
    "%load_ext autoreload\n",
    "%autoreload 2"
   ]
  },
  {
   "cell_type": "code",
   "execution_count": 138,
   "id": "physical-recall",
   "metadata": {},
   "outputs": [
    {
     "data": {
      "application/javascript": [
       "\n",
       "            setTimeout(function() {\n",
       "                var nbb_cell_id = 138;\n",
       "                var nbb_unformatted_code = \"import glob as glob\\nimport matplotlib as mpl\\nimport matplotlib.patheffects as PathEffects\\nimport matplotlib.pyplot as plt\\nimport matplotlib.transforms as transforms\\nimport numpy as np\\nimport pandas as pd\\nimport seaborn as sns\\n\\nimport corner\\nimport json\\nimport pathlib\\nimport pickle\\nimport utils\\nimport warnings\\n\\nfrom astropy import constants as const\\nfrom astropy import units as uni\\nfrom astropy.io import ascii, fits\\nfrom astropy.time import Time\\nfrom mpl_toolkits.axes_grid1 import ImageGrid\\n\\n# Default figure dimensions\\nFIG_WIDE = (11, 5)\\nFIG_LARGE = (8, 11)\\n\\n# Figure style\\nsns.set(style=\\\"ticks\\\", palette=\\\"colorblind\\\", color_codes=True, context=\\\"talk\\\")\\nparams = {\\n    # xticks\\n    \\\"xtick.top\\\": False,\\n    \\\"xtick.direction\\\": \\\"out\\\",\\n    \\\"xtick.major.size\\\": 5,\\n    \\\"xtick.minor.visible\\\": False,\\n    # yticks\\n    \\\"ytick.right\\\": False,\\n    \\\"ytick.direction\\\": \\\"out\\\",\\n    \\\"ytick.major.size\\\": 5,\\n    \\\"ytick.minor.visible\\\": False,\\n    # pallete\\n    \\\"axes.prop_cycle\\\": mpl.cycler(\\n        color=[\\n            \\\"#fdbf6f\\\",  # Yellow\\n            \\\"#ff7f00\\\",  # Orange\\n            \\\"#a6cee3\\\",  # Cyan\\n            \\\"#1f78b4\\\",  # Blue\\n            \\\"violet\\\",\\n            \\\"#956cb4\\\",  # Purple\\n            \\\"mediumaquamarine\\\",\\n            \\\"#029e73\\\",  # Green\\n            \\\"#c44e52\\\",  # Red\\n        ]\\n    ),\\n}\\nplt.rcParams.update(params)\";\n",
       "                var nbb_formatted_code = \"import glob as glob\\nimport matplotlib as mpl\\nimport matplotlib.patheffects as PathEffects\\nimport matplotlib.pyplot as plt\\nimport matplotlib.transforms as transforms\\nimport numpy as np\\nimport pandas as pd\\nimport seaborn as sns\\n\\nimport corner\\nimport json\\nimport pathlib\\nimport pickle\\nimport utils\\nimport warnings\\n\\nfrom astropy import constants as const\\nfrom astropy import units as uni\\nfrom astropy.io import ascii, fits\\nfrom astropy.time import Time\\nfrom mpl_toolkits.axes_grid1 import ImageGrid\\n\\n# Default figure dimensions\\nFIG_WIDE = (11, 5)\\nFIG_LARGE = (8, 11)\\n\\n# Figure style\\nsns.set(style=\\\"ticks\\\", palette=\\\"colorblind\\\", color_codes=True, context=\\\"talk\\\")\\nparams = {\\n    # xticks\\n    \\\"xtick.top\\\": False,\\n    \\\"xtick.direction\\\": \\\"out\\\",\\n    \\\"xtick.major.size\\\": 5,\\n    \\\"xtick.minor.visible\\\": False,\\n    # yticks\\n    \\\"ytick.right\\\": False,\\n    \\\"ytick.direction\\\": \\\"out\\\",\\n    \\\"ytick.major.size\\\": 5,\\n    \\\"ytick.minor.visible\\\": False,\\n    # pallete\\n    \\\"axes.prop_cycle\\\": mpl.cycler(\\n        color=[\\n            \\\"#fdbf6f\\\",  # Yellow\\n            \\\"#ff7f00\\\",  # Orange\\n            \\\"#a6cee3\\\",  # Cyan\\n            \\\"#1f78b4\\\",  # Blue\\n            \\\"violet\\\",\\n            \\\"#956cb4\\\",  # Purple\\n            \\\"mediumaquamarine\\\",\\n            \\\"#029e73\\\",  # Green\\n            \\\"#c44e52\\\",  # Red\\n        ]\\n    ),\\n}\\nplt.rcParams.update(params)\";\n",
       "                var nbb_cells = Jupyter.notebook.get_cells();\n",
       "                for (var i = 0; i < nbb_cells.length; ++i) {\n",
       "                    if (nbb_cells[i].input_prompt_number == nbb_cell_id) {\n",
       "                        if (nbb_cells[i].get_text() == nbb_unformatted_code) {\n",
       "                             nbb_cells[i].set_text(nbb_formatted_code);\n",
       "                        }\n",
       "                        break;\n",
       "                    }\n",
       "                }\n",
       "            }, 500);\n",
       "            "
      ],
      "text/plain": [
       "<IPython.core.display.Javascript object>"
      ]
     },
     "metadata": {},
     "output_type": "display_data"
    }
   ],
   "source": [
    "import glob as glob\n",
    "import matplotlib as mpl\n",
    "import matplotlib.patheffects as PathEffects\n",
    "import matplotlib.pyplot as plt\n",
    "import matplotlib.transforms as transforms\n",
    "import numpy as np\n",
    "import pandas as pd\n",
    "import seaborn as sns\n",
    "\n",
    "import corner\n",
    "import json\n",
    "import pathlib\n",
    "import pickle\n",
    "import utils\n",
    "import warnings\n",
    "\n",
    "from astropy import constants as const\n",
    "from astropy import units as uni\n",
    "from astropy.io import ascii, fits\n",
    "from astropy.time import Time\n",
    "from mpl_toolkits.axes_grid1 import ImageGrid\n",
    "\n",
    "# Default figure dimensions\n",
    "FIG_WIDE = (11, 5)\n",
    "FIG_LARGE = (8, 11)\n",
    "\n",
    "# Figure style\n",
    "sns.set(style=\"ticks\", palette=\"colorblind\", color_codes=True, context=\"talk\")\n",
    "params = {\n",
    "    # xticks\n",
    "    \"xtick.top\": False,\n",
    "    \"xtick.direction\": \"out\",\n",
    "    \"xtick.major.size\": 5,\n",
    "    \"xtick.minor.visible\": False,\n",
    "    # yticks\n",
    "    \"ytick.right\": False,\n",
    "    \"ytick.direction\": \"out\",\n",
    "    \"ytick.major.size\": 5,\n",
    "    \"ytick.minor.visible\": False,\n",
    "    # pallete\n",
    "    \"axes.prop_cycle\": mpl.cycler(\n",
    "        color=[\n",
    "            \"#fdbf6f\",  # Yellow\n",
    "            \"#ff7f00\",  # Orange\n",
    "            \"#a6cee3\",  # Cyan\n",
    "            \"#1f78b4\",  # Blue\n",
    "            \"violet\",\n",
    "            \"#956cb4\",  # Purple\n",
    "            \"mediumaquamarine\",\n",
    "            \"#029e73\",  # Green\n",
    "            \"#c44e52\",  # Red\n",
    "        ]\n",
    "    ),\n",
    "}\n",
    "plt.rcParams.update(params)"
   ]
  },
  {
   "cell_type": "markdown",
   "id": "nonprofit-sound",
   "metadata": {},
   "source": [
    "## Load"
   ]
  },
  {
   "cell_type": "code",
   "execution_count": 35,
   "id": "incorrect-christopher",
   "metadata": {},
   "outputs": [
    {
     "data": {
      "text/plain": [
       "{'Na+K+TiO (clear)': 'data/retrievals/spot_upper_bound/HATP23_E1_NoHet_FitP0_NoClouds_NoHaze_fitR0_Na_K_TiO',\n",
       " 'Na+K+TiO (haze)': 'data/retrievals/spot_upper_bound/HATP23_E1_NoHet_FitP0_NoClouds_Haze_fitR0_Na_K_TiO',\n",
       " 'Na+K+TiO (spot)': 'data/retrievals/spot_upper_bound/HATP23_E1_Het_FitP0_NoClouds_NoHaze_fitR0_Na_K_TiO',\n",
       " 'Na+K+TiO (spot+haze)': 'data/retrievals/spot_upper_bound/HATP23_E1_Het_FitP0_NoClouds_Haze_fitR0_Na_K_TiO'}"
      ]
     },
     "execution_count": 35,
     "metadata": {},
     "output_type": "execute_result"
    },
    {
     "data": {
      "application/javascript": [
       "\n",
       "            setTimeout(function() {\n",
       "                var nbb_cell_id = 35;\n",
       "                var nbb_unformatted_code = \"base_dir = \\\"data/retrievals/spot_upper_bound\\\"\\n\\n########\\n# Models\\n########\\nfpaths_dict = {\\n    \\\"Na+K+TiO (clear)\\\": f\\\"{base_dir}/HATP23_E1_NoHet_FitP0_NoClouds_NoHaze_fitR0_Na_K_TiO\\\",\\n    \\\"Na+K+TiO (haze)\\\": f\\\"{base_dir}/HATP23_E1_NoHet_FitP0_NoClouds_Haze_fitR0_Na_K_TiO\\\",\\n    \\\"Na+K+TiO (spot)\\\": f\\\"{base_dir}/HATP23_E1_Het_FitP0_NoClouds_NoHaze_fitR0_Na_K_TiO\\\",\\n    \\\"Na+K+TiO (spot+haze)\\\": f\\\"{base_dir}/HATP23_E1_Het_FitP0_NoClouds_Haze_fitR0_Na_K_TiO\\\",\\n}\\nfpaths_dict\";\n",
       "                var nbb_formatted_code = \"base_dir = \\\"data/retrievals/spot_upper_bound\\\"\\n\\n########\\n# Models\\n########\\nfpaths_dict = {\\n    \\\"Na+K+TiO (clear)\\\": f\\\"{base_dir}/HATP23_E1_NoHet_FitP0_NoClouds_NoHaze_fitR0_Na_K_TiO\\\",\\n    \\\"Na+K+TiO (haze)\\\": f\\\"{base_dir}/HATP23_E1_NoHet_FitP0_NoClouds_Haze_fitR0_Na_K_TiO\\\",\\n    \\\"Na+K+TiO (spot)\\\": f\\\"{base_dir}/HATP23_E1_Het_FitP0_NoClouds_NoHaze_fitR0_Na_K_TiO\\\",\\n    \\\"Na+K+TiO (spot+haze)\\\": f\\\"{base_dir}/HATP23_E1_Het_FitP0_NoClouds_Haze_fitR0_Na_K_TiO\\\",\\n}\\nfpaths_dict\";\n",
       "                var nbb_cells = Jupyter.notebook.get_cells();\n",
       "                for (var i = 0; i < nbb_cells.length; ++i) {\n",
       "                    if (nbb_cells[i].input_prompt_number == nbb_cell_id) {\n",
       "                        if (nbb_cells[i].get_text() == nbb_unformatted_code) {\n",
       "                             nbb_cells[i].set_text(nbb_formatted_code);\n",
       "                        }\n",
       "                        break;\n",
       "                    }\n",
       "                }\n",
       "            }, 500);\n",
       "            "
      ],
      "text/plain": [
       "<IPython.core.display.Javascript object>"
      ]
     },
     "metadata": {},
     "output_type": "display_data"
    }
   ],
   "source": [
    "base_dir = \"data/retrievals/spot_upper_bound\"\n",
    "\n",
    "########\n",
    "# Models\n",
    "########\n",
    "fpaths_dict = {\n",
    "    \"Na+K+TiO (clear)\": f\"{base_dir}/HATP23_E1_NoHet_FitP0_NoClouds_NoHaze_fitR0_Na_K_TiO\",\n",
    "    \"Na+K+TiO (haze)\": f\"{base_dir}/HATP23_E1_NoHet_FitP0_NoClouds_Haze_fitR0_Na_K_TiO\",\n",
    "    \"Na+K+TiO (spot)\": f\"{base_dir}/HATP23_E1_Het_FitP0_NoClouds_NoHaze_fitR0_Na_K_TiO\",\n",
    "    \"Na+K+TiO (spot+haze)\": f\"{base_dir}/HATP23_E1_Het_FitP0_NoClouds_Haze_fitR0_Na_K_TiO\",\n",
    "}\n",
    "fpaths_dict"
   ]
  },
  {
   "cell_type": "code",
   "execution_count": 38,
   "id": "roman-perspective",
   "metadata": {},
   "outputs": [
    {
     "data": {
      "application/javascript": [
       "\n",
       "            setTimeout(function() {\n",
       "                var nbb_cell_id = 38;\n",
       "                var nbb_unformatted_code = \"# Load\\ndata_dict = {\\n    model_name: {\\n        \\\"data\\\": ascii.read(f\\\"{model_dir}/retr_model.txt\\\"),\\n        \\\"sampled_data\\\": ascii.read(\\n            f\\\"{model_dir}/retr_model_sampled_Magellan_IMACS.txt\\\"\\n        ),\\n    }\\n    for (model_name, model_dir) in fpaths_dict.items()\\n}\\n\\ninstrument_dict = {\\n    \\\"Magellan_IMACS\\\": {\\n        \\\"plot_kwargs\\\": {\\n            \\\"c\\\": \\\"w\\\",\\n            \\\"mec\\\": \\\"k\\\",\\n            \\\"fmt\\\": \\\"o\\\",\\n            \\\"ecolor\\\": \\\"k\\\",\\n            \\\"label\\\": \\\"Magellan/IMACS\\\",\\n            \\\"zorder\\\": 10,\\n        },\\n        \\\"data\\\": ascii.read(f\\\"{base_dir}/instruments/retr_Magellan_IMACS.txt\\\"),\\n    }\\n}\";\n",
       "                var nbb_formatted_code = \"# Load\\ndata_dict = {\\n    model_name: {\\n        \\\"data\\\": ascii.read(f\\\"{model_dir}/retr_model.txt\\\"),\\n        \\\"sampled_data\\\": ascii.read(\\n            f\\\"{model_dir}/retr_model_sampled_Magellan_IMACS.txt\\\"\\n        ),\\n    }\\n    for (model_name, model_dir) in fpaths_dict.items()\\n}\\n\\ninstrument_dict = {\\n    \\\"Magellan_IMACS\\\": {\\n        \\\"plot_kwargs\\\": {\\n            \\\"c\\\": \\\"w\\\",\\n            \\\"mec\\\": \\\"k\\\",\\n            \\\"fmt\\\": \\\"o\\\",\\n            \\\"ecolor\\\": \\\"k\\\",\\n            \\\"label\\\": \\\"Magellan/IMACS\\\",\\n            \\\"zorder\\\": 10,\\n        },\\n        \\\"data\\\": ascii.read(f\\\"{base_dir}/instruments/retr_Magellan_IMACS.txt\\\"),\\n    }\\n}\";\n",
       "                var nbb_cells = Jupyter.notebook.get_cells();\n",
       "                for (var i = 0; i < nbb_cells.length; ++i) {\n",
       "                    if (nbb_cells[i].input_prompt_number == nbb_cell_id) {\n",
       "                        if (nbb_cells[i].get_text() == nbb_unformatted_code) {\n",
       "                             nbb_cells[i].set_text(nbb_formatted_code);\n",
       "                        }\n",
       "                        break;\n",
       "                    }\n",
       "                }\n",
       "            }, 500);\n",
       "            "
      ],
      "text/plain": [
       "<IPython.core.display.Javascript object>"
      ]
     },
     "metadata": {},
     "output_type": "display_data"
    }
   ],
   "source": [
    "# Load\n",
    "data_dict = {\n",
    "    model_name: {\n",
    "        \"data\": ascii.read(f\"{model_dir}/retr_model.txt\"),\n",
    "        \"sampled_data\": ascii.read(\n",
    "            f\"{model_dir}/retr_model_sampled_Magellan_IMACS.txt\"\n",
    "        ),\n",
    "    }\n",
    "    for (model_name, model_dir) in fpaths_dict.items()\n",
    "}\n",
    "\n",
    "instrument_dict = {\n",
    "    \"Magellan_IMACS\": {\n",
    "        \"plot_kwargs\": {\n",
    "            \"c\": \"w\",\n",
    "            \"mec\": \"k\",\n",
    "            \"fmt\": \"o\",\n",
    "            \"ecolor\": \"k\",\n",
    "            \"label\": \"Magellan/IMACS\",\n",
    "            \"zorder\": 10,\n",
    "        },\n",
    "        \"data\": ascii.read(f\"{base_dir}/instruments/retr_Magellan_IMACS.txt\"),\n",
    "    }\n",
    "}"
   ]
  },
  {
   "cell_type": "markdown",
   "id": "radio-preservation",
   "metadata": {},
   "source": [
    "## Plot"
   ]
  },
  {
   "cell_type": "code",
   "execution_count": 39,
   "id": "unknown-toilet",
   "metadata": {},
   "outputs": [
    {
     "data": {
      "application/javascript": [
       "\n",
       "            setTimeout(function() {\n",
       "                var nbb_cell_id = 39;\n",
       "                var nbb_unformatted_code = \"fig, ax = plt.subplots(figsize=FIG_WIDE)\\n\\nfor (model_name, model_dict) in data_dict.items():\\n    # Plot model\\n    p = utils.plot_model(\\n        ax,\\n        model_dict,\\n        model_kwargs={\\\"label\\\": model_name},\\n        fill_kwargs={\\\"alpha\\\": 0.25},\\n        sample_kwargs={\\\"marker\\\": \\\"o\\\"},\\n    )\\n\\n#############\\n# Instruments\\n#############\\nfor (instrument_name, instrument_data) in instrument_dict.items():\\n    instrument_name = instrument_name.replace(\\\"_\\\", \\\"/\\\")\\n    utils.plot_instrument(ax, instrument_data)\\n\\n####################\\n# Annotate Delta lnZ\\n####################\\n# fpath = f\\\"{models[model_key_name]}/retrieval.pkl\\\"\\n# fpath_flat = f'{models[\\\"K (clear)\\\"]}/retrieval.pkl'\\n# DlnZ, DlnZ_unc, lnZ, lnZ_unc = utils.get_Delta_lnZ(fpath, fpath_flat)\\n# s = f\\\"$\\\\Delta \\\\ln(Z) = {DlnZ:.2f} \\\\pm {DlnZ_unc:.2f}$\\\"\\n# ax.annotate(s, (0.02, 0.05), xycoords=\\\"axes fraction\\\")\\n\\n\\\"\\\"\\\"\\n# Plot inset\\naxins = ax.inset_axes([0.5, 0.5, 0.5, 0.5])\\n# Shortcut to zoom in on last instrument\\np = plot_instrument(axins, instr, instr_sampled, instr_kwargs=configs, sampled_kwargs=sampled_kwargs)\\naxins.set_xlim(p.get_xlim())\\naxins.set_ylim(p.get_ylim())\\nplot_model(axins, model, model_kwargs=model_kwargs, fill_kwargs=fill_kwargs)\\nax.indicate_inset_zoom(axins, alpha=1.0, edgecolor='w')\\n\\\"\\\"\\\"\\n\\nax.set_xlim(0.5, 0.95)\\nax.set_ylim(12_400, 14_500)\\nax.set_xlabel(r\\\"Wavelength $(\\\\mu\\\\mathrm{m})$\\\")\\nax.set_ylabel(\\\"Transit depth (ppm)\\\")\\nax.legend(loc=1, ncol=3, fontsize=14)\\n\\n#########\\n# Species\\n#########\\nspecies = {\\n    \\\"Na I-D\\\": 5892.9,\\n    #'H\\u03b1':6564.6,\\n    \\\"K I_avg\\\": 7682.0,\\n    \\\"Na I-8200_avg\\\": 8189.0,\\n}\\n[\\n    ax.axvline(wav / 10000, lw=0.5, ls=\\\"--\\\", color=\\\"grey\\\", zorder=0)\\n    for name, wav in species.items()\\n]\\n\\n# ax.annotate(f\\\"Python 2\\\", (0.05, 0.9), xycoords='axes fraction')\\n\\n# plt.savefig('/Users/mango/Desktop/exoretrievals_py2.png', dpi=250, bbox_inches='tight')\\n\\nfig.set_size_inches(FIG_WIDE)\\n# fig.tight_layout()\\n# utils.savefig('projects/HATP23b/paper/figures/retrievals/retrieval.pdf')\\n# plt.savefig(f\\\"/Users/mango/Desktop/tspec_haze_mid.pdf\\\", bbox_inches=\\\"tight\\\")\\n# plt.savefig(f'../retrieval/kreidberg/{species}/tspec/retr_{basename}.pdf', bbox_inches='tight')\";\n",
       "                var nbb_formatted_code = \"fig, ax = plt.subplots(figsize=FIG_WIDE)\\n\\nfor (model_name, model_dict) in data_dict.items():\\n    # Plot model\\n    p = utils.plot_model(\\n        ax,\\n        model_dict,\\n        model_kwargs={\\\"label\\\": model_name},\\n        fill_kwargs={\\\"alpha\\\": 0.25},\\n        sample_kwargs={\\\"marker\\\": \\\"o\\\"},\\n    )\\n\\n#############\\n# Instruments\\n#############\\nfor (instrument_name, instrument_data) in instrument_dict.items():\\n    instrument_name = instrument_name.replace(\\\"_\\\", \\\"/\\\")\\n    utils.plot_instrument(ax, instrument_data)\\n\\n####################\\n# Annotate Delta lnZ\\n####################\\n# fpath = f\\\"{models[model_key_name]}/retrieval.pkl\\\"\\n# fpath_flat = f'{models[\\\"K (clear)\\\"]}/retrieval.pkl'\\n# DlnZ, DlnZ_unc, lnZ, lnZ_unc = utils.get_Delta_lnZ(fpath, fpath_flat)\\n# s = f\\\"$\\\\Delta \\\\ln(Z) = {DlnZ:.2f} \\\\pm {DlnZ_unc:.2f}$\\\"\\n# ax.annotate(s, (0.02, 0.05), xycoords=\\\"axes fraction\\\")\\n\\n\\\"\\\"\\\"\\n# Plot inset\\naxins = ax.inset_axes([0.5, 0.5, 0.5, 0.5])\\n# Shortcut to zoom in on last instrument\\np = plot_instrument(axins, instr, instr_sampled, instr_kwargs=configs, sampled_kwargs=sampled_kwargs)\\naxins.set_xlim(p.get_xlim())\\naxins.set_ylim(p.get_ylim())\\nplot_model(axins, model, model_kwargs=model_kwargs, fill_kwargs=fill_kwargs)\\nax.indicate_inset_zoom(axins, alpha=1.0, edgecolor='w')\\n\\\"\\\"\\\"\\n\\nax.set_xlim(0.5, 0.95)\\nax.set_ylim(12_400, 14_500)\\nax.set_xlabel(r\\\"Wavelength $(\\\\mu\\\\mathrm{m})$\\\")\\nax.set_ylabel(\\\"Transit depth (ppm)\\\")\\nax.legend(loc=1, ncol=3, fontsize=14)\\n\\n#########\\n# Species\\n#########\\nspecies = {\\n    \\\"Na I-D\\\": 5892.9,\\n    #'H\\u03b1':6564.6,\\n    \\\"K I_avg\\\": 7682.0,\\n    \\\"Na I-8200_avg\\\": 8189.0,\\n}\\n[\\n    ax.axvline(wav / 10000, lw=0.5, ls=\\\"--\\\", color=\\\"grey\\\", zorder=0)\\n    for name, wav in species.items()\\n]\\n\\n# ax.annotate(f\\\"Python 2\\\", (0.05, 0.9), xycoords='axes fraction')\\n\\n# plt.savefig('/Users/mango/Desktop/exoretrievals_py2.png', dpi=250, bbox_inches='tight')\\n\\nfig.set_size_inches(FIG_WIDE)\\n# fig.tight_layout()\\n# utils.savefig('projects/HATP23b/paper/figures/retrievals/retrieval.pdf')\\n# plt.savefig(f\\\"/Users/mango/Desktop/tspec_haze_mid.pdf\\\", bbox_inches=\\\"tight\\\")\\n# plt.savefig(f'../retrieval/kreidberg/{species}/tspec/retr_{basename}.pdf', bbox_inches='tight')\";\n",
       "                var nbb_cells = Jupyter.notebook.get_cells();\n",
       "                for (var i = 0; i < nbb_cells.length; ++i) {\n",
       "                    if (nbb_cells[i].input_prompt_number == nbb_cell_id) {\n",
       "                        if (nbb_cells[i].get_text() == nbb_unformatted_code) {\n",
       "                             nbb_cells[i].set_text(nbb_formatted_code);\n",
       "                        }\n",
       "                        break;\n",
       "                    }\n",
       "                }\n",
       "            }, 500);\n",
       "            "
      ],
      "text/plain": [
       "<IPython.core.display.Javascript object>"
      ]
     },
     "metadata": {},
     "output_type": "display_data"
    }
   ],
   "source": [
    "fig, ax = plt.subplots(figsize=FIG_WIDE)\n",
    "\n",
    "for (model_name, model_dict) in data_dict.items():\n",
    "    # Plot model\n",
    "    p = utils.plot_model(\n",
    "        ax,\n",
    "        model_dict,\n",
    "        model_kwargs={\"label\": model_name},\n",
    "        fill_kwargs={\"alpha\": 0.25},\n",
    "        sample_kwargs={\"marker\": \"o\"},\n",
    "    )\n",
    "\n",
    "#############\n",
    "# Instruments\n",
    "#############\n",
    "for (instrument_name, instrument_data) in instrument_dict.items():\n",
    "    instrument_name = instrument_name.replace(\"_\", \"/\")\n",
    "    utils.plot_instrument(ax, instrument_data)\n",
    "\n",
    "####################\n",
    "# Annotate Delta lnZ\n",
    "####################\n",
    "# fpath = f\"{models[model_key_name]}/retrieval.pkl\"\n",
    "# fpath_flat = f'{models[\"K (clear)\"]}/retrieval.pkl'\n",
    "# DlnZ, DlnZ_unc, lnZ, lnZ_unc = utils.get_Delta_lnZ(fpath, fpath_flat)\n",
    "# s = f\"$\\Delta \\ln(Z) = {DlnZ:.2f} \\pm {DlnZ_unc:.2f}$\"\n",
    "# ax.annotate(s, (0.02, 0.05), xycoords=\"axes fraction\")\n",
    "\n",
    "\"\"\"\n",
    "# Plot inset\n",
    "axins = ax.inset_axes([0.5, 0.5, 0.5, 0.5])\n",
    "# Shortcut to zoom in on last instrument\n",
    "p = plot_instrument(axins, instr, instr_sampled, instr_kwargs=configs, sampled_kwargs=sampled_kwargs)\n",
    "axins.set_xlim(p.get_xlim())\n",
    "axins.set_ylim(p.get_ylim())\n",
    "plot_model(axins, model, model_kwargs=model_kwargs, fill_kwargs=fill_kwargs)\n",
    "ax.indicate_inset_zoom(axins, alpha=1.0, edgecolor='w')\n",
    "\"\"\"\n",
    "\n",
    "ax.set_xlim(0.5, 0.95)\n",
    "ax.set_ylim(12_400, 14_500)\n",
    "ax.set_xlabel(r\"Wavelength $(\\mu\\mathrm{m})$\")\n",
    "ax.set_ylabel(\"Transit depth (ppm)\")\n",
    "ax.legend(loc=1, ncol=3, fontsize=14)\n",
    "\n",
    "#########\n",
    "# Species\n",
    "#########\n",
    "species = {\n",
    "    \"Na I-D\": 5892.9,\n",
    "    #'Hα':6564.6,\n",
    "    \"K I_avg\": 7682.0,\n",
    "    \"Na I-8200_avg\": 8189.0,\n",
    "}\n",
    "[\n",
    "    ax.axvline(wav / 10000, lw=0.5, ls=\"--\", color=\"grey\", zorder=0)\n",
    "    for name, wav in species.items()\n",
    "]\n",
    "\n",
    "# ax.annotate(f\"Python 2\", (0.05, 0.9), xycoords='axes fraction')\n",
    "\n",
    "# plt.savefig('/Users/mango/Desktop/exoretrievals_py2.png', dpi=250, bbox_inches='tight')\n",
    "\n",
    "fig.set_size_inches(FIG_WIDE)\n",
    "# fig.tight_layout()\n",
    "# utils.savefig('projects/HATP23b/paper/figures/retrievals/retrieval.pdf')\n",
    "# plt.savefig(f\"/Users/mango/Desktop/tspec_haze_mid.pdf\", bbox_inches=\"tight\")\n",
    "# plt.savefig(f'../retrieval/kreidberg/{species}/tspec/retr_{basename}.pdf', bbox_inches='tight')"
   ]
  },
  {
   "cell_type": "markdown",
   "id": "ethical-investigation",
   "metadata": {},
   "source": [
    "## Corner plot"
   ]
  },
  {
   "cell_type": "code",
   "execution_count": 41,
   "id": "oriented-eclipse",
   "metadata": {},
   "outputs": [
    {
     "data": {
      "application/javascript": [
       "\n",
       "            setTimeout(function() {\n",
       "                var nbb_cell_id = 41;\n",
       "                var nbb_unformatted_code = \"fpath = (\\n    \\\"data/retrievals/spot_lower_bound/HATP23_E1_Het_FitP0_NoClouds_NoHaze_fitR0_Na_K_TiO/retrieval.pkl\\\"\\n)\\npost = utils.load_pickle(fpath)\\n\\ndf = pd.DataFrame(post[\\\"samples\\\"])\\n\\nparams = {\\n    \\\"logP0\\\": r\\\"$\\\\log P_0$\\\",\\n    \\\"T\\\": r\\\"$T_\\\\mathrm{p}$\\\",\\n    #     'logH2O':r'$\\\\log \\\\mathrm{H}_2\\\\mathrm{O}$',\\n    \\\"logNa\\\": r\\\"$\\\\log \\\\mathrm{Na}$\\\",\\n    \\\"logK\\\": r\\\"$\\\\log \\\\mathrm{K}$\\\",\\n    \\\"logTiO\\\": r\\\"$\\\\log \\\\mathrm{TiO}$\\\",\\n    \\\"f\\\": r\\\"$f$\\\",\\n}\\n\\nif \\\"_Haze\\\" in fpath:\\n    params[\\\"loga\\\"] = r\\\"$\\\\log a$\\\"\\n    params[\\\"gamma\\\"] = r\\\"$\\\\gamma_\\\\mathrm{haze}$\\\"\\n\\nif \\\"_Het\\\" in fpath:\\n    params[\\\"Tocc\\\"] = r\\\"$T_\\\\mathrm{star}$\\\"\\n    # params[\\\"Thet\\\"] = r\\\"$T_\\\\mathrm{het}$\\\"\\n    # params[\\\"Fhet\\\"] = r\\\"$f_\\\\mathrm{het}$\\\"\\n\\ndf_params = df[params.keys()]\\n\\ncorner_kwargs = {\\\"show_titles\\\": True}\\nhist_kwargs = {\\\"histtype\\\": \\\"stepfilled\\\", \\\"lw\\\": 2, \\\"density\\\": True}\\nfig, axes = utils.plot_corner(\\n    df_params,  # .drop([\\\"Thet\\\", \\\"Fhet\\\"], axis=1),\\n    params=params,\\n    c=f\\\"C5\\\",\\n    corner_kwargs=corner_kwargs,\\n    hist_kwargs=hist_kwargs,\\n)\\n\\nfig.set_size_inches(18, 18)\\n\\n# utils.savefig('projects/HATP23b/paper/figures/retrievals/retrieval_corner.pdf')\\n# plt.savefig(f'../retrieval/kreidberg/{species}/corner/corner_{basename}.pdf', bbox_inches='tight')\\n# plt.savefig(f'/Users/mango/Desktop/corner_{source}_all.pdf', bbox_inches='tight')\\n# plt.savefig(f\\\"/Users/mango/Desktop/corner_test.pdf\\\", bbox_inches=\\\"tight\\\")\";\n",
       "                var nbb_formatted_code = \"fpath = \\\"data/retrievals/spot_lower_bound/HATP23_E1_Het_FitP0_NoClouds_NoHaze_fitR0_Na_K_TiO/retrieval.pkl\\\"\\npost = utils.load_pickle(fpath)\\n\\ndf = pd.DataFrame(post[\\\"samples\\\"])\\n\\nparams = {\\n    \\\"logP0\\\": r\\\"$\\\\log P_0$\\\",\\n    \\\"T\\\": r\\\"$T_\\\\mathrm{p}$\\\",\\n    #     'logH2O':r'$\\\\log \\\\mathrm{H}_2\\\\mathrm{O}$',\\n    \\\"logNa\\\": r\\\"$\\\\log \\\\mathrm{Na}$\\\",\\n    \\\"logK\\\": r\\\"$\\\\log \\\\mathrm{K}$\\\",\\n    \\\"logTiO\\\": r\\\"$\\\\log \\\\mathrm{TiO}$\\\",\\n    \\\"f\\\": r\\\"$f$\\\",\\n}\\n\\nif \\\"_Haze\\\" in fpath:\\n    params[\\\"loga\\\"] = r\\\"$\\\\log a$\\\"\\n    params[\\\"gamma\\\"] = r\\\"$\\\\gamma_\\\\mathrm{haze}$\\\"\\n\\nif \\\"_Het\\\" in fpath:\\n    params[\\\"Tocc\\\"] = r\\\"$T_\\\\mathrm{star}$\\\"\\n    # params[\\\"Thet\\\"] = r\\\"$T_\\\\mathrm{het}$\\\"\\n    # params[\\\"Fhet\\\"] = r\\\"$f_\\\\mathrm{het}$\\\"\\n\\ndf_params = df[params.keys()]\\n\\ncorner_kwargs = {\\\"show_titles\\\": True}\\nhist_kwargs = {\\\"histtype\\\": \\\"stepfilled\\\", \\\"lw\\\": 2, \\\"density\\\": True}\\nfig, axes = utils.plot_corner(\\n    df_params,  # .drop([\\\"Thet\\\", \\\"Fhet\\\"], axis=1),\\n    params=params,\\n    c=f\\\"C5\\\",\\n    corner_kwargs=corner_kwargs,\\n    hist_kwargs=hist_kwargs,\\n)\\n\\nfig.set_size_inches(18, 18)\\n\\n# utils.savefig('projects/HATP23b/paper/figures/retrievals/retrieval_corner.pdf')\\n# plt.savefig(f'../retrieval/kreidberg/{species}/corner/corner_{basename}.pdf', bbox_inches='tight')\\n# plt.savefig(f'/Users/mango/Desktop/corner_{source}_all.pdf', bbox_inches='tight')\\n# plt.savefig(f\\\"/Users/mango/Desktop/corner_test.pdf\\\", bbox_inches=\\\"tight\\\")\";\n",
       "                var nbb_cells = Jupyter.notebook.get_cells();\n",
       "                for (var i = 0; i < nbb_cells.length; ++i) {\n",
       "                    if (nbb_cells[i].input_prompt_number == nbb_cell_id) {\n",
       "                        if (nbb_cells[i].get_text() == nbb_unformatted_code) {\n",
       "                             nbb_cells[i].set_text(nbb_formatted_code);\n",
       "                        }\n",
       "                        break;\n",
       "                    }\n",
       "                }\n",
       "            }, 500);\n",
       "            "
      ],
      "text/plain": [
       "<IPython.core.display.Javascript object>"
      ]
     },
     "metadata": {},
     "output_type": "display_data"
    }
   ],
   "source": [
    "fpath = \"data/retrievals/spot_lower_bound/HATP23_E1_Het_FitP0_NoClouds_NoHaze_fitR0_Na_K_TiO/retrieval.pkl\"\n",
    "post = utils.load_pickle(fpath)\n",
    "\n",
    "df = pd.DataFrame(post[\"samples\"])\n",
    "\n",
    "params = {\n",
    "    \"logP0\": r\"$\\log P_0$\",\n",
    "    \"T\": r\"$T_\\mathrm{p}$\",\n",
    "    #     'logH2O':r'$\\log \\mathrm{H}_2\\mathrm{O}$',\n",
    "    \"logNa\": r\"$\\log \\mathrm{Na}$\",\n",
    "    \"logK\": r\"$\\log \\mathrm{K}$\",\n",
    "    \"logTiO\": r\"$\\log \\mathrm{TiO}$\",\n",
    "    \"f\": r\"$f$\",\n",
    "}\n",
    "\n",
    "if \"_Haze\" in fpath:\n",
    "    params[\"loga\"] = r\"$\\log a$\"\n",
    "    params[\"gamma\"] = r\"$\\gamma_\\mathrm{haze}$\"\n",
    "\n",
    "if \"_Het\" in fpath:\n",
    "    params[\"Tocc\"] = r\"$T_\\mathrm{star}$\"\n",
    "    # params[\"Thet\"] = r\"$T_\\mathrm{het}$\"\n",
    "    # params[\"Fhet\"] = r\"$f_\\mathrm{het}$\"\n",
    "\n",
    "df_params = df[params.keys()]\n",
    "\n",
    "corner_kwargs = {\"show_titles\": True}\n",
    "hist_kwargs = {\"histtype\": \"stepfilled\", \"lw\": 2, \"density\": True}\n",
    "fig, axes = utils.plot_corner(\n",
    "    df_params,  # .drop([\"Thet\", \"Fhet\"], axis=1),\n",
    "    params=params,\n",
    "    c=f\"C5\",\n",
    "    corner_kwargs=corner_kwargs,\n",
    "    hist_kwargs=hist_kwargs,\n",
    ")\n",
    "\n",
    "fig.set_size_inches(18, 18)\n",
    "\n",
    "# utils.savefig('projects/HATP23b/paper/figures/retrievals/retrieval_corner.pdf')\n",
    "# plt.savefig(f'../retrieval/kreidberg/{species}/corner/corner_{basename}.pdf', bbox_inches='tight')\n",
    "# plt.savefig(f'/Users/mango/Desktop/corner_{source}_all.pdf', bbox_inches='tight')\n",
    "# plt.savefig(f\"/Users/mango/Desktop/corner_test.pdf\", bbox_inches=\"tight\")"
   ]
  },
  {
   "cell_type": "markdown",
   "id": "union-undergraduate",
   "metadata": {},
   "source": [
    "## Evidences"
   ]
  },
  {
   "cell_type": "code",
   "execution_count": 162,
   "id": "simple-alloy",
   "metadata": {},
   "outputs": [
    {
     "data": {
      "image/png": "[encoded data removed]",
      "text/plain": [
       "<Figure size 576x792 with 2 Axes>"
      ]
     },
     "metadata": {},
     "output_type": "display_data"
    },
    {
     "data": {
      "application/javascript": [
       "\n",
       "            setTimeout(function() {\n",
       "                var nbb_cell_id = 162;\n",
       "                var nbb_unformatted_code = \"base_dirs = reversed(sorted(glob.glob(\\\"../../ACCESS.jl/src/*fit*\\\")))\\n\\nfig, axes = plt.subplots(2, 1, figsize=FIG_LARGE, sharey=True)\\n\\nfor ax, base_dir in zip(axes.flat, base_dirs):\\n    # Load\\n    df_Delta_lnZ, df_Delta_lnZ_err, species_min, model_min = utils.get_evidences(\\n        base_dir\\n    )\\n\\n    # Plot\\n    p = df_Delta_lnZ.transpose().plot(\\n        ax=ax,\\n        kind=\\\"bar\\\",\\n        width=0.85,\\n        lw=0,\\n        capsize=3,\\n        ecolor=\\\"grey\\\",\\n        # yerr=df_lnZ_err.transpose(),\\n        rot=0,\\n        legend=False,\\n        # xlabel=\\\"Species\\\",\\n        # ylabel=\\\"Relative log-evidence\\\",\\n        # title=f\\\"{base_dir.split('/')[-1]} (Min model: {species_min} {model_min})\\\",\\n    )\\n    title = f\\\"{base_dir.split('/')[-1]} (Min model: {species_min} {model_min})\\\"\\n    p.annotate(title, (0.5, 0.92), xycoords=\\\"axes fraction\\\", ha=\\\"center\\\", fontsize=14)\\n\\n\\n# for i in df_Delta_lnZ.columns:\\n# ax.plot(label=i)\\n\\nfig.legend(labels=df_Delta_lnZ.index, bbox_to_anchor=(1.48, 0.65))\\n\\nax.set_ylim(0, 8)\\nax.set_xlabel(\\\"Species\\\")\\nfig.text(-0.02, 0.42, \\\"Relative log-evidence\\\", rotation=\\\"vertical\\\")\\n\\n\\nfig.tight_layout()\\nfig.set_size_inches(FIG_LARGE)\\n\\nutils.savefig(\\\"/home/mango/Desktop/fit_R0.png\\\")\";\n",
       "                var nbb_formatted_code = \"base_dirs = reversed(sorted(glob.glob(\\\"../../ACCESS.jl/src/*fit*\\\")))\\n\\nfig, axes = plt.subplots(2, 1, figsize=FIG_LARGE, sharey=True)\\n\\nfor ax, base_dir in zip(axes.flat, base_dirs):\\n    # Load\\n    df_Delta_lnZ, df_Delta_lnZ_err, species_min, model_min = utils.get_evidences(\\n        base_dir\\n    )\\n\\n    # Plot\\n    p = df_Delta_lnZ.transpose().plot(\\n        ax=ax,\\n        kind=\\\"bar\\\",\\n        width=0.85,\\n        lw=0,\\n        capsize=3,\\n        ecolor=\\\"grey\\\",\\n        # yerr=df_lnZ_err.transpose(),\\n        rot=0,\\n        legend=False,\\n        # xlabel=\\\"Species\\\",\\n        # ylabel=\\\"Relative log-evidence\\\",\\n        # title=f\\\"{base_dir.split('/')[-1]} (Min model: {species_min} {model_min})\\\",\\n    )\\n    title = f\\\"{base_dir.split('/')[-1]} (Min model: {species_min} {model_min})\\\"\\n    p.annotate(title, (0.5, 0.92), xycoords=\\\"axes fraction\\\", ha=\\\"center\\\", fontsize=14)\\n\\n\\n# for i in df_Delta_lnZ.columns:\\n# ax.plot(label=i)\\n\\nfig.legend(labels=df_Delta_lnZ.index, bbox_to_anchor=(1.48, 0.65))\\n\\nax.set_ylim(0, 8)\\nax.set_xlabel(\\\"Species\\\")\\nfig.text(-0.02, 0.42, \\\"Relative log-evidence\\\", rotation=\\\"vertical\\\")\\n\\n\\nfig.tight_layout()\\nfig.set_size_inches(FIG_LARGE)\\n\\nutils.savefig(\\\"/home/mango/Desktop/fit_R0.png\\\")\";\n",
       "                var nbb_cells = Jupyter.notebook.get_cells();\n",
       "                for (var i = 0; i < nbb_cells.length; ++i) {\n",
       "                    if (nbb_cells[i].input_prompt_number == nbb_cell_id) {\n",
       "                        if (nbb_cells[i].get_text() == nbb_unformatted_code) {\n",
       "                             nbb_cells[i].set_text(nbb_formatted_code);\n",
       "                        }\n",
       "                        break;\n",
       "                    }\n",
       "                }\n",
       "            }, 500);\n",
       "            "
      ],
      "text/plain": [
       "<IPython.core.display.Javascript object>"
      ]
     },
     "metadata": {},
     "output_type": "display_data"
    }
   ],
   "source": [
    "base_dirs = reversed(sorted(glob.glob(\"../../ACCESS.jl/src/*fit*\")))\n",
    "\n",
    "fig, axes = plt.subplots(2, 1, figsize=FIG_LARGE, sharey=True)\n",
    "\n",
    "for ax, base_dir in zip(axes.flat, base_dirs):\n",
    "    # Load\n",
    "    df_Delta_lnZ, df_Delta_lnZ_err, species_min, model_min = utils.get_evidences(\n",
    "        base_dir\n",
    "    )\n",
    "\n",
    "    # Plot\n",
    "    p = df_Delta_lnZ.transpose().plot(\n",
    "        ax=ax,\n",
    "        kind=\"bar\",\n",
    "        width=0.85,\n",
    "        lw=0,\n",
    "        capsize=3,\n",
    "        ecolor=\"grey\",\n",
    "        # yerr=df_lnZ_err.transpose(),\n",
    "        rot=0,\n",
    "        legend=False,\n",
    "        # xlabel=\"Species\",\n",
    "        # ylabel=\"Relative log-evidence\",\n",
    "        # title=f\"{base_dir.split('/')[-1]} (Min model: {species_min} {model_min})\",\n",
    "    )\n",
    "    title = f\"{base_dir.split('/')[-1]} (Min model: {species_min} {model_min})\"\n",
    "    p.annotate(title, (0.5, 0.92), xycoords=\"axes fraction\", ha=\"center\", fontsize=14)\n",
    "\n",
    "\n",
    "# for i in df_Delta_lnZ.columns:\n",
    "# ax.plot(label=i)\n",
    "\n",
    "fig.legend(labels=df_Delta_lnZ.index, bbox_to_anchor=(1.48, 0.65))\n",
    "\n",
    "ax.set_ylim(0, 8)\n",
    "ax.set_xlabel(\"Species\")\n",
    "fig.text(-0.02, 0.42, \"Relative log-evidence\", rotation=\"vertical\")\n",
    "\n",
    "\n",
    "fig.tight_layout()\n",
    "fig.set_size_inches(FIG_LARGE)\n",
    "\n",
    "utils.savefig(\"/home/mango/Desktop/fit_R0.png\")"
   ]
  },
  {
   "cell_type": "code",
   "execution_count": null,
   "id": "julian-medicine",
   "metadata": {},
   "outputs": [],
   "source": []
  },
  {
   "cell_type": "code",
   "execution_count": null,
   "id": "educational-warner",
   "metadata": {},
   "outputs": [],
   "source": []
  },
  {
   "cell_type": "code",
   "execution_count": null,
   "id": "thrown-amplifier",
   "metadata": {},
   "outputs": [],
   "source": []
  },
  {
   "cell_type": "code",
   "execution_count": null,
   "id": "lovely-briefing",
   "metadata": {},
   "outputs": [],
   "source": []
  },
  {
   "cell_type": "code",
   "execution_count": null,
   "id": "chinese-arkansas",
   "metadata": {},
   "outputs": [],
   "source": []
  },
  {
   "cell_type": "code",
   "execution_count": null,
   "id": "maritime-favorite",
   "metadata": {},
   "outputs": [],
   "source": []
  }
 ],
 "metadata": {
  "kernelspec": {
   "display_name": "Python 3",
   "language": "python",
   "name": "python3"
  },
  "language_info": {
   "codemirror_mode": {
    "name": "ipython",
    "version": 3
   },
   "file_extension": ".py",
   "mimetype": "text/x-python",
   "name": "python",
   "nbconvert_exporter": "python",
   "pygments_lexer": "ipython3",
   "version": "3.9.1"
  }
 },
 "nbformat": 4,
 "nbformat_minor": 5
}
