{
 "cells": [
  {
   "cell_type": "code",
   "execution_count": 56,
   "id": "alternative-stand",
   "metadata": {},
   "outputs": [],
   "source": [
    "def set_param(line, params):\n",
    "    for (name, val) in params.items():\n",
    "        if f\"{name} =\" in line:\n",
    "            line = f\"{name} = {val}\\n\"\n",
    "    else:\n",
    "        line = line\n",
    "     \n",
    "    return line\n",
    "        \n",
    "params = {\n",
    "    \"base_dir\":'\"spot_upper_fixed_R0\"',\n",
    "    \"spot_temp\":\"3800.0\",\n",
    "    \"spot_frac\":\"0.026\",\n",
    "    \"fit_R0\":\"True\",\n",
    "    \"molecules\":'[\"Na\", \"K\", \"TiO\"]',\n",
    "    \"clouds\":\"True\",\n",
    "    \"hazes\":\"True\",\n",
    "    \"heterogeneity\":\"True\",\n",
    "}\n",
    "\n",
    "lines = []\n",
    "with open(\"opts.py\", \"r\") as f:\n",
    "    for line in f.readlines():\n",
    "        line = set_param(line, params)\n",
    "        lines.append(line)\n",
    "        \n",
    "with open(\"opts.py\", \"w\") as f:\n",
    "    for line in lines:\n",
    "        f.write(line)"
   ]
  },
  {
   "cell_type": "code",
   "execution_count": 63,
   "id": "domestic-manual",
   "metadata": {},
   "outputs": [
    {
     "name": "stdout",
     "output_type": "stream",
     "text": [
      "Total number of runs: 0\n"
     ]
    }
   ],
   "source": [
    "import os\n",
    "\n",
    "i = 0\n",
    "spot_temp = 3800.0\n",
    "spot_frac = 0.026\n",
    "for (base_dir, fit_R0) in zip([\"spot_upper_fixed_R0\", \"spot_upper_fit_R0\"], [False, True]):\n",
    "    for molecules in [\n",
    "        \"Na\",\n",
    "        \"K\",\n",
    "        \"TiO\",\n",
    "        '[\"Na\", \"K\"]',\n",
    "        '[\"Na\", \"TiO\"]',\n",
    "        '[\"K\", \"TiO\"]',\n",
    "        '[\"Na\", \"K\", \"TiO\"]',\n",
    "\n",
    "    ]:\n",
    "        for clouds in [False, True]:\n",
    "            for hazes in [False, True]:\n",
    "                for heterogeneity in [False, True]:\n",
    "                    if (not heterogeneity and (clouds and hazes)): continue\n",
    "                    params = {\n",
    "                        \"base_dir\":f'\"{base_dir}\"',\n",
    "                        \"spot_temp\":f\"{spot_temp}\",\n",
    "                        \"spot_frac\":f\"{spot_frac}\",\n",
    "                        \"fit_R0\":f\"{fit_R0}\",\n",
    "                        \"molecules\":f'{molecules}',\n",
    "                        \"clouds\":f\"{clouds}\",\n",
    "                        \"hazes\":f\"{hazes}\",\n",
    "                        \"heterogeneity\":f\"{heterogeneity}\",\n",
    "                    }\n",
    "                    # Modify opts.py file\n",
    "                    lines = []\n",
    "                    with open(\"opts.py\", \"r\") as f:\n",
    "                        for line in f.readlines():\n",
    "                            line = set_param(line, params)\n",
    "                            lines.append(line)\n",
    "\n",
    "                    with open(\"opts.py\", \"w\") as f:\n",
    "                        for line in lines:\n",
    "                            f.write(line)\n",
    "                            \n",
    "                    os.system(\"python3 opts.py\")\n",
    "\n",
    "#                     # Submit job\n",
    "#                     os.system( # run job script\n",
    "#                         \"python3 q.py\"\n",
    "#                     )\n",
    "#                     i += 1\n",
    "                    #sys.exit()\n",
    "\n",
    "print(f\"Total number of runs: {i}\")"
   ]
  },
  {
   "cell_type": "code",
   "execution_count": 67,
   "id": "previous-shoot",
   "metadata": {},
   "outputs": [],
   "source": [
    "import time\n",
    "time.sleep(10)"
   ]
  },
  {
   "cell_type": "code",
   "execution_count": null,
   "id": "hydraulic-lotus",
   "metadata": {},
   "outputs": [],
   "source": []
  }
 ],
 "metadata": {
  "kernelspec": {
   "display_name": "Python 3",
   "language": "python",
   "name": "python3"
  },
  "language_info": {
   "codemirror_mode": {
    "name": "ipython",
    "version": 3
   },
   "file_extension": ".py",
   "mimetype": "text/x-python",
   "name": "python",
   "nbconvert_exporter": "python",
   "pygments_lexer": "ipython3",
   "version": "3.9.1"
  }
 },
 "nbformat": 4,
 "nbformat_minor": 5
}
