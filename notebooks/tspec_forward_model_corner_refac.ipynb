{
 "cells": [
  {
   "cell_type": "markdown",
   "id": "based-charger",
   "metadata": {},
   "source": [
    "# Forward model corner plot"
   ]
  },
  {
   "cell_type": "code",
   "execution_count": 1,
   "id": "charged-transaction",
   "metadata": {},
   "outputs": [],
   "source": [
    "%load_ext autoreload\n",
    "%autoreload 2"
   ]
  },
  {
   "cell_type": "code",
   "execution_count": 8,
   "id": "stable-large",
   "metadata": {},
   "outputs": [],
   "source": [
    "### Full version working\n",
    "import pdb, sys, os\n",
    "import numpy as np\n",
    "import matplotlib\n",
    "import matplotlib.pyplot as plt\n",
    "import seaborn as sns\n",
    "import os.path\n",
    "import sys\n",
    "import utils\n",
    "import itertools\n",
    "\n",
    "from pylab import *\n",
    "from netCDF4 import *\n",
    "\n",
    "# import pyexcel\n",
    "import scipy.stats as stats\n",
    "from scipy.interpolate import griddata\n",
    "from matplotlib.ticker import AutoMinorLocator\n",
    "\n",
    "# Default figure dimensions\n",
    "FIG_WIDE = (11, 5)\n",
    "FIG_LARGE = (8, 11)\n",
    "\n",
    "# Figure style\n",
    "sns.set(style=\"ticks\", palette=\"colorblind\", color_codes=True, context=\"talk\")\n",
    "params = utils.plot_params()\n",
    "plt.rcParams.update(params)\n",
    "\n",
    "import glob"
   ]
  },
  {
   "cell_type": "markdown",
   "id": "characteristic-geology",
   "metadata": {},
   "source": [
    "## Load"
   ]
  },
  {
   "cell_type": "code",
   "execution_count": 68,
   "id": "special-navigator",
   "metadata": {},
   "outputs": [],
   "source": [
    "base_dir = \"data/tspec_forward_model_corner\"\n",
    "target = \"HAT-P-23\"\n",
    "data_dict = {\n",
    "    # Matrix of chisq values: N_models x N_iterations?\n",
    "    \"chisq\": np.loadtxt(f\"{base_dir}/{target}_iso_chi_square_local_GAIA_DR2.out\", delimiter=','),\n",
    "    \"offset\":      np.loadtxt(f\"{base_dir}/{target}_iso_offsetarray_local_GAIA_DR2.out\", delimiter=','),\n",
    "    # Corresponding matrix of parameter values: N_models x N_params\n",
    "    \"model_params\":  np.genfromtxt(\n",
    "        f\"{base_dir}/{target}_iso_model_name_local_GAIA_DR2.out\",\n",
    "        delimiter = '_',\n",
    "        usecols = range(1, 7),\n",
    "        names = [\"Temperature\", \"Gravity\", \"Metallicity\", r\"C/O-ratio\", \"Haze\", \"Clouds\"],\n",
    "        deletechars='',\n",
    "    ),\n",
    "}"
   ]
  },
  {
   "cell_type": "markdown",
   "id": "russian-terry",
   "metadata": {},
   "source": [
    "## Compute"
   ]
  },
  {
   "cell_type": "code",
   "execution_count": 69,
   "id": "qualified-concord",
   "metadata": {},
   "outputs": [],
   "source": [
    "chi_squared_stat3 = data_dict[\"chisq\"]\n",
    "min_chi3 = np.min(chi_squared_stat3)\n",
    "min_coords = np.argwhere(chi_squared_stat3 == min_chi3)[0]\n",
    "min_index_chi3 = min_coords[0]\n",
    "min_index_chi3_offset = min_coords[1]"
   ]
  },
  {
   "cell_type": "code",
   "execution_count": 70,
   "id": "announced-jewel",
   "metadata": {},
   "outputs": [],
   "source": [
    "# Minimum chisq Model Parameters: (temp, gravity, metal, co, haze, cloud)\n",
    "model_params = data_dict[\"model_params\"]\n",
    "min_model_params = model_params[min_index_chi3]"
   ]
  },
  {
   "cell_type": "code",
   "execution_count": 72,
   "id": "fatal-invasion",
   "metadata": {},
   "outputs": [],
   "source": [
    "param_ranges = {\n",
    "    \"Temperature\": np.arange(400, 2700, 100.0),\n",
    "    \"Gravity\": np.array([20, 50.0]),\n",
    "    \"Metallicity\": np.array([-1, 0, 1, 1.7, 2, 2.3]),\n",
    "    \"C/O-ratio\": np.array([0.35, 0.56, 0.70, 1]),\n",
    "    \"Haze\": np.array([1, 10, 150, 1100.0]) ,\n",
    "    \"Clouds\": np.array([0, 0.06, 0.2, 1]), # Cloud bottom\n",
    "}\n",
    "\n",
    "def match_params(\n",
    "    params_ranges,\n",
    "    variablex,\n",
    "    variabley,\n",
    "    i,\n",
    "    j,\n",
    "    params=model_params,\n",
    "    chi_vals=chi_squared_stat3,\n",
    "    min_chi=min_chi3,\n",
    "):\n",
    "    # Select parameter pair to search for\n",
    "    param_val_1, param_val_2 = param_ranges[variablex][i], param_ranges[variabley][j]\n",
    "    \n",
    "    # Match to chi_squared array\n",
    "    #print(f\"Trying match for ({variablex}, {variabley}) at ({param_val_1}, {param_val_2})\")\n",
    "    #print(params[variablex], params[variabley])\n",
    "    params_match = np.where((params[variablex] == param_val_1) & (params[variabley] == param_val_2))[0]\n",
    "    \n",
    "    if params_match.size == 0:\n",
    "        #print(\"No match\\n\")\n",
    "        return -1\n",
    "\n",
    "    # Compute \n",
    "    chi1 = np.min(chi_vals[params_match], axis=1)\n",
    "    chi2 = np.min(chi1) - min_chi3\n",
    "    mapname = [param_val_1, param_val_2, chi2]\n",
    "    #print(\"Match!\\n\")\n",
    "    return mapname\n",
    "\n",
    "\n",
    "map_dict = {}\n",
    "for param_x, param_y in itertools.combinations(param_ranges.items(), 2):\n",
    "    param_x_name, param_y_name = param_x[0], param_y[0]\n",
    "    param_x_length, param_y_length = len(param_x[1]), len(param_y[1])\n",
    "    map_vals = np.array([\n",
    "        match_params(param_ranges, param_x_name, param_y_name, i, j)\n",
    "        for i in range(param_x_length) for j in range(param_y_length)\n",
    "    ])\n",
    "    \n",
    "    map_dict[f\"{param_x_name}_{param_y_name}\"] = map_vals\n",
    "    \n",
    "#        x = [match_params(param_ranges, \"Temperature\", \"Gravity\", i, j) for i in range(3) for j in range(3)]\n",
    "#match_params(param_ranges, \"Temperature\", \"Gravity\", 2, 0)"
   ]
  },
  {
   "cell_type": "code",
   "execution_count": null,
   "id": "imperial-foster",
   "metadata": {},
   "outputs": [],
   "source": [
    "def plot_contour_map(ax, mapname):\n",
    "    map_variable_x = mapname[:, 0]  # temp_metal_matrix[:,1]\n",
    "    map_variable_y = mapname[:, 1]\n",
    "    xi = np.linspace(min(map_variable_x), max(map_variable_x), 100)\n",
    "    yi = np.linspace(min(map_variable_y), max(map_variable_y), 100)\n",
    "\n",
    "    Z_interp = griddata(\n",
    "        (map_variable_x, map_variable_y),\n",
    "        mapname[:, 2],\n",
    "        (xi[None, :], yi[:, None]),\n",
    "    )\n",
    "\n",
    "    # levels = [25, 30, 35, 40, 45]\n",
    "    # levels = [0, 2.30, 3.22, 4.61, 5.99, 6.18, 9.21, 11.83, 13.82, 19.33]\n",
    "    levels = [\n",
    "        0,\n",
    "        2.30,\n",
    "        6.18,\n",
    "        11.83,\n",
    "        19.33,\n",
    "    ]  # How many free parameters were used to calculate these intervals from the big chisquare table\n",
    "\n",
    "    line2 = ax.contourf(\n",
    "        xi, yi, Z_interp, levels, cmap=\"afmhot\", vmin=0, vmax=30\n",
    "    )  ### vmax has been changed from 19.33 to 25 to make end darker"
   ]
  },
  {
   "cell_type": "code",
   "execution_count": 75,
   "id": "communist-trade",
   "metadata": {},
   "outputs": [
    {
     "data": {
      "image/png": "[encoded data removed]",
      "text/plain": [
       "<Figure size 432x288 with 1 Axes>"
      ]
     },
     "metadata": {},
     "output_type": "display_data"
    }
   ],
   "source": [
    "fig, ax = plt.subplots()\n",
    "mapname = map_dict[\"Gravity_C/O-ratio\"]\n",
    "plot_contour_map(ax, mapname)"
   ]
  }
 ],
 "metadata": {
  "kernelspec": {
   "display_name": "Python 3",
   "language": "python",
   "name": "python3"
  },
  "language_info": {
   "codemirror_mode": {
    "name": "ipython",
    "version": 3
   },
   "file_extension": ".py",
   "mimetype": "text/x-python",
   "name": "python",
   "nbconvert_exporter": "python",
   "pygments_lexer": "ipython3",
   "version": "3.9.1"
  }
 },
 "nbformat": 4,
 "nbformat_minor": 5
}
