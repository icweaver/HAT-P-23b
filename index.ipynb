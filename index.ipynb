{
 "cells": [
  {
   "cell_type": "markdown",
   "id": "revised-stanley",
   "metadata": {},
   "source": [
    "# ACCESS: An optical transmission spectrum of the high gravity, hot Jupiter HAT-P-23b"
   ]
  },
  {
   "cell_type": "markdown",
   "id": "stuck-audit",
   "metadata": {},
   "source": [
    "## Notebook setup"
   ]
  },
  {
   "cell_type": "markdown",
   "id": "focal-vitamin",
   "metadata": {},
   "source": [
    "These notebooks makes use of a separate [`utils.py`](https://github.com/icweaver/HAT-P-23b/blob/main/notebooks/utils.py) file containing different utility functions. If using `conda`, this environment can be reproduced with:\n",
    "\n",
    "```shell\n",
    "conda env create -f env_hatp23.yml; conda activate \"hatp23\"\n",
    "```\n",
    "\n",
    "using the environement file provided in the main [repo](https://github.com/icweaver/HAT-P-23b)."
   ]
  },
  {
   "cell_type": "markdown",
   "id": "growing-incidence",
   "metadata": {},
   "source": [
    "## Plotting routines"
   ]
  },
  {
   "cell_type": "markdown",
   "id": "earned-disposition",
   "metadata": {},
   "source": [
    "- [Figure 1: 2D Spectra](https://icweaver.github.io/HAT-P-23b/html/fig_01.html)\n",
    "- [Figure 2: Extracted spectra](https://icweaver.github.io/HAT-P-23b/html/fig_02.html)\n",
    "- [Figure 3: Extracted WLCs](https://icweaver.github.io/HAT-P-23b/html/fig_03.html)\n",
    "- [Figure 4: GP+PCA detrended WLCs](https://icweaver.github.io/HAT-P-23b/html/fig_04.html)\n",
    "- [Figure 5: Photometric monitoring](https://icweaver.github.io/HAT-P-23b/html/fig_05.html)\n",
    "- [Figure 6 and 7: Transmission spectra](https://icweaver.github.io/HAT-P-23b/html/fig_06.html)\n",
    "- [Figure 8: Forward model](https://icweaver.github.io/HAT-P-23b/html/fig_08.html)\n",
    "- [Figure 9: Cloudy vs. clear prediction](https://icweaver.github.io/HAT-P-23b/html/fig_09.html)\n",
    "- [Figure 10: Detrended WLC corner plots](https://icweaver.github.io/HAT-P-23b/html/fig_10.html)\n",
    "- [Figures 11-15: Detrended binned WLCs](https://icweaver.github.io/HAT-P-23b/html/fig_11.html)"
   ]
  }
 ],
 "metadata": {
  "kernelspec": {
   "display_name": "Python 3",
   "language": "python",
   "name": "python3"
  },
  "language_info": {
   "codemirror_mode": {
    "name": "ipython",
    "version": 3
   },
   "file_extension": ".py",
   "mimetype": "text/x-python",
   "name": "python",
   "nbconvert_exporter": "python",
   "pygments_lexer": "ipython3",
   "version": "3.9.1"
  }
 },
 "nbformat": 4,
 "nbformat_minor": 5
}
